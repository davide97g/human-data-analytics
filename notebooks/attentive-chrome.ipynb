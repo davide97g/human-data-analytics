{
 "cells": [
  {
   "cell_type": "code",
   "execution_count": 88,
   "metadata": {},
   "outputs": [],
   "source": [
    "import kipoi\n",
    "import os\n",
    "from sklearn.metrics import roc_auc_score, accuracy_score\n",
    "import numpy as np\n",
    "import pandas as pd\n",
    "\n",
    "data_path = \"../dataset/data/\"\n",
    "folders = os.listdir(data_path)"
   ]
  },
  {
   "cell_type": "code",
   "execution_count": 89,
   "metadata": {},
   "outputs": [],
   "source": [
    "results = []"
   ]
  },
  {
   "cell_type": "code",
   "execution_count": 90,
   "metadata": {},
   "outputs": [],
   "source": [
    "def AUC(model,predictions):\n",
    "    # read test csv\n",
    "    test_labels = pd.read_csv(f\"{data_path}{model}/classification/test.csv\", header=None,index_col=None)\n",
    "    true_labels = []\n",
    "    for i in range(len(predictions)):\n",
    "        true_labels.append(test_labels.iloc[i*100][7])\n",
    "    assert(len(true_labels)==len(predictions))    \n",
    "    return roc_auc_score(true_labels, predictions)        "
   ]
  },
  {
   "cell_type": "code",
   "execution_count": 2,
   "metadata": {},
   "outputs": [],
   "source": [
    "def save_results(results):\n",
    "    cell_types = [x[0] for x in results]\n",
    "    aucs = [x[1] for x in results]\n",
    "    df = pd.DataFrame(list(zip(cell_types, aucs)),\n",
    "               columns =['Cell-Type', 'AUC'])\n",
    "    df.to_csv(\"../results/attentive_chrome.csv\", index=False)\n",
    "    print(f\"Saved attentive_chrome.csv ({len(results)} rows)\")"
   ]
  },
  {
   "cell_type": "code",
   "execution_count": 99,
   "metadata": {},
   "outputs": [
    {
     "name": "stderr",
     "output_type": "stream",
     "text": [
      "\r",
      "0it [00:00, ?it/s]"
     ]
    },
    {
     "name": "stdout",
     "output_type": "stream",
     "text": [
      "E059 doesn't exists\n",
      "Number of genes: 6600\n",
      "Number of entries: 660000\n",
      "Number of HMs: 7\n"
     ]
    },
    {
     "name": "stderr",
     "output_type": "stream",
     "text": [
      "207it [00:52,  3.92it/s]\n"
     ]
    },
    {
     "name": "stdout",
     "output_type": "stream",
     "text": [
      "E059 -> AUC: 0.877708224712946\n"
     ]
    },
    {
     "name": "stderr",
     "output_type": "stream",
     "text": [
      "\r",
      "0.00B [00:00, ?B/s]"
     ]
    },
    {
     "name": "stdout",
     "output_type": "stream",
     "text": [
      "Downloading https://zenodo.org/api/files/2bf982b6-143f-49f6-b9ad-1b1e60f67292/E061_attchrome_avgAUC_model.pt?download=1 to C:\\Users\\ghiot\\.kipoi\\models\\AttentiveChrome\\downloaded\\model_files\\E061\\weights\\0f777b410ade532bba4d0b90e827bb31\n"
     ]
    },
    {
     "name": "stderr",
     "output_type": "stream",
     "text": [
      " 57%|████████████████████████████████████████████▉                                  | 131k/231k [00:01<00:09, 11.0kB/s]C:\\ProgramData\\Anaconda3\\lib\\site-packages\\torch\\nn\\modules\\rnn.py:60: UserWarning: dropout option adds dropout after all but last recurrent layer, so non-zero dropout expects num_layers greater than 1, but got dropout=0.5 and num_layers=1\n",
      "  warnings.warn(\"dropout option adds dropout after all but last \"\n",
      "238kB [00:01, 125kB/s]                                                                                                 \n",
      "0it [00:00, ?it/s]"
     ]
    },
    {
     "name": "stdout",
     "output_type": "stream",
     "text": [
      "Number of genes: 6600\n",
      "Number of entries: 660000\n",
      "Number of HMs: 7\n"
     ]
    },
    {
     "name": "stderr",
     "output_type": "stream",
     "text": [
      "207it [00:54,  3.80it/s]\n"
     ]
    },
    {
     "name": "stdout",
     "output_type": "stream",
     "text": [
      "E061 -> AUC: 0.843655207326524\n"
     ]
    },
    {
     "name": "stderr",
     "output_type": "stream",
     "text": [
      "\r",
      "0.00B [00:00, ?B/s]"
     ]
    },
    {
     "name": "stdout",
     "output_type": "stream",
     "text": [
      "Downloading https://zenodo.org/api/files/2bf982b6-143f-49f6-b9ad-1b1e60f67292/E062_attchrome_avgAUC_model.pt?download=1 to C:\\Users\\ghiot\\.kipoi\\models\\AttentiveChrome\\downloaded\\model_files\\E062\\weights\\f29133dd6809c451dfe94e9a8dfebe18\n"
     ]
    },
    {
     "name": "stderr",
     "output_type": "stream",
     "text": [
      " 36%|███████████████████████████▋                                                  | 81.9k/231k [00:00<00:09, 15.7kB/s]C:\\ProgramData\\Anaconda3\\lib\\site-packages\\torch\\nn\\modules\\rnn.py:60: UserWarning: dropout option adds dropout after all but last recurrent layer, so non-zero dropout expects num_layers greater than 1, but got dropout=0.5 and num_layers=1\n",
      "  warnings.warn(\"dropout option adds dropout after all but last \"\n",
      "238kB [00:00, 248kB/s]                                                                                                 \n",
      "0it [00:00, ?it/s]"
     ]
    },
    {
     "name": "stdout",
     "output_type": "stream",
     "text": [
      "Number of genes: 6600\n",
      "Number of entries: 660000\n",
      "Number of HMs: 7\n"
     ]
    },
    {
     "name": "stderr",
     "output_type": "stream",
     "text": [
      "207it [01:07,  3.05it/s]\n"
     ]
    },
    {
     "name": "stdout",
     "output_type": "stream",
     "text": [
      "E062 -> AUC: 0.8252036180372039\n"
     ]
    },
    {
     "name": "stderr",
     "output_type": "stream",
     "text": [
      "\r",
      "0.00B [00:00, ?B/s]"
     ]
    },
    {
     "name": "stdout",
     "output_type": "stream",
     "text": [
      "Downloading https://zenodo.org/api/files/2bf982b6-143f-49f6-b9ad-1b1e60f67292/E065_attchrome_avgAUC_model.pt?download=1 to C:\\Users\\ghiot\\.kipoi\\models\\AttentiveChrome\\downloaded\\model_files\\E065\\weights\\c29295513ed0af1f038be4d1a2846fe5\n"
     ]
    },
    {
     "name": "stderr",
     "output_type": "stream",
     "text": [
      " 96%|███████████████████████████████████████████████████████████████████████████▊   | 221k/231k [00:02<00:00, 12.1kB/s]C:\\ProgramData\\Anaconda3\\lib\\site-packages\\torch\\nn\\modules\\rnn.py:60: UserWarning: dropout option adds dropout after all but last recurrent layer, so non-zero dropout expects num_layers greater than 1, but got dropout=0.5 and num_layers=1\n",
      "  warnings.warn(\"dropout option adds dropout after all but last \"\n",
      "238kB [00:02, 102kB/s]                                                                                                 \n",
      "0it [00:00, ?it/s]"
     ]
    },
    {
     "name": "stdout",
     "output_type": "stream",
     "text": [
      "Number of genes: 6600\n",
      "Number of entries: 660000\n",
      "Number of HMs: 7\n"
     ]
    },
    {
     "name": "stderr",
     "output_type": "stream",
     "text": [
      "207it [01:00,  3.43it/s]\n"
     ]
    },
    {
     "name": "stdout",
     "output_type": "stream",
     "text": [
      "E065 -> AUC: 0.7737668068710722\n"
     ]
    },
    {
     "name": "stderr",
     "output_type": "stream",
     "text": [
      "\r",
      "0.00B [00:00, ?B/s]"
     ]
    },
    {
     "name": "stdout",
     "output_type": "stream",
     "text": [
      "Downloading https://zenodo.org/api/files/2bf982b6-143f-49f6-b9ad-1b1e60f67292/E066_attchrome_avgAUC_model.pt?download=1 to C:\\Users\\ghiot\\.kipoi\\models\\AttentiveChrome\\downloaded\\model_files\\E066\\weights\\2e6ddfc87be8e2a1f86b6fc22a32c228\n"
     ]
    },
    {
     "name": "stderr",
     "output_type": "stream",
     "text": [
      " 43%|█████████████████████████████████▏                                            | 98.3k/231k [00:00<00:08, 15.6kB/s]C:\\ProgramData\\Anaconda3\\lib\\site-packages\\torch\\nn\\modules\\rnn.py:60: UserWarning: dropout option adds dropout after all but last recurrent layer, so non-zero dropout expects num_layers greater than 1, but got dropout=0.5 and num_layers=1\n",
      "  warnings.warn(\"dropout option adds dropout after all but last \"\n",
      "\n",
      "238kB [00:00, 243kB/s]                                                                                                 \n"
     ]
    },
    {
     "name": "stdout",
     "output_type": "stream",
     "text": [
      "Number of genes: 6600\n",
      "Number of entries: 660000\n",
      "Number of HMs: 7\n"
     ]
    },
    {
     "name": "stderr",
     "output_type": "stream",
     "text": [
      "\n",
      "1it [00:19, 19.25s/it]\u001b[A\n",
      "2it [00:19, 13.54s/it]\u001b[A\n",
      "3it [00:19,  9.53s/it]\u001b[A\n",
      "4it [00:19,  6.72s/it]\u001b[A\n",
      "5it [00:19,  4.76s/it]\u001b[A\n",
      "6it [00:20,  3.39s/it]\u001b[A\n",
      "7it [00:20,  2.43s/it]\u001b[A\n",
      "8it [00:20,  1.75s/it]\u001b[A\n",
      "9it [00:20,  1.28s/it]\u001b[A\n",
      "10it [00:20,  1.05it/s]\u001b[A\n",
      "11it [00:21,  1.39it/s]\u001b[A\n",
      "12it [00:21,  1.80it/s]\u001b[A\n",
      "13it [00:21,  2.26it/s]\u001b[A\n",
      "14it [00:21,  2.72it/s]\u001b[A\n",
      "15it [00:21,  3.24it/s]\u001b[A\n",
      "16it [00:21,  3.67it/s]\u001b[A\n",
      "17it [00:22,  4.07it/s]\u001b[A\n",
      "18it [00:22,  4.43it/s]\u001b[A\n",
      "19it [00:22,  4.76it/s]\u001b[A\n",
      "20it [00:22,  4.90it/s]\u001b[A\n",
      "21it [00:22,  5.12it/s]\u001b[A\n",
      "22it [00:23,  5.25it/s]\u001b[A\n",
      "23it [00:23,  5.36it/s]\u001b[A\n",
      "24it [00:23,  5.37it/s]\u001b[A\n",
      "25it [00:23,  5.47it/s]\u001b[A\n",
      "26it [00:23,  5.45it/s]\u001b[A\n",
      "27it [00:23,  5.50it/s]\u001b[A\n",
      "28it [00:24,  5.35it/s]\u001b[A\n",
      "29it [00:24,  5.32it/s]\u001b[A\n",
      "30it [00:24,  5.45it/s]\u001b[A\n",
      "31it [00:24,  5.63it/s]\u001b[A\n",
      "32it [00:24,  5.64it/s]\u001b[A\n",
      "33it [00:25,  5.66it/s]\u001b[A\n",
      "34it [00:25,  5.62it/s]\u001b[A\n",
      "35it [00:25,  5.63it/s]\u001b[A\n",
      "36it [00:25,  5.63it/s]\u001b[A\n",
      "37it [00:25,  5.62it/s]\u001b[A\n",
      "38it [00:25,  5.59it/s]\u001b[A\n",
      "39it [00:26,  5.62it/s]\u001b[A\n",
      "40it [00:26,  5.64it/s]\u001b[A\n",
      "41it [00:26,  5.12it/s]\u001b[A\n",
      "42it [00:26,  4.97it/s]\u001b[A\n",
      "43it [00:26,  4.93it/s]\u001b[A\n",
      "44it [00:27,  4.84it/s]\u001b[A\n",
      "45it [00:27,  4.83it/s]\u001b[A\n",
      "46it [00:27,  4.83it/s]\u001b[A\n",
      "47it [00:27,  4.94it/s]\u001b[A\n",
      "48it [00:27,  4.99it/s]\u001b[A\n",
      "49it [00:28,  4.95it/s]\u001b[A\n",
      "50it [00:28,  4.91it/s]\u001b[A\n",
      "51it [00:28,  4.88it/s]\u001b[A\n",
      "52it [00:28,  4.82it/s]\u001b[A\n",
      "53it [00:28,  4.89it/s]\u001b[A\n",
      "54it [00:29,  4.91it/s]\u001b[A\n",
      "55it [00:29,  4.90it/s]\u001b[A\n",
      "56it [00:29,  4.97it/s]\u001b[A\n",
      "57it [00:29,  5.03it/s]\u001b[A\n",
      "58it [00:29,  5.05it/s]\u001b[A\n",
      "59it [00:30,  5.06it/s]\u001b[A\n",
      "60it [00:30,  4.99it/s]\u001b[A\n",
      "61it [00:30,  5.07it/s]\u001b[A\n",
      "62it [00:30,  4.81it/s]\u001b[A\n",
      "63it [00:31,  4.89it/s]\u001b[A\n",
      "64it [00:31,  4.87it/s]\u001b[A\n",
      "65it [00:31,  4.79it/s]\u001b[A\n",
      "66it [00:31,  4.68it/s]\u001b[A\n",
      "67it [00:31,  4.85it/s]\u001b[A\n",
      "68it [00:32,  4.94it/s]\u001b[A\n",
      "69it [00:32,  5.21it/s]\u001b[A\n",
      "70it [00:32,  5.35it/s]\u001b[A\n",
      "71it [00:32,  5.45it/s]\u001b[A\n",
      "72it [00:32,  5.55it/s]\u001b[A\n",
      "73it [00:32,  5.50it/s]\u001b[A\n",
      "74it [00:33,  5.47it/s]\u001b[A\n",
      "75it [00:33,  5.60it/s]\u001b[A\n",
      "76it [00:33,  5.56it/s]\u001b[A\n",
      "77it [00:33,  5.63it/s]\u001b[A\n",
      "78it [00:33,  5.60it/s]\u001b[A\n",
      "79it [00:33,  5.57it/s]\u001b[A\n",
      "80it [00:34,  5.63it/s]\u001b[A\n",
      "81it [00:34,  5.49it/s]\u001b[A\n",
      "82it [00:34,  5.60it/s]\u001b[A\n",
      "83it [00:34,  5.47it/s]\u001b[A\n",
      "84it [00:34,  5.56it/s]\u001b[A\n",
      "85it [00:35,  5.45it/s]\u001b[A\n",
      "86it [00:35,  5.51it/s]\u001b[A\n",
      "87it [00:35,  5.61it/s]\u001b[A\n",
      "88it [00:35,  5.54it/s]\u001b[A\n",
      "89it [00:35,  5.57it/s]\u001b[A\n",
      "90it [00:35,  5.58it/s]\u001b[A\n",
      "91it [00:36,  5.59it/s]\u001b[A\n",
      "92it [00:36,  5.58it/s]\u001b[A\n",
      "93it [00:36,  5.61it/s]\u001b[A\n",
      "94it [00:36,  5.62it/s]\u001b[A\n",
      "95it [00:36,  5.59it/s]\u001b[A\n",
      "96it [00:37,  5.51it/s]\u001b[A\n",
      "97it [00:37,  5.36it/s]\u001b[A\n",
      "98it [00:37,  5.41it/s]\u001b[A\n",
      "99it [00:37,  5.45it/s]\u001b[A\n",
      "100it [00:37,  5.41it/s]\u001b[A\n",
      "101it [00:37,  5.42it/s]\u001b[A\n",
      "102it [00:38,  5.56it/s]\u001b[A\n",
      "103it [00:38,  5.62it/s]\u001b[A\n",
      "104it [00:38,  5.57it/s]\u001b[A\n",
      "105it [00:38,  5.69it/s]\u001b[A\n",
      "106it [00:38,  5.62it/s]\u001b[A\n",
      "107it [00:39,  5.60it/s]\u001b[A\n",
      "108it [00:39,  5.70it/s]\u001b[A\n",
      "109it [00:39,  5.76it/s]\u001b[A\n",
      "110it [00:39,  5.67it/s]\u001b[A\n",
      "111it [00:39,  5.60it/s]\u001b[A\n",
      "112it [00:39,  5.67it/s]\u001b[A\n",
      "113it [00:40,  5.62it/s]\u001b[A\n",
      "114it [00:40,  5.60it/s]\u001b[A\n",
      "115it [00:40,  5.70it/s]\u001b[A\n",
      "116it [00:40,  5.64it/s]\u001b[A\n",
      "117it [00:40,  5.72it/s]\u001b[A\n",
      "118it [00:40,  5.73it/s]\u001b[A\n",
      "119it [00:41,  5.73it/s]\u001b[A\n",
      "120it [00:41,  5.85it/s]\u001b[A\n",
      "121it [00:41,  5.64it/s]\u001b[A\n",
      "122it [00:41,  5.76it/s]\u001b[A\n",
      "123it [00:41,  5.76it/s]\u001b[A\n",
      "124it [00:41,  5.85it/s]\u001b[A\n",
      "125it [00:42,  5.79it/s]\u001b[A\n",
      "126it [00:42,  5.64it/s]\u001b[A\n",
      "127it [00:42,  5.59it/s]\u001b[A\n",
      "128it [00:42,  5.68it/s]\u001b[A\n",
      "129it [00:42,  5.66it/s]\u001b[A\n",
      "130it [00:43,  5.64it/s]\u001b[A\n",
      "131it [00:43,  5.73it/s]\u001b[A\n",
      "132it [00:43,  4.99it/s]\u001b[A\n",
      "133it [00:43,  5.07it/s]\u001b[A\n",
      "134it [00:43,  5.25it/s]\u001b[A\n",
      "135it [00:44,  5.30it/s]\u001b[A\n",
      "136it [00:44,  5.33it/s]\u001b[A\n",
      "137it [00:44,  5.35it/s]\u001b[A\n",
      "138it [00:44,  5.18it/s]\u001b[A\n",
      "139it [00:44,  5.11it/s]\u001b[A\n",
      "140it [00:45,  4.99it/s]\u001b[A\n",
      "141it [00:45,  5.07it/s]\u001b[A\n",
      "142it [00:45,  5.04it/s]\u001b[A\n",
      "143it [00:45,  4.78it/s]\u001b[A\n",
      "144it [00:45,  4.81it/s]\u001b[A\n",
      "145it [00:46,  4.95it/s]\u001b[A\n",
      "146it [00:46,  5.05it/s]\u001b[A\n",
      "147it [00:46,  5.07it/s]\u001b[A\n",
      "148it [00:46,  5.04it/s]\u001b[A\n",
      "149it [00:46,  5.13it/s]\u001b[A\n",
      "150it [00:47,  5.18it/s]\u001b[A\n",
      "151it [00:47,  5.17it/s]\u001b[A\n",
      "152it [00:47,  4.98it/s]\u001b[A\n",
      "153it [00:47,  4.95it/s]\u001b[A\n",
      "154it [00:47,  4.94it/s]\u001b[A\n",
      "155it [00:48,  5.00it/s]\u001b[A\n",
      "156it [00:48,  5.13it/s]\u001b[A\n",
      "157it [00:48,  4.94it/s]\u001b[A\n",
      "158it [00:48,  5.09it/s]\u001b[A\n",
      "159it [00:48,  5.16it/s]\u001b[A\n",
      "160it [00:49,  5.09it/s]\u001b[A\n",
      "161it [00:49,  5.04it/s]\u001b[A\n",
      "162it [00:49,  4.93it/s]\u001b[A\n",
      "163it [00:49,  4.85it/s]\u001b[A\n",
      "164it [00:49,  4.86it/s]\u001b[A\n",
      "165it [00:50,  4.93it/s]\u001b[A\n",
      "166it [00:50,  4.92it/s]\u001b[A\n",
      "167it [00:50,  4.70it/s]\u001b[A\n",
      "168it [00:50,  4.61it/s]\u001b[A\n",
      "169it [00:50,  4.59it/s]\u001b[A\n",
      "170it [00:51,  4.39it/s]\u001b[A\n",
      "171it [00:51,  4.33it/s]\u001b[A\n",
      "172it [00:51,  3.59it/s]\u001b[A\n",
      "173it [00:52,  3.50it/s]\u001b[A\n",
      "174it [00:52,  3.65it/s]\u001b[A\n",
      "175it [00:52,  3.74it/s]\u001b[A\n",
      "176it [00:52,  3.85it/s]\u001b[A\n",
      "177it [00:53,  3.64it/s]\u001b[A\n",
      "178it [00:53,  3.73it/s]\u001b[A\n",
      "179it [00:53,  3.90it/s]\u001b[A\n",
      "180it [00:53,  4.02it/s]\u001b[A\n",
      "181it [00:54,  4.29it/s]\u001b[A\n",
      "182it [00:54,  4.29it/s]\u001b[A\n",
      "183it [00:54,  4.02it/s]\u001b[A\n",
      "184it [00:54,  4.15it/s]\u001b[A\n",
      "185it [00:55,  4.33it/s]\u001b[A\n",
      "186it [00:55,  4.12it/s]\u001b[A\n",
      "187it [00:55,  4.20it/s]\u001b[A\n",
      "188it [00:55,  4.10it/s]\u001b[A\n",
      "189it [00:56,  4.02it/s]\u001b[A\n",
      "190it [00:56,  3.99it/s]\u001b[A\n",
      "191it [00:56,  4.03it/s]\u001b[A\n",
      "192it [00:56,  4.16it/s]\u001b[A\n",
      "193it [00:56,  4.43it/s]\u001b[A\n",
      "194it [00:57,  4.52it/s]\u001b[A\n",
      "195it [00:57,  4.45it/s]\u001b[A\n",
      "196it [00:57,  4.40it/s]\u001b[A\n",
      "197it [00:57,  4.32it/s]\u001b[A\n",
      "198it [00:58,  4.12it/s]\u001b[A\n",
      "199it [00:58,  4.09it/s]\u001b[A\n",
      "200it [00:58,  4.15it/s]\u001b[A\n",
      "201it [00:58,  4.23it/s]\u001b[A\n",
      "202it [00:59,  4.00it/s]\u001b[A\n",
      "203it [00:59,  3.94it/s]\u001b[A\n",
      "204it [00:59,  4.16it/s]\u001b[A\n",
      "205it [00:59,  4.13it/s]\u001b[A\n",
      "206it [01:00,  4.42it/s]\u001b[A\n",
      "207it [01:00,  3.44it/s]\u001b[A\n"
     ]
    },
    {
     "name": "stdout",
     "output_type": "stream",
     "text": [
      "E066 -> AUC: 0.8151466173152043\n"
     ]
    },
    {
     "name": "stderr",
     "output_type": "stream",
     "text": [
      "\r",
      "0.00B [00:00, ?B/s]"
     ]
    },
    {
     "name": "stdout",
     "output_type": "stream",
     "text": [
      "Downloading https://zenodo.org/api/files/2bf982b6-143f-49f6-b9ad-1b1e60f67292/E070_attchrome_avgAUC_model.pt?download=1 to C:\\Users\\ghiot\\.kipoi\\models\\AttentiveChrome\\downloaded\\model_files\\E070\\weights\\f164f58f1965b3bd61eb5ae04a57def5\n"
     ]
    },
    {
     "name": "stderr",
     "output_type": "stream",
     "text": [
      " 85%|███████████████████████████████████████████████████████████████████▎           | 197k/231k [00:01<00:01, 30.0kB/s]C:\\ProgramData\\Anaconda3\\lib\\site-packages\\torch\\nn\\modules\\rnn.py:60: UserWarning: dropout option adds dropout after all but last recurrent layer, so non-zero dropout expects num_layers greater than 1, but got dropout=0.5 and num_layers=1\n",
      "  warnings.warn(\"dropout option adds dropout after all but last \"\n",
      "238kB [00:01, 148kB/s]                                                                                                 \n",
      "0it [00:00, ?it/s]"
     ]
    },
    {
     "name": "stdout",
     "output_type": "stream",
     "text": [
      "Number of genes: 6600\n",
      "Number of entries: 660000\n",
      "Number of HMs: 7\n"
     ]
    },
    {
     "name": "stderr",
     "output_type": "stream",
     "text": [
      "207it [00:59,  3.50it/s]\n"
     ]
    },
    {
     "name": "stdout",
     "output_type": "stream",
     "text": [
      "E070 -> AUC: 0.7734446234591517\n"
     ]
    },
    {
     "name": "stderr",
     "output_type": "stream",
     "text": [
      "\r",
      "0.00B [00:00, ?B/s]"
     ]
    },
    {
     "name": "stdout",
     "output_type": "stream",
     "text": [
      "Downloading https://zenodo.org/api/files/2bf982b6-143f-49f6-b9ad-1b1e60f67292/E071_attchrome_avgAUC_model.pt?download=1 to C:\\Users\\ghiot\\.kipoi\\models\\AttentiveChrome\\downloaded\\model_files\\E071\\weights\\333566e947e04a9dfdc543b6c489b1c3\n"
     ]
    },
    {
     "name": "stderr",
     "output_type": "stream",
     "text": [
      " 53%|██████████████████████████████████████████                                     | 123k/231k [00:00<00:05, 18.1kB/s]C:\\ProgramData\\Anaconda3\\lib\\site-packages\\torch\\nn\\modules\\rnn.py:60: UserWarning: dropout option adds dropout after all but last recurrent layer, so non-zero dropout expects num_layers greater than 1, but got dropout=0.5 and num_layers=1\n",
      "  warnings.warn(\"dropout option adds dropout after all but last \"\n",
      "238kB [00:00, 282kB/s]                                                                                                 \n",
      "0it [00:00, ?it/s]"
     ]
    },
    {
     "name": "stdout",
     "output_type": "stream",
     "text": [
      "Number of genes: 6600\n",
      "Number of entries: 660000\n",
      "Number of HMs: 7\n"
     ]
    },
    {
     "name": "stderr",
     "output_type": "stream",
     "text": [
      "207it [01:09,  2.97it/s]\n"
     ]
    },
    {
     "name": "stdout",
     "output_type": "stream",
     "text": [
      "E071 -> AUC: 0.7432270473708497\n"
     ]
    },
    {
     "name": "stderr",
     "output_type": "stream",
     "text": [
      "\r",
      "0.00B [00:00, ?B/s]"
     ]
    },
    {
     "name": "stdout",
     "output_type": "stream",
     "text": [
      "Downloading https://zenodo.org/api/files/2bf982b6-143f-49f6-b9ad-1b1e60f67292/E079_attchrome_avgAUC_model.pt?download=1 to C:\\Users\\ghiot\\.kipoi\\models\\AttentiveChrome\\downloaded\\model_files\\E079\\weights\\978c928625b8027bad8898c7aeac622b\n"
     ]
    },
    {
     "name": "stderr",
     "output_type": "stream",
     "text": [
      " 43%|█████████████████████████████████▏                                            | 98.3k/231k [00:00<00:08, 15.5kB/s]C:\\ProgramData\\Anaconda3\\lib\\site-packages\\torch\\nn\\modules\\rnn.py:60: UserWarning: dropout option adds dropout after all but last recurrent layer, so non-zero dropout expects num_layers greater than 1, but got dropout=0.5 and num_layers=1\n",
      "  warnings.warn(\"dropout option adds dropout after all but last \"\n",
      "238kB [00:00, 246kB/s]                                                                                                 \n",
      "0it [00:00, ?it/s]"
     ]
    },
    {
     "name": "stdout",
     "output_type": "stream",
     "text": [
      "Number of genes: 6600\n",
      "Number of entries: 660000\n",
      "Number of HMs: 7\n"
     ]
    },
    {
     "name": "stderr",
     "output_type": "stream",
     "text": [
      "207it [01:01,  3.38it/s]\n"
     ]
    },
    {
     "name": "stdout",
     "output_type": "stream",
     "text": [
      "E079 -> AUC: 0.7523949806210212\n"
     ]
    },
    {
     "name": "stderr",
     "output_type": "stream",
     "text": [
      "\r",
      "0.00B [00:00, ?B/s]"
     ]
    },
    {
     "name": "stdout",
     "output_type": "stream",
     "text": [
      "Downloading https://zenodo.org/api/files/2bf982b6-143f-49f6-b9ad-1b1e60f67292/E082_attchrome_avgAUC_model.pt?download=1 to C:\\Users\\ghiot\\.kipoi\\models\\AttentiveChrome\\downloaded\\model_files\\E082\\weights\\8b9d27c361c1ad258bde428fa72c8980\n"
     ]
    },
    {
     "name": "stderr",
     "output_type": "stream",
     "text": [
      " 60%|███████████████████████████████████████████████▋                               | 139k/231k [00:00<00:05, 17.8kB/s]C:\\ProgramData\\Anaconda3\\lib\\site-packages\\torch\\nn\\modules\\rnn.py:60: UserWarning: dropout option adds dropout after all but last recurrent layer, so non-zero dropout expects num_layers greater than 1, but got dropout=0.5 and num_layers=1\n",
      "  warnings.warn(\"dropout option adds dropout after all but last \"\n",
      "238kB [00:00, 287kB/s]                                                                                                 \n",
      "0it [00:00, ?it/s]"
     ]
    },
    {
     "name": "stdout",
     "output_type": "stream",
     "text": [
      "Number of genes: 6600\n",
      "Number of entries: 660000\n",
      "Number of HMs: 7\n"
     ]
    },
    {
     "name": "stderr",
     "output_type": "stream",
     "text": [
      "207it [00:56,  3.65it/s]\n"
     ]
    },
    {
     "name": "stdout",
     "output_type": "stream",
     "text": [
      "E082 -> AUC: 0.7967364289752079\n"
     ]
    },
    {
     "name": "stderr",
     "output_type": "stream",
     "text": [
      "C:\\ProgramData\\Anaconda3\\lib\\site-packages\\torch\\nn\\modules\\rnn.py:60: UserWarning: dropout option adds dropout after all but last recurrent layer, so non-zero dropout expects num_layers greater than 1, but got dropout=0.5 and num_layers=1\n",
      "  warnings.warn(\"dropout option adds dropout after all but last \"\n",
      "\r",
      "0it [00:00, ?it/s]"
     ]
    },
    {
     "name": "stdout",
     "output_type": "stream",
     "text": [
      "Using downloaded and verified file: C:\\Users\\ghiot\\.kipoi\\models\\AttentiveChrome\\downloaded\\model_files\\E084\\weights\\c0c1009fe4febfbf7dc64406466d8459\n",
      "Number of genes: 6600\n",
      "Number of entries: 660000\n",
      "Number of HMs: 7\n"
     ]
    },
    {
     "name": "stderr",
     "output_type": "stream",
     "text": [
      "207it [00:59,  3.50it/s]\n"
     ]
    },
    {
     "name": "stdout",
     "output_type": "stream",
     "text": [
      "E084 -> AUC: 0.7299202152268858\n"
     ]
    },
    {
     "name": "stderr",
     "output_type": "stream",
     "text": [
      "\r",
      "0.00B [00:00, ?B/s]"
     ]
    },
    {
     "name": "stdout",
     "output_type": "stream",
     "text": [
      "Downloading https://zenodo.org/api/files/2bf982b6-143f-49f6-b9ad-1b1e60f67292/E085_attchrome_avgAUC_model.pt?download=1 to C:\\Users\\ghiot\\.kipoi\\models\\AttentiveChrome\\downloaded\\model_files\\E085\\weights\\452ae1b368bf7b37d38ec89db51e463f\n"
     ]
    },
    {
     "name": "stderr",
     "output_type": "stream",
     "text": [
      " 43%|█████████████████████████████████▏                                            | 98.3k/231k [00:00<00:09, 13.8kB/s]C:\\ProgramData\\Anaconda3\\lib\\site-packages\\torch\\nn\\modules\\rnn.py:60: UserWarning: dropout option adds dropout after all but last recurrent layer, so non-zero dropout expects num_layers greater than 1, but got dropout=0.5 and num_layers=1\n",
      "  warnings.warn(\"dropout option adds dropout after all but last \"\n",
      "238kB [00:01, 226kB/s]                                                                                                 \n",
      "0it [00:00, ?it/s]"
     ]
    },
    {
     "name": "stdout",
     "output_type": "stream",
     "text": [
      "Number of genes: 6600\n",
      "Number of entries: 660000\n",
      "Number of HMs: 7\n"
     ]
    },
    {
     "name": "stderr",
     "output_type": "stream",
     "text": [
      "207it [00:59,  3.49it/s]\n"
     ]
    },
    {
     "name": "stdout",
     "output_type": "stream",
     "text": [
      "E085 -> AUC: 0.7402958982851078\n"
     ]
    },
    {
     "name": "stderr",
     "output_type": "stream",
     "text": [
      "\r",
      "0.00B [00:00, ?B/s]"
     ]
    },
    {
     "name": "stdout",
     "output_type": "stream",
     "text": [
      "Downloading https://zenodo.org/api/files/2bf982b6-143f-49f6-b9ad-1b1e60f67292/E087_attchrome_avgAUC_model.pt?download=1 to C:\\Users\\ghiot\\.kipoi\\models\\AttentiveChrome\\downloaded\\model_files\\E087\\weights\\22137bd5dc6bdb78bdde944297c4ec54\n"
     ]
    },
    {
     "name": "stderr",
     "output_type": "stream",
     "text": [
      " 50%|███████████████████████████████████████▎                                       | 115k/231k [00:00<00:06, 17.9kB/s]C:\\ProgramData\\Anaconda3\\lib\\site-packages\\torch\\nn\\modules\\rnn.py:60: UserWarning: dropout option adds dropout after all but last recurrent layer, so non-zero dropout expects num_layers greater than 1, but got dropout=0.5 and num_layers=1\n",
      "  warnings.warn(\"dropout option adds dropout after all but last \"\n",
      "238kB [00:00, 278kB/s]                                                                                                 \n",
      "0it [00:00, ?it/s]"
     ]
    },
    {
     "name": "stdout",
     "output_type": "stream",
     "text": [
      "Number of genes: 6600\n",
      "Number of entries: 660000\n",
      "Number of HMs: 7\n"
     ]
    },
    {
     "name": "stderr",
     "output_type": "stream",
     "text": [
      "207it [01:15,  2.73it/s]\n"
     ]
    },
    {
     "name": "stdout",
     "output_type": "stream",
     "text": [
      "E087 -> AUC: 0.758702892232337\n"
     ]
    },
    {
     "name": "stderr",
     "output_type": "stream",
     "text": [
      "\r",
      "0.00B [00:00, ?B/s]"
     ]
    },
    {
     "name": "stdout",
     "output_type": "stream",
     "text": [
      "Downloading https://zenodo.org/api/files/2bf982b6-143f-49f6-b9ad-1b1e60f67292/E094_attchrome_avgAUC_model.pt?download=1 to C:\\Users\\ghiot\\.kipoi\\models\\AttentiveChrome\\downloaded\\model_files\\E094\\weights\\f83430563d10c76f0396ed5574bee820\n"
     ]
    },
    {
     "name": "stderr",
     "output_type": "stream",
     "text": [
      " 67%|█████████████████████████████████████████████████████▎                         | 156k/231k [00:00<00:04, 16.0kB/s]C:\\ProgramData\\Anaconda3\\lib\\site-packages\\torch\\nn\\modules\\rnn.py:60: UserWarning: dropout option adds dropout after all but last recurrent layer, so non-zero dropout expects num_layers greater than 1, but got dropout=0.5 and num_layers=1\n",
      "  warnings.warn(\"dropout option adds dropout after all but last \"\n",
      "238kB [00:00, 266kB/s]                                                                                                 \n",
      "0it [00:00, ?it/s]"
     ]
    },
    {
     "name": "stdout",
     "output_type": "stream",
     "text": [
      "Number of genes: 6600\n",
      "Number of entries: 660000\n",
      "Number of HMs: 7\n"
     ]
    },
    {
     "name": "stderr",
     "output_type": "stream",
     "text": [
      "207it [01:04,  3.19it/s]\n"
     ]
    },
    {
     "name": "stdout",
     "output_type": "stream",
     "text": [
      "E094 -> AUC: 0.752845044540003\n"
     ]
    },
    {
     "name": "stderr",
     "output_type": "stream",
     "text": [
      "\r",
      "0.00B [00:00, ?B/s]"
     ]
    },
    {
     "name": "stdout",
     "output_type": "stream",
     "text": [
      "Downloading https://zenodo.org/api/files/2bf982b6-143f-49f6-b9ad-1b1e60f67292/E095_attchrome_avgAUC_model.pt?download=1 to C:\\Users\\ghiot\\.kipoi\\models\\AttentiveChrome\\downloaded\\model_files\\E095\\weights\\37130b60530f29aaf485a9789c905a2e\n"
     ]
    },
    {
     "name": "stderr",
     "output_type": "stream",
     "text": [
      " 50%|███████████████████████████████████████▎                                       | 115k/231k [00:00<00:06, 18.1kB/s]C:\\ProgramData\\Anaconda3\\lib\\site-packages\\torch\\nn\\modules\\rnn.py:60: UserWarning: dropout option adds dropout after all but last recurrent layer, so non-zero dropout expects num_layers greater than 1, but got dropout=0.5 and num_layers=1\n",
      "  warnings.warn(\"dropout option adds dropout after all but last \"\n",
      "238kB [00:00, 283kB/s]                                                                                                 \n",
      "0it [00:00, ?it/s]"
     ]
    },
    {
     "name": "stdout",
     "output_type": "stream",
     "text": [
      "Number of genes: 6600\n",
      "Number of entries: 660000\n",
      "Number of HMs: 7\n"
     ]
    },
    {
     "name": "stderr",
     "output_type": "stream",
     "text": [
      "207it [01:01,  3.35it/s]\n"
     ]
    },
    {
     "name": "stdout",
     "output_type": "stream",
     "text": [
      "E095 -> AUC: 0.8325379521703606\n"
     ]
    },
    {
     "name": "stderr",
     "output_type": "stream",
     "text": [
      "\r",
      "0.00B [00:00, ?B/s]"
     ]
    },
    {
     "name": "stdout",
     "output_type": "stream",
     "text": [
      "Downloading https://zenodo.org/api/files/2bf982b6-143f-49f6-b9ad-1b1e60f67292/E096_attchrome_avgAUC_model.pt?download=1 to C:\\Users\\ghiot\\.kipoi\\models\\AttentiveChrome\\downloaded\\model_files\\E096\\weights\\2be0fa577637386851bba657d6af60b5\n"
     ]
    },
    {
     "name": "stderr",
     "output_type": "stream",
     "text": [
      " 46%|████████████████████████████████████▍                                          | 106k/231k [00:00<00:06, 17.9kB/s]C:\\ProgramData\\Anaconda3\\lib\\site-packages\\torch\\nn\\modules\\rnn.py:60: UserWarning: dropout option adds dropout after all but last recurrent layer, so non-zero dropout expects num_layers greater than 1, but got dropout=0.5 and num_layers=1\n",
      "  warnings.warn(\"dropout option adds dropout after all but last \"\n",
      "\n",
      "238kB [00:00, 272kB/s]                                                                                                 \n"
     ]
    },
    {
     "name": "stdout",
     "output_type": "stream",
     "text": [
      "Number of genes: 6600\n",
      "Number of entries: 660000\n",
      "Number of HMs: 7\n"
     ]
    },
    {
     "name": "stderr",
     "output_type": "stream",
     "text": [
      "\n",
      "1it [00:21, 21.63s/it]\u001b[A\n",
      "2it [00:21, 15.19s/it]\u001b[A\n",
      "3it [00:21, 10.68s/it]\u001b[A\n",
      "4it [00:22,  7.54s/it]\u001b[A\n",
      "5it [00:22,  5.33s/it]\u001b[A\n",
      "6it [00:22,  3.78s/it]\u001b[A\n",
      "7it [00:22,  2.70s/it]\u001b[A\n",
      "8it [00:22,  1.94s/it]\u001b[A\n",
      "9it [00:23,  1.41s/it]\u001b[A\n",
      "10it [00:23,  1.04s/it]\u001b[A\n",
      "11it [00:23,  1.28it/s]\u001b[A\n",
      "12it [00:23,  1.67it/s]\u001b[A\n",
      "13it [00:23,  2.11it/s]\u001b[A\n",
      "14it [00:23,  2.60it/s]\u001b[A\n",
      "15it [00:24,  3.05it/s]\u001b[A\n",
      "16it [00:24,  3.52it/s]\u001b[A\n",
      "17it [00:24,  3.98it/s]\u001b[A\n",
      "18it [00:24,  4.45it/s]\u001b[A\n",
      "19it [00:24,  4.74it/s]\u001b[A\n",
      "20it [00:24,  4.90it/s]\u001b[A\n",
      "21it [00:25,  5.03it/s]\u001b[A\n",
      "22it [00:25,  5.16it/s]\u001b[A\n",
      "23it [00:25,  5.22it/s]\u001b[A\n",
      "24it [00:25,  5.36it/s]\u001b[A\n",
      "25it [00:25,  5.39it/s]\u001b[A\n",
      "26it [00:26,  5.33it/s]\u001b[A\n",
      "27it [00:26,  5.43it/s]\u001b[A\n",
      "28it [00:26,  5.47it/s]\u001b[A\n",
      "29it [00:26,  5.56it/s]\u001b[A\n",
      "30it [00:26,  5.57it/s]\u001b[A\n",
      "31it [00:26,  5.52it/s]\u001b[A\n",
      "32it [00:27,  5.56it/s]\u001b[A\n",
      "33it [00:27,  5.64it/s]\u001b[A\n",
      "34it [00:27,  5.26it/s]\u001b[A\n",
      "35it [00:27,  5.35it/s]\u001b[A\n",
      "36it [00:27,  5.45it/s]\u001b[A\n",
      "37it [00:28,  5.43it/s]\u001b[A\n",
      "38it [00:28,  5.46it/s]\u001b[A\n",
      "39it [00:28,  5.59it/s]\u001b[A\n",
      "40it [00:28,  5.65it/s]\u001b[A\n",
      "41it [00:28,  5.74it/s]\u001b[A\n",
      "42it [00:28,  5.70it/s]\u001b[A\n",
      "43it [00:29,  5.66it/s]\u001b[A\n",
      "44it [00:29,  5.76it/s]\u001b[A\n",
      "45it [00:29,  5.82it/s]\u001b[A\n",
      "46it [00:29,  5.81it/s]\u001b[A\n",
      "47it [00:29,  5.77it/s]\u001b[A\n",
      "48it [00:29,  5.87it/s]\u001b[A\n",
      "49it [00:30,  5.21it/s]\u001b[A\n",
      "50it [00:30,  4.34it/s]\u001b[A\n",
      "51it [00:30,  4.06it/s]\u001b[A\n",
      "52it [00:31,  4.39it/s]\u001b[A\n",
      "53it [00:31,  4.72it/s]\u001b[A\n",
      "54it [00:31,  4.89it/s]\u001b[A\n",
      "55it [00:31,  5.00it/s]\u001b[A\n",
      "56it [00:31,  5.23it/s]\u001b[A\n",
      "57it [00:31,  5.41it/s]\u001b[A\n",
      "58it [00:32,  5.45it/s]\u001b[A\n",
      "59it [00:32,  5.58it/s]\u001b[A\n",
      "60it [00:32,  5.60it/s]\u001b[A\n",
      "61it [00:32,  5.56it/s]\u001b[A\n",
      "62it [00:32,  5.67it/s]\u001b[A\n",
      "63it [00:32,  5.66it/s]\u001b[A\n",
      "64it [00:33,  5.61it/s]\u001b[A\n",
      "65it [00:33,  5.65it/s]\u001b[A\n",
      "66it [00:33,  5.65it/s]\u001b[A\n",
      "67it [00:33,  5.76it/s]\u001b[A\n",
      "68it [00:33,  5.69it/s]\u001b[A\n",
      "69it [00:34,  5.76it/s]\u001b[A\n",
      "70it [00:34,  5.69it/s]\u001b[A\n",
      "71it [00:34,  5.76it/s]\u001b[A\n",
      "72it [00:34,  5.73it/s]\u001b[A\n",
      "73it [00:34,  5.51it/s]\u001b[A\n",
      "74it [00:34,  5.59it/s]\u001b[A\n",
      "75it [00:35,  5.68it/s]\u001b[A\n",
      "76it [00:35,  5.79it/s]\u001b[A\n",
      "77it [00:35,  5.87it/s]\u001b[A\n",
      "78it [00:35,  5.65it/s]\u001b[A\n",
      "79it [00:35,  5.71it/s]\u001b[A\n",
      "80it [00:35,  5.63it/s]\u001b[A\n",
      "81it [00:36,  5.67it/s]\u001b[A\n",
      "82it [00:36,  5.71it/s]\u001b[A\n",
      "83it [00:36,  5.74it/s]\u001b[A\n",
      "84it [00:36,  5.70it/s]\u001b[A\n",
      "85it [00:36,  5.68it/s]\u001b[A\n",
      "86it [00:37,  5.59it/s]\u001b[A\n",
      "87it [00:37,  5.68it/s]\u001b[A\n",
      "88it [00:37,  5.76it/s]\u001b[A\n",
      "89it [00:37,  5.81it/s]\u001b[A\n",
      "90it [00:37,  5.86it/s]\u001b[A\n",
      "91it [00:37,  5.81it/s]\u001b[A\n",
      "92it [00:38,  5.69it/s]\u001b[A\n",
      "93it [00:38,  5.67it/s]\u001b[A\n",
      "94it [00:38,  5.70it/s]\u001b[A\n",
      "95it [00:38,  5.77it/s]\u001b[A\n",
      "96it [00:38,  5.82it/s]\u001b[A\n",
      "97it [00:38,  5.52it/s]\u001b[A\n",
      "98it [00:39,  5.54it/s]\u001b[A\n",
      "99it [00:39,  5.63it/s]\u001b[A\n",
      "100it [00:39,  5.75it/s]\u001b[A\n",
      "101it [00:39,  5.77it/s]\u001b[A\n",
      "102it [00:39,  5.20it/s]\u001b[A\n",
      "103it [00:40,  5.36it/s]\u001b[A\n",
      "104it [00:40,  5.27it/s]\u001b[A\n",
      "105it [00:40,  5.23it/s]\u001b[A\n",
      "106it [00:40,  5.23it/s]\u001b[A\n",
      "107it [00:40,  5.43it/s]\u001b[A\n",
      "108it [00:40,  5.61it/s]\u001b[A\n",
      "109it [00:41,  5.61it/s]\u001b[A\n",
      "110it [00:41,  5.57it/s]\u001b[A\n",
      "111it [00:41,  5.70it/s]\u001b[A\n",
      "112it [00:41,  5.55it/s]\u001b[A\n",
      "113it [00:41,  5.66it/s]\u001b[A\n",
      "114it [00:42,  5.61it/s]\u001b[A\n",
      "115it [00:42,  5.66it/s]\u001b[A\n",
      "116it [00:42,  5.55it/s]\u001b[A\n",
      "117it [00:42,  5.12it/s]\u001b[A\n",
      "118it [00:42,  5.30it/s]\u001b[A\n",
      "119it [00:42,  5.38it/s]\u001b[A\n",
      "120it [00:43,  5.40it/s]\u001b[A\n",
      "121it [00:43,  5.41it/s]\u001b[A\n",
      "122it [00:43,  5.56it/s]\u001b[A\n",
      "123it [00:43,  5.45it/s]\u001b[A\n",
      "124it [00:43,  4.92it/s]\u001b[A\n",
      "125it [00:44,  4.61it/s]\u001b[A\n",
      "126it [00:44,  4.63it/s]\u001b[A\n",
      "127it [00:44,  4.65it/s]\u001b[A\n",
      "128it [00:44,  4.71it/s]\u001b[A\n",
      "129it [00:45,  4.92it/s]\u001b[A\n",
      "130it [00:45,  5.10it/s]\u001b[A\n",
      "131it [00:45,  5.00it/s]\u001b[A\n",
      "132it [00:45,  5.09it/s]\u001b[A\n",
      "133it [00:45,  4.95it/s]\u001b[A\n",
      "134it [00:46,  4.93it/s]\u001b[A\n",
      "135it [00:46,  4.93it/s]\u001b[A\n",
      "136it [00:46,  4.93it/s]\u001b[A\n",
      "137it [00:46,  5.04it/s]\u001b[A\n",
      "138it [00:46,  5.11it/s]\u001b[A\n",
      "139it [00:46,  5.14it/s]\u001b[A\n",
      "140it [00:47,  5.22it/s]\u001b[A\n",
      "141it [00:47,  5.33it/s]\u001b[A\n",
      "142it [00:47,  5.39it/s]\u001b[A\n",
      "143it [00:47,  5.45it/s]\u001b[A\n",
      "144it [00:47,  5.39it/s]\u001b[A\n",
      "145it [00:48,  5.20it/s]\u001b[A\n",
      "146it [00:48,  5.23it/s]\u001b[A\n",
      "147it [00:48,  5.26it/s]\u001b[A\n",
      "148it [00:48,  5.32it/s]\u001b[A\n",
      "149it [00:48,  5.32it/s]\u001b[A\n",
      "150it [00:49,  5.28it/s]\u001b[A\n",
      "151it [00:49,  5.38it/s]\u001b[A\n",
      "152it [00:49,  5.15it/s]\u001b[A\n",
      "153it [00:49,  5.18it/s]\u001b[A\n",
      "154it [00:49,  5.26it/s]\u001b[A\n",
      "155it [00:50,  5.26it/s]\u001b[A\n",
      "156it [00:50,  5.10it/s]\u001b[A\n",
      "157it [00:50,  5.28it/s]\u001b[A\n",
      "158it [00:50,  5.27it/s]\u001b[A\n",
      "159it [00:50,  5.35it/s]\u001b[A\n",
      "160it [00:50,  5.49it/s]\u001b[A\n",
      "161it [00:51,  5.44it/s]\u001b[A\n",
      "162it [00:51,  5.53it/s]\u001b[A\n",
      "163it [00:51,  5.48it/s]\u001b[A\n",
      "164it [00:51,  5.42it/s]\u001b[A\n",
      "165it [00:51,  5.25it/s]\u001b[A\n",
      "166it [00:52,  5.18it/s]\u001b[A\n",
      "167it [00:52,  5.22it/s]\u001b[A\n",
      "168it [00:52,  5.31it/s]\u001b[A\n",
      "169it [00:52,  5.34it/s]\u001b[A\n",
      "170it [00:52,  5.32it/s]\u001b[A\n",
      "171it [00:52,  5.48it/s]\u001b[A\n",
      "172it [00:53,  5.51it/s]\u001b[A\n",
      "173it [00:53,  5.52it/s]\u001b[A\n",
      "174it [00:53,  5.55it/s]\u001b[A\n",
      "175it [00:53,  5.64it/s]\u001b[A\n",
      "176it [00:53,  5.56it/s]\u001b[A\n",
      "177it [00:54,  5.30it/s]\u001b[A\n",
      "178it [00:54,  5.03it/s]\u001b[A\n",
      "179it [00:54,  5.02it/s]\u001b[A\n",
      "180it [00:54,  5.15it/s]\u001b[A\n",
      "181it [00:54,  5.26it/s]\u001b[A\n",
      "182it [00:55,  5.34it/s]\u001b[A\n",
      "183it [00:55,  5.50it/s]\u001b[A\n",
      "184it [00:55,  5.54it/s]\u001b[A\n",
      "185it [00:55,  5.59it/s]\u001b[A\n",
      "186it [00:55,  5.71it/s]\u001b[A\n",
      "187it [00:55,  5.48it/s]\u001b[A\n",
      "188it [00:56,  5.41it/s]\u001b[A\n",
      "189it [00:56,  5.37it/s]\u001b[A\n",
      "190it [00:56,  5.42it/s]\u001b[A\n",
      "191it [00:56,  5.49it/s]\u001b[A\n",
      "192it [00:56,  5.50it/s]\u001b[A\n",
      "193it [00:57,  5.39it/s]\u001b[A\n",
      "194it [00:57,  5.43it/s]\u001b[A\n",
      "195it [00:57,  5.37it/s]\u001b[A\n",
      "196it [00:57,  5.18it/s]\u001b[A\n",
      "197it [00:57,  5.27it/s]\u001b[A\n",
      "198it [00:57,  5.30it/s]\u001b[A\n",
      "199it [00:58,  5.26it/s]\u001b[A\n",
      "200it [00:58,  5.36it/s]\u001b[A\n",
      "201it [00:58,  5.35it/s]\u001b[A\n",
      "202it [00:58,  5.22it/s]\u001b[A\n",
      "203it [00:58,  5.10it/s]\u001b[A\n",
      "204it [00:59,  5.12it/s]\u001b[A\n",
      "205it [00:59,  5.05it/s]\u001b[A\n",
      "206it [00:59,  5.05it/s]\u001b[A\n",
      "207it [00:59,  3.47it/s]\u001b[A\n"
     ]
    },
    {
     "name": "stdout",
     "output_type": "stream",
     "text": [
      "E096 -> AUC: 0.7430772473177664\n"
     ]
    },
    {
     "name": "stderr",
     "output_type": "stream",
     "text": [
      "\r",
      "0.00B [00:00, ?B/s]"
     ]
    },
    {
     "name": "stdout",
     "output_type": "stream",
     "text": [
      "Downloading https://zenodo.org/api/files/2bf982b6-143f-49f6-b9ad-1b1e60f67292/E097_attchrome_avgAUC_model.pt?download=1 to C:\\Users\\ghiot\\.kipoi\\models\\AttentiveChrome\\downloaded\\model_files\\E097\\weights\\97d266de1fce0c207d141126ff5cb143\n"
     ]
    },
    {
     "name": "stderr",
     "output_type": "stream",
     "text": [
      " 67%|█████████████████████████████████████████████████████▎                         | 156k/231k [00:00<00:04, 16.7kB/s]C:\\ProgramData\\Anaconda3\\lib\\site-packages\\torch\\nn\\modules\\rnn.py:60: UserWarning: dropout option adds dropout after all but last recurrent layer, so non-zero dropout expects num_layers greater than 1, but got dropout=0.5 and num_layers=1\n",
      "  warnings.warn(\"dropout option adds dropout after all but last \"\n",
      "238kB [00:00, 275kB/s]                                                                                                 \n",
      "0it [00:00, ?it/s]"
     ]
    },
    {
     "name": "stdout",
     "output_type": "stream",
     "text": [
      "Number of genes: 6600\n",
      "Number of entries: 660000\n",
      "Number of HMs: 7\n"
     ]
    },
    {
     "name": "stderr",
     "output_type": "stream",
     "text": [
      "207it [01:02,  3.32it/s]\n"
     ]
    },
    {
     "name": "stdout",
     "output_type": "stream",
     "text": [
      "E097 -> AUC: 0.7645932138037401\n"
     ]
    },
    {
     "name": "stderr",
     "output_type": "stream",
     "text": [
      "\r",
      "0.00B [00:00, ?B/s]"
     ]
    },
    {
     "name": "stdout",
     "output_type": "stream",
     "text": [
      "Downloading https://zenodo.org/api/files/2bf982b6-143f-49f6-b9ad-1b1e60f67292/E098_attchrome_avgAUC_model.pt?download=1 to C:\\Users\\ghiot\\.kipoi\\models\\AttentiveChrome\\downloaded\\model_files\\E098\\weights\\8b40090f6217e0c252f56f92c5719a74\n"
     ]
    },
    {
     "name": "stderr",
     "output_type": "stream",
     "text": [
      " 53%|██████████████████████████████████████████                                     | 123k/231k [00:00<00:06, 16.9kB/s]C:\\ProgramData\\Anaconda3\\lib\\site-packages\\torch\\nn\\modules\\rnn.py:60: UserWarning: dropout option adds dropout after all but last recurrent layer, so non-zero dropout expects num_layers greater than 1, but got dropout=0.5 and num_layers=1\n",
      "  warnings.warn(\"dropout option adds dropout after all but last \"\n",
      "238kB [00:00, 269kB/s]                                                                                                 \n",
      "0it [00:00, ?it/s]"
     ]
    },
    {
     "name": "stdout",
     "output_type": "stream",
     "text": [
      "Number of genes: 6600\n",
      "Number of entries: 660000\n",
      "Number of HMs: 7\n"
     ]
    },
    {
     "name": "stderr",
     "output_type": "stream",
     "text": [
      "207it [02:16,  1.52it/s]\n"
     ]
    },
    {
     "name": "stdout",
     "output_type": "stream",
     "text": [
      "E098 -> AUC: 0.7566532688447856\n"
     ]
    },
    {
     "name": "stderr",
     "output_type": "stream",
     "text": [
      "\r",
      "0.00B [00:00, ?B/s]"
     ]
    },
    {
     "name": "stdout",
     "output_type": "stream",
     "text": [
      "Downloading https://zenodo.org/api/files/2bf982b6-143f-49f6-b9ad-1b1e60f67292/E100_attchrome_avgAUC_model.pt?download=1 to C:\\Users\\ghiot\\.kipoi\\models\\AttentiveChrome\\downloaded\\model_files\\E100\\weights\\89867aede18576cf245501be1b66de3c\n"
     ]
    },
    {
     "name": "stderr",
     "output_type": "stream",
     "text": [
      " 50%|███████████████████████████████████████▎                                       | 115k/231k [00:00<00:06, 16.9kB/s]C:\\ProgramData\\Anaconda3\\lib\\site-packages\\torch\\nn\\modules\\rnn.py:60: UserWarning: dropout option adds dropout after all but last recurrent layer, so non-zero dropout expects num_layers greater than 1, but got dropout=0.5 and num_layers=1\n",
      "  warnings.warn(\"dropout option adds dropout after all but last \"\n",
      "238kB [00:00, 244kB/s]                                                                                                 \n",
      "0it [00:00, ?it/s]"
     ]
    },
    {
     "name": "stdout",
     "output_type": "stream",
     "text": [
      "Number of genes: 6600\n",
      "Number of entries: 660000\n",
      "Number of HMs: 7\n"
     ]
    },
    {
     "name": "stderr",
     "output_type": "stream",
     "text": [
      "207it [02:22,  1.46it/s]\n"
     ]
    },
    {
     "name": "stdout",
     "output_type": "stream",
     "text": [
      "E100 -> AUC: 0.9036386606092853\n"
     ]
    },
    {
     "name": "stderr",
     "output_type": "stream",
     "text": [
      "\r",
      "0.00B [00:00, ?B/s]"
     ]
    },
    {
     "name": "stdout",
     "output_type": "stream",
     "text": [
      "Downloading https://zenodo.org/api/files/2bf982b6-143f-49f6-b9ad-1b1e60f67292/E104_attchrome_avgAUC_model.pt?download=1 to C:\\Users\\ghiot\\.kipoi\\models\\AttentiveChrome\\downloaded\\model_files\\E104\\weights\\6d7defac37ffaf3bec204f76892eb2f2\n"
     ]
    },
    {
     "name": "stderr",
     "output_type": "stream",
     "text": [
      " 53%|██████████████████████████████████████████                                     | 123k/231k [00:01<00:10, 9.91kB/s]C:\\ProgramData\\Anaconda3\\lib\\site-packages\\torch\\nn\\modules\\rnn.py:60: UserWarning: dropout option adds dropout after all but last recurrent layer, so non-zero dropout expects num_layers greater than 1, but got dropout=0.5 and num_layers=1\n",
      "  warnings.warn(\"dropout option adds dropout after all but last \"\n",
      "238kB [00:01, 169kB/s]                                                                                                 \n",
      "0it [00:00, ?it/s]"
     ]
    },
    {
     "name": "stdout",
     "output_type": "stream",
     "text": [
      "Number of genes: 6600\n",
      "Number of entries: 660000\n",
      "Number of HMs: 7\n"
     ]
    },
    {
     "name": "stderr",
     "output_type": "stream",
     "text": [
      "207it [02:36,  1.32it/s]\n"
     ]
    },
    {
     "name": "stdout",
     "output_type": "stream",
     "text": [
      "E104 -> AUC: 0.7935461952358909\n"
     ]
    },
    {
     "name": "stderr",
     "output_type": "stream",
     "text": [
      "\r",
      "0.00B [00:00, ?B/s]"
     ]
    },
    {
     "name": "stdout",
     "output_type": "stream",
     "text": [
      "Downloading https://zenodo.org/api/files/2bf982b6-143f-49f6-b9ad-1b1e60f67292/E105_attchrome_avgAUC_model.pt?download=1 to C:\\Users\\ghiot\\.kipoi\\models\\AttentiveChrome\\downloaded\\model_files\\E105\\weights\\c773aac4b33885e6f69f0241a2b84931\n"
     ]
    },
    {
     "name": "stderr",
     "output_type": "stream",
     "text": [
      " 46%|████████████████████████████████████▍                                          | 106k/231k [00:01<00:10, 12.1kB/s]C:\\ProgramData\\Anaconda3\\lib\\site-packages\\torch\\nn\\modules\\rnn.py:60: UserWarning: dropout option adds dropout after all but last recurrent layer, so non-zero dropout expects num_layers greater than 1, but got dropout=0.5 and num_layers=1\n",
      "  warnings.warn(\"dropout option adds dropout after all but last \"\n",
      "238kB [00:01, 191kB/s]                                                                                                 \n",
      "0it [00:00, ?it/s]"
     ]
    },
    {
     "name": "stdout",
     "output_type": "stream",
     "text": [
      "Number of genes: 6600\n",
      "Number of entries: 660000\n",
      "Number of HMs: 7\n"
     ]
    },
    {
     "name": "stderr",
     "output_type": "stream",
     "text": [
      "207it [02:39,  1.30it/s]\n"
     ]
    },
    {
     "name": "stdout",
     "output_type": "stream",
     "text": [
      "E105 -> AUC: 0.7931916412145638\n"
     ]
    },
    {
     "name": "stderr",
     "output_type": "stream",
     "text": [
      "\r",
      "0.00B [00:00, ?B/s]"
     ]
    },
    {
     "name": "stdout",
     "output_type": "stream",
     "text": [
      "Downloading https://zenodo.org/api/files/2bf982b6-143f-49f6-b9ad-1b1e60f67292/E106_attchrome_avgAUC_model.pt?download=1 to C:\\Users\\ghiot\\.kipoi\\models\\AttentiveChrome\\downloaded\\model_files\\E106\\weights\\5d73011e3345e5d998d81169a8ea28c1\n"
     ]
    },
    {
     "name": "stderr",
     "output_type": "stream",
     "text": [
      " 53%|██████████████████████████████████████████                                     | 123k/231k [00:00<00:07, 13.7kB/s]C:\\ProgramData\\Anaconda3\\lib\\site-packages\\torch\\nn\\modules\\rnn.py:60: UserWarning: dropout option adds dropout after all but last recurrent layer, so non-zero dropout expects num_layers greater than 1, but got dropout=0.5 and num_layers=1\n",
      "  warnings.warn(\"dropout option adds dropout after all but last \"\n",
      "238kB [00:01, 217kB/s]                                                                                                 \n",
      "0it [00:00, ?it/s]"
     ]
    },
    {
     "name": "stdout",
     "output_type": "stream",
     "text": [
      "Number of genes: 6600\n",
      "Number of entries: 660000\n",
      "Number of HMs: 7\n"
     ]
    },
    {
     "name": "stderr",
     "output_type": "stream",
     "text": [
      "207it [02:06,  1.64it/s]\n"
     ]
    },
    {
     "name": "stdout",
     "output_type": "stream",
     "text": [
      "E106 -> AUC: 0.7728516414354667\n"
     ]
    },
    {
     "name": "stderr",
     "output_type": "stream",
     "text": [
      "\r",
      "0.00B [00:00, ?B/s]"
     ]
    },
    {
     "name": "stdout",
     "output_type": "stream",
     "text": [
      "Downloading https://zenodo.org/api/files/2bf982b6-143f-49f6-b9ad-1b1e60f67292/E109_attchrome_avgAUC_model.pt?download=1 to C:\\Users\\ghiot\\.kipoi\\models\\AttentiveChrome\\downloaded\\model_files\\E109\\weights\\689f51758a873d0c99d32e5e8c80513b\n"
     ]
    },
    {
     "name": "stderr",
     "output_type": "stream",
     "text": [
      " 46%|████████████████████████████████████▍                                          | 106k/231k [00:00<00:07, 16.3kB/s]C:\\ProgramData\\Anaconda3\\lib\\site-packages\\torch\\nn\\modules\\rnn.py:60: UserWarning: dropout option adds dropout after all but last recurrent layer, so non-zero dropout expects num_layers greater than 1, but got dropout=0.5 and num_layers=1\n",
      "  warnings.warn(\"dropout option adds dropout after all but last \"\n",
      "238kB [00:00, 248kB/s]                                                                                                 \n",
      "0it [00:00, ?it/s]"
     ]
    },
    {
     "name": "stdout",
     "output_type": "stream",
     "text": [
      "Number of genes: 6600\n",
      "Number of entries: 660000\n",
      "Number of HMs: 7\n"
     ]
    },
    {
     "name": "stderr",
     "output_type": "stream",
     "text": [
      "207it [02:03,  1.67it/s]\n"
     ]
    },
    {
     "name": "stdout",
     "output_type": "stream",
     "text": [
      "E109 -> AUC: 0.7542652892561985\n"
     ]
    },
    {
     "name": "stderr",
     "output_type": "stream",
     "text": [
      "\r",
      "0.00B [00:00, ?B/s]"
     ]
    },
    {
     "name": "stdout",
     "output_type": "stream",
     "text": [
      "Downloading https://zenodo.org/api/files/2bf982b6-143f-49f6-b9ad-1b1e60f67292/E112_attchrome_avgAUC_model.pt?download=1 to C:\\Users\\ghiot\\.kipoi\\models\\AttentiveChrome\\downloaded\\model_files\\E112\\weights\\a671823c56b8b4e000baec18562540aa\n"
     ]
    },
    {
     "name": "stderr",
     "output_type": "stream",
     "text": [
      " 50%|███████████████████████████████████████▎                                       | 115k/231k [00:00<00:07, 15.2kB/s]C:\\ProgramData\\Anaconda3\\lib\\site-packages\\torch\\nn\\modules\\rnn.py:60: UserWarning: dropout option adds dropout after all but last recurrent layer, so non-zero dropout expects num_layers greater than 1, but got dropout=0.5 and num_layers=1\n",
      "  warnings.warn(\"dropout option adds dropout after all but last \"\n",
      "238kB [00:00, 245kB/s]                                                                                                 \n",
      "0it [00:00, ?it/s]"
     ]
    },
    {
     "name": "stdout",
     "output_type": "stream",
     "text": [
      "Number of genes: 6600\n",
      "Number of entries: 660000\n",
      "Number of HMs: 7\n"
     ]
    },
    {
     "name": "stderr",
     "output_type": "stream",
     "text": [
      "207it [01:58,  1.74it/s]\n"
     ]
    },
    {
     "name": "stdout",
     "output_type": "stream",
     "text": [
      "E112 -> AUC: 0.7234753759262829\n"
     ]
    },
    {
     "name": "stderr",
     "output_type": "stream",
     "text": [
      "\r",
      "0.00B [00:00, ?B/s]"
     ]
    },
    {
     "name": "stdout",
     "output_type": "stream",
     "text": [
      "Downloading https://zenodo.org/api/files/2bf982b6-143f-49f6-b9ad-1b1e60f67292/E113_attchrome_avgAUC_model.pt?download=1 to C:\\Users\\ghiot\\.kipoi\\models\\AttentiveChrome\\downloaded\\model_files\\E113\\weights\\586b6c6c003a7c919fde57d2be0f5180\n"
     ]
    },
    {
     "name": "stderr",
     "output_type": "stream",
     "text": [
      " 46%|████████████████████████████████████▍                                          | 106k/231k [00:00<00:08, 15.3kB/s]C:\\ProgramData\\Anaconda3\\lib\\site-packages\\torch\\nn\\modules\\rnn.py:60: UserWarning: dropout option adds dropout after all but last recurrent layer, so non-zero dropout expects num_layers greater than 1, but got dropout=0.5 and num_layers=1\n",
      "  warnings.warn(\"dropout option adds dropout after all but last \"\n",
      "238kB [00:00, 243kB/s]                                                                                                 \n",
      "0it [00:00, ?it/s]"
     ]
    },
    {
     "name": "stdout",
     "output_type": "stream",
     "text": [
      "Number of genes: 6600\n",
      "Number of entries: 660000\n",
      "Number of HMs: 7\n"
     ]
    },
    {
     "name": "stderr",
     "output_type": "stream",
     "text": [
      "207it [02:00,  1.72it/s]\n"
     ]
    },
    {
     "name": "stdout",
     "output_type": "stream",
     "text": [
      "E113 -> AUC: 0.7470882421295385\n"
     ]
    },
    {
     "name": "stderr",
     "output_type": "stream",
     "text": [
      "\r",
      "0.00B [00:00, ?B/s]"
     ]
    },
    {
     "name": "stdout",
     "output_type": "stream",
     "text": [
      "Downloading https://zenodo.org/api/files/2bf982b6-143f-49f6-b9ad-1b1e60f67292/E114_attchrome_avgAUC_model.pt?download=1 to C:\\Users\\ghiot\\.kipoi\\models\\AttentiveChrome\\downloaded\\model_files\\E114\\weights\\5ca9959f7442342907c2c5f0bc26d73b\n"
     ]
    },
    {
     "name": "stderr",
     "output_type": "stream",
     "text": [
      " 43%|█████████████████████████████████▏                                            | 98.3k/231k [00:00<00:07, 16.7kB/s]C:\\ProgramData\\Anaconda3\\lib\\site-packages\\torch\\nn\\modules\\rnn.py:60: UserWarning: dropout option adds dropout after all but last recurrent layer, so non-zero dropout expects num_layers greater than 1, but got dropout=0.5 and num_layers=1\n",
      "  warnings.warn(\"dropout option adds dropout after all but last \"\n",
      "238kB [00:00, 255kB/s]                                                                                                 \n",
      "0it [00:00, ?it/s]"
     ]
    },
    {
     "name": "stdout",
     "output_type": "stream",
     "text": [
      "Number of genes: 6600\n",
      "Number of entries: 660000\n",
      "Number of HMs: 7\n"
     ]
    },
    {
     "name": "stderr",
     "output_type": "stream",
     "text": [
      "207it [02:15,  1.53it/s]\n"
     ]
    },
    {
     "name": "stdout",
     "output_type": "stream",
     "text": [
      "E114 -> AUC: 0.8403253906618675\n"
     ]
    },
    {
     "name": "stderr",
     "output_type": "stream",
     "text": [
      "\r",
      "0.00B [00:00, ?B/s]"
     ]
    },
    {
     "name": "stdout",
     "output_type": "stream",
     "text": [
      "Downloading https://zenodo.org/api/files/2bf982b6-143f-49f6-b9ad-1b1e60f67292/E116_attchrome_avgAUC_model.pt?download=1 to C:\\Users\\ghiot\\.kipoi\\models\\AttentiveChrome\\downloaded\\model_files\\E116\\weights\\ecdeb5d30b6124b0bce0d5e45046cab9\n"
     ]
    },
    {
     "name": "stderr",
     "output_type": "stream",
     "text": [
      " 46%|████████████████████████████████████▍                                          | 106k/231k [00:00<00:07, 16.3kB/s]C:\\ProgramData\\Anaconda3\\lib\\site-packages\\torch\\nn\\modules\\rnn.py:60: UserWarning: dropout option adds dropout after all but last recurrent layer, so non-zero dropout expects num_layers greater than 1, but got dropout=0.5 and num_layers=1\n",
      "  warnings.warn(\"dropout option adds dropout after all but last \"\n",
      "238kB [00:01, 237kB/s]                                                                                                 \n",
      "0it [00:00, ?it/s]"
     ]
    },
    {
     "name": "stdout",
     "output_type": "stream",
     "text": [
      "Number of genes: 6600\n",
      "Number of entries: 660000\n",
      "Number of HMs: 7\n"
     ]
    },
    {
     "name": "stderr",
     "output_type": "stream",
     "text": [
      "207it [02:09,  1.60it/s]\n"
     ]
    },
    {
     "name": "stdout",
     "output_type": "stream",
     "text": [
      "E116 -> AUC: 0.9081917377542369\n"
     ]
    },
    {
     "name": "stderr",
     "output_type": "stream",
     "text": [
      "\r",
      "0.00B [00:00, ?B/s]"
     ]
    },
    {
     "name": "stdout",
     "output_type": "stream",
     "text": [
      "Downloading https://zenodo.org/api/files/2bf982b6-143f-49f6-b9ad-1b1e60f67292/E117_attchrome_avgAUC_model.pt?download=1 to C:\\Users\\ghiot\\.kipoi\\models\\AttentiveChrome\\downloaded\\model_files\\E117\\weights\\11be77c7266b198ee3f2fc74e452395c\n"
     ]
    },
    {
     "name": "stderr",
     "output_type": "stream",
     "text": [
      " 82%|████████████████████████████████████████████████████████████████▌              | 188k/231k [00:01<00:01, 33.7kB/s]C:\\ProgramData\\Anaconda3\\lib\\site-packages\\torch\\nn\\modules\\rnn.py:60: UserWarning: dropout option adds dropout after all but last recurrent layer, so non-zero dropout expects num_layers greater than 1, but got dropout=0.5 and num_layers=1\n",
      "  warnings.warn(\"dropout option adds dropout after all but last \"\n",
      "238kB [00:01, 209kB/s]                                                                                                 \n",
      "0it [00:00, ?it/s]"
     ]
    },
    {
     "name": "stdout",
     "output_type": "stream",
     "text": [
      "Number of genes: 6600\n",
      "Number of entries: 660000\n",
      "Number of HMs: 7\n"
     ]
    },
    {
     "name": "stderr",
     "output_type": "stream",
     "text": [
      "207it [02:06,  1.64it/s]\n"
     ]
    },
    {
     "name": "stdout",
     "output_type": "stream",
     "text": [
      "E117 -> AUC: 0.9158350701767961\n"
     ]
    },
    {
     "name": "stderr",
     "output_type": "stream",
     "text": [
      "\r",
      "0.00B [00:00, ?B/s]"
     ]
    },
    {
     "name": "stdout",
     "output_type": "stream",
     "text": [
      "Downloading https://zenodo.org/api/files/2bf982b6-143f-49f6-b9ad-1b1e60f67292/E118_attchrome_avgAUC_model.pt?download=1 to C:\\Users\\ghiot\\.kipoi\\models\\AttentiveChrome\\downloaded\\model_files\\E118\\weights\\65bd6369cddb01a837910694b84d00a6\n"
     ]
    },
    {
     "name": "stderr",
     "output_type": "stream",
     "text": [
      " 75%|██████████████████████████████████████████████████████████▉                    | 172k/231k [00:01<00:09, 6.44kB/s]C:\\ProgramData\\Anaconda3\\lib\\site-packages\\torch\\nn\\modules\\rnn.py:60: UserWarning: dropout option adds dropout after all but last recurrent layer, so non-zero dropout expects num_layers greater than 1, but got dropout=0.5 and num_layers=1\n",
      "  warnings.warn(\"dropout option adds dropout after all but last \"\n",
      "238kB [00:02, 117kB/s]                                                                                                 \n",
      "0it [00:00, ?it/s]"
     ]
    },
    {
     "name": "stdout",
     "output_type": "stream",
     "text": [
      "Number of genes: 6600\n",
      "Number of entries: 660000\n",
      "Number of HMs: 7\n"
     ]
    },
    {
     "name": "stderr",
     "output_type": "stream",
     "text": [
      "207it [02:05,  1.64it/s]\n"
     ]
    },
    {
     "name": "stdout",
     "output_type": "stream",
     "text": [
      "E118 -> AUC: 0.850034242916998\n"
     ]
    },
    {
     "name": "stderr",
     "output_type": "stream",
     "text": [
      "\r",
      "0.00B [00:00, ?B/s]"
     ]
    },
    {
     "name": "stdout",
     "output_type": "stream",
     "text": [
      "Downloading https://zenodo.org/api/files/2bf982b6-143f-49f6-b9ad-1b1e60f67292/E119_attchrome_avgAUC_model.pt?download=1 to C:\\Users\\ghiot\\.kipoi\\models\\AttentiveChrome\\downloaded\\model_files\\E119\\weights\\ea3e5d604a4b69c3b26066e5d23dfe12\n"
     ]
    },
    {
     "name": "stderr",
     "output_type": "stream",
     "text": [
      " 64%|██████████████████████████████████████████████████▌                            | 147k/231k [00:01<00:04, 17.5kB/s]C:\\ProgramData\\Anaconda3\\lib\\site-packages\\torch\\nn\\modules\\rnn.py:60: UserWarning: dropout option adds dropout after all but last recurrent layer, so non-zero dropout expects num_layers greater than 1, but got dropout=0.5 and num_layers=1\n",
      "  warnings.warn(\"dropout option adds dropout after all but last \"\n",
      "238kB [00:01, 179kB/s]                                                                                                 \n",
      "0it [00:00, ?it/s]"
     ]
    },
    {
     "name": "stdout",
     "output_type": "stream",
     "text": [
      "Number of genes: 6600\n",
      "Number of entries: 660000\n",
      "Number of HMs: 7\n"
     ]
    },
    {
     "name": "stderr",
     "output_type": "stream",
     "text": [
      "207it [02:06,  1.63it/s]\n"
     ]
    },
    {
     "name": "stdout",
     "output_type": "stream",
     "text": [
      "E119 -> AUC: 0.83212122325762\n"
     ]
    },
    {
     "name": "stderr",
     "output_type": "stream",
     "text": [
      "\r",
      "0.00B [00:00, ?B/s]"
     ]
    },
    {
     "name": "stdout",
     "output_type": "stream",
     "text": [
      "Downloading https://zenodo.org/api/files/2bf982b6-143f-49f6-b9ad-1b1e60f67292/E120_attchrome_avgAUC_model.pt?download=1 to C:\\Users\\ghiot\\.kipoi\\models\\AttentiveChrome\\downloaded\\model_files\\E120\\weights\\98beb529d183c7b0d3ce661699a4d6aa\n"
     ]
    },
    {
     "name": "stderr",
     "output_type": "stream",
     "text": [
      " 46%|████████████████████████████████████▍                                          | 106k/231k [00:00<00:08, 14.3kB/s]C:\\ProgramData\\Anaconda3\\lib\\site-packages\\torch\\nn\\modules\\rnn.py:60: UserWarning: dropout option adds dropout after all but last recurrent layer, so non-zero dropout expects num_layers greater than 1, but got dropout=0.5 and num_layers=1\n",
      "  warnings.warn(\"dropout option adds dropout after all but last \"\n",
      "238kB [00:01, 224kB/s]                                                                                                 \n",
      "0it [00:00, ?it/s]"
     ]
    },
    {
     "name": "stdout",
     "output_type": "stream",
     "text": [
      "Number of genes: 6600\n",
      "Number of entries: 660000\n",
      "Number of HMs: 7\n"
     ]
    },
    {
     "name": "stderr",
     "output_type": "stream",
     "text": [
      "207it [02:00,  1.72it/s]\n"
     ]
    },
    {
     "name": "stdout",
     "output_type": "stream",
     "text": [
      "E120 -> AUC: 0.8413337181017371\n"
     ]
    },
    {
     "name": "stderr",
     "output_type": "stream",
     "text": [
      "\r",
      "0.00B [00:00, ?B/s]"
     ]
    },
    {
     "name": "stdout",
     "output_type": "stream",
     "text": [
      "Downloading https://zenodo.org/api/files/2bf982b6-143f-49f6-b9ad-1b1e60f67292/E122_attchrome_avgAUC_model.pt?download=1 to C:\\Users\\ghiot\\.kipoi\\models\\AttentiveChrome\\downloaded\\model_files\\E122\\weights\\eb26f18e6458bc4053c2dbdd1a95c6ac\n"
     ]
    },
    {
     "name": "stderr",
     "output_type": "stream",
     "text": [
      " 57%|████████████████████████████████████████████▉                                  | 131k/231k [00:00<00:06, 15.7kB/s]C:\\ProgramData\\Anaconda3\\lib\\site-packages\\torch\\nn\\modules\\rnn.py:60: UserWarning: dropout option adds dropout after all but last recurrent layer, so non-zero dropout expects num_layers greater than 1, but got dropout=0.5 and num_layers=1\n",
      "  warnings.warn(\"dropout option adds dropout after all but last \"\n",
      "238kB [00:01, 235kB/s]                                                                                                 \n",
      "0it [00:00, ?it/s]"
     ]
    },
    {
     "name": "stdout",
     "output_type": "stream",
     "text": [
      "Number of genes: 6600\n",
      "Number of entries: 660000\n",
      "Number of HMs: 7\n"
     ]
    },
    {
     "name": "stderr",
     "output_type": "stream",
     "text": [
      "207it [02:24,  1.43it/s]\n"
     ]
    },
    {
     "name": "stdout",
     "output_type": "stream",
     "text": [
      "E122 -> AUC: 0.8401308212534774\n"
     ]
    },
    {
     "name": "stderr",
     "output_type": "stream",
     "text": [
      "\r",
      "0.00B [00:00, ?B/s]"
     ]
    },
    {
     "name": "stdout",
     "output_type": "stream",
     "text": [
      "Downloading https://zenodo.org/api/files/2bf982b6-143f-49f6-b9ad-1b1e60f67292/E123_attchrome_avgAUC_model.pt?download=1 to C:\\Users\\ghiot\\.kipoi\\models\\AttentiveChrome\\downloaded\\model_files\\E123\\weights\\dae6687bc9e6ac27945c176a9cacc9cc\n"
     ]
    },
    {
     "name": "stderr",
     "output_type": "stream",
     "text": [
      " 89%|██████████████████████████████████████████████████████████████████████▏        | 205k/231k [00:00<00:01, 21.1kB/s]C:\\ProgramData\\Anaconda3\\lib\\site-packages\\torch\\nn\\modules\\rnn.py:60: UserWarning: dropout option adds dropout after all but last recurrent layer, so non-zero dropout expects num_layers greater than 1, but got dropout=0.5 and num_layers=1\n",
      "  warnings.warn(\"dropout option adds dropout after all but last \"\n",
      "238kB [00:01, 227kB/s]                                                                                                 \n",
      "0it [00:00, ?it/s]"
     ]
    },
    {
     "name": "stdout",
     "output_type": "stream",
     "text": [
      "Number of genes: 6600\n",
      "Number of entries: 660000\n",
      "Number of HMs: 7\n"
     ]
    },
    {
     "name": "stderr",
     "output_type": "stream",
     "text": [
      "207it [02:02,  1.69it/s]\n"
     ]
    },
    {
     "name": "stdout",
     "output_type": "stream",
     "text": [
      "E123 -> AUC: 0.9208446039688857\n"
     ]
    },
    {
     "name": "stderr",
     "output_type": "stream",
     "text": [
      "\r",
      "0.00B [00:00, ?B/s]"
     ]
    },
    {
     "name": "stdout",
     "output_type": "stream",
     "text": [
      "Downloading https://zenodo.org/api/files/2bf982b6-143f-49f6-b9ad-1b1e60f67292/E127_attchrome_avgAUC_model.pt?download=1 to C:\\Users\\ghiot\\.kipoi\\models\\AttentiveChrome\\downloaded\\model_files\\E127\\weights\\9536df4e7822b0a14d2d50c451f47b1f\n"
     ]
    },
    {
     "name": "stderr",
     "output_type": "stream",
     "text": [
      " 85%|███████████████████████████████████████████████████████████████████▎           | 197k/231k [00:00<00:01, 21.3kB/s]C:\\ProgramData\\Anaconda3\\lib\\site-packages\\torch\\nn\\modules\\rnn.py:60: UserWarning: dropout option adds dropout after all but last recurrent layer, so non-zero dropout expects num_layers greater than 1, but got dropout=0.5 and num_layers=1\n",
      "  warnings.warn(\"dropout option adds dropout after all but last \"\n",
      "238kB [00:01, 214kB/s]                                                                                                 \n",
      "0it [00:00, ?it/s]"
     ]
    },
    {
     "name": "stdout",
     "output_type": "stream",
     "text": [
      "Number of genes: 6600\n",
      "Number of entries: 660000\n",
      "Number of HMs: 7\n"
     ]
    },
    {
     "name": "stderr",
     "output_type": "stream",
     "text": [
      "207it [02:17,  1.50it/s]\n"
     ]
    },
    {
     "name": "stdout",
     "output_type": "stream",
     "text": [
      "E127 -> AUC: 0.8360687717838007\n"
     ]
    },
    {
     "name": "stderr",
     "output_type": "stream",
     "text": [
      "\r",
      "0.00B [00:00, ?B/s]"
     ]
    },
    {
     "name": "stdout",
     "output_type": "stream",
     "text": [
      "Downloading https://zenodo.org/api/files/2bf982b6-143f-49f6-b9ad-1b1e60f67292/E128_attchrome_avgAUC_model.pt?download=1 to C:\\Users\\ghiot\\.kipoi\\models\\AttentiveChrome\\downloaded\\model_files\\E128\\weights\\458eb929a4691faad12a274e2c727f50\n"
     ]
    },
    {
     "name": "stderr",
     "output_type": "stream",
     "text": [
      " 60%|███████████████████████████████████████████████▋                               | 139k/231k [00:00<00:06, 14.8kB/s]C:\\ProgramData\\Anaconda3\\lib\\site-packages\\torch\\nn\\modules\\rnn.py:60: UserWarning: dropout option adds dropout after all but last recurrent layer, so non-zero dropout expects num_layers greater than 1, but got dropout=0.5 and num_layers=1\n",
      "  warnings.warn(\"dropout option adds dropout after all but last \"\n",
      "\n",
      "238kB [00:01, 217kB/s]                                                                                                 \n"
     ]
    },
    {
     "name": "stdout",
     "output_type": "stream",
     "text": [
      "Number of genes: 6600\n",
      "Number of entries: 660000\n",
      "Number of HMs: 7\n"
     ]
    },
    {
     "name": "stderr",
     "output_type": "stream",
     "text": [
      "\n",
      "1it [00:55, 55.43s/it]\u001b[A\n",
      "2it [00:55, 38.91s/it]\u001b[A\n",
      "3it [00:56, 27.36s/it]\u001b[A\n",
      "4it [00:56, 19.26s/it]\u001b[A\n",
      "5it [00:56, 13.60s/it]\u001b[A\n",
      "6it [00:57,  9.62s/it]\u001b[A\n",
      "7it [00:57,  6.85s/it]\u001b[A\n",
      "8it [00:58,  4.90s/it]\u001b[A\n",
      "9it [00:58,  3.54s/it]\u001b[A\n",
      "10it [00:58,  2.58s/it]\u001b[A\n",
      "11it [00:59,  1.91s/it]\u001b[A\n",
      "12it [00:59,  1.44s/it]\u001b[A\n",
      "13it [00:59,  1.12s/it]\u001b[A\n",
      "14it [01:00,  1.12it/s]\u001b[A\n",
      "15it [01:00,  1.36it/s]\u001b[A\n",
      "16it [01:00,  1.60it/s]\u001b[A\n",
      "17it [01:01,  1.80it/s]\u001b[A\n",
      "18it [01:01,  1.99it/s]\u001b[A\n",
      "19it [01:02,  2.16it/s]\u001b[A\n",
      "20it [01:02,  2.32it/s]\u001b[A\n",
      "21it [01:02,  2.41it/s]\u001b[A\n",
      "22it [01:03,  2.47it/s]\u001b[A\n",
      "23it [01:03,  2.45it/s]\u001b[A\n",
      "24it [01:03,  2.49it/s]\u001b[A\n",
      "25it [01:04,  2.51it/s]\u001b[A\n",
      "26it [01:04,  2.59it/s]\u001b[A\n",
      "27it [01:05,  2.61it/s]\u001b[A\n",
      "28it [01:05,  2.66it/s]\u001b[A\n",
      "29it [01:05,  2.70it/s]\u001b[A\n",
      "30it [01:06,  2.73it/s]\u001b[A\n",
      "31it [01:06,  2.77it/s]\u001b[A\n",
      "32it [01:06,  2.76it/s]\u001b[A\n",
      "33it [01:07,  2.49it/s]\u001b[A\n",
      "34it [01:07,  2.54it/s]\u001b[A\n",
      "35it [01:08,  2.53it/s]\u001b[A\n",
      "36it [01:08,  2.77it/s]\u001b[A\n",
      "37it [01:08,  3.02it/s]\u001b[A\n",
      "38it [01:08,  3.19it/s]\u001b[A\n",
      "39it [01:09,  3.32it/s]\u001b[A\n",
      "40it [01:09,  3.23it/s]\u001b[A\n",
      "41it [01:09,  3.22it/s]\u001b[A\n",
      "42it [01:10,  3.04it/s]\u001b[A\n",
      "43it [01:10,  3.12it/s]\u001b[A\n",
      "44it [01:10,  3.16it/s]\u001b[A\n",
      "45it [01:11,  2.78it/s]\u001b[A\n",
      "46it [01:11,  2.80it/s]\u001b[A\n",
      "47it [01:12,  2.58it/s]\u001b[A\n",
      "48it [01:12,  2.55it/s]\u001b[A\n",
      "49it [01:12,  2.58it/s]\u001b[A\n",
      "50it [01:13,  2.67it/s]\u001b[A\n",
      "51it [01:13,  2.69it/s]\u001b[A\n",
      "52it [01:13,  2.70it/s]\u001b[A\n",
      "53it [01:14,  2.70it/s]\u001b[A\n",
      "54it [01:14,  2.69it/s]\u001b[A\n",
      "55it [01:15,  2.63it/s]\u001b[A\n",
      "56it [01:15,  2.70it/s]\u001b[A\n",
      "57it [01:15,  2.68it/s]\u001b[A\n",
      "58it [01:16,  2.53it/s]\u001b[A\n",
      "59it [01:16,  2.54it/s]\u001b[A\n",
      "60it [01:17,  2.67it/s]\u001b[A\n",
      "61it [01:17,  2.97it/s]\u001b[A\n",
      "62it [01:17,  3.20it/s]\u001b[A\n",
      "63it [01:17,  3.08it/s]\u001b[A\n",
      "64it [01:18,  2.96it/s]\u001b[A\n",
      "65it [01:18,  2.91it/s]\u001b[A\n",
      "66it [01:18,  2.77it/s]\u001b[A\n",
      "67it [01:19,  2.53it/s]\u001b[A\n",
      "68it [01:19,  2.56it/s]\u001b[A\n",
      "69it [01:20,  2.41it/s]\u001b[A\n",
      "70it [01:20,  2.47it/s]\u001b[A\n",
      "71it [01:21,  2.40it/s]\u001b[A\n",
      "72it [01:21,  2.35it/s]\u001b[A\n",
      "73it [01:21,  2.44it/s]\u001b[A\n",
      "74it [01:22,  2.69it/s]\u001b[A\n",
      "75it [01:22,  2.70it/s]\u001b[A\n",
      "76it [01:22,  2.76it/s]\u001b[A\n",
      "77it [01:23,  2.91it/s]\u001b[A\n",
      "78it [01:23,  3.06it/s]\u001b[A\n",
      "79it [01:23,  3.05it/s]\u001b[A\n",
      "80it [01:24,  3.11it/s]\u001b[A\n",
      "81it [01:24,  2.99it/s]\u001b[A\n",
      "82it [01:25,  2.72it/s]\u001b[A\n",
      "83it [01:25,  2.74it/s]\u001b[A\n",
      "84it [01:25,  2.66it/s]\u001b[A\n",
      "85it [01:26,  2.55it/s]\u001b[A\n",
      "86it [01:26,  2.26it/s]\u001b[A\n",
      "87it [01:27,  2.38it/s]\u001b[A\n",
      "88it [01:27,  2.48it/s]\u001b[A\n",
      "89it [01:27,  2.46it/s]\u001b[A\n",
      "90it [01:28,  2.50it/s]\u001b[A\n",
      "91it [01:28,  2.45it/s]\u001b[A\n",
      "92it [01:29,  2.54it/s]\u001b[A\n",
      "93it [01:29,  2.73it/s]\u001b[A\n",
      "94it [01:29,  2.73it/s]\u001b[A\n",
      "95it [01:30,  2.70it/s]\u001b[A\n",
      "96it [01:30,  2.54it/s]\u001b[A\n",
      "97it [01:31,  2.33it/s]\u001b[A\n",
      "98it [01:31,  2.50it/s]\u001b[A\n",
      "99it [01:31,  2.80it/s]\u001b[A\n",
      "100it [01:31,  3.09it/s]\u001b[A\n",
      "101it [01:32,  3.23it/s]\u001b[A\n",
      "102it [01:32,  3.05it/s]\u001b[A\n",
      "103it [01:32,  2.94it/s]\u001b[A\n",
      "104it [01:33,  2.91it/s]\u001b[A\n",
      "105it [01:33,  2.77it/s]\u001b[A\n",
      "106it [01:34,  2.31it/s]\u001b[A\n",
      "107it [01:34,  2.32it/s]\u001b[A\n",
      "108it [01:35,  2.05it/s]\u001b[A\n",
      "109it [01:35,  2.05it/s]\u001b[A\n",
      "110it [01:36,  1.95it/s]\u001b[A\n",
      "111it [01:36,  2.06it/s]\u001b[A\n",
      "112it [01:37,  2.24it/s]\u001b[A\n",
      "113it [01:37,  2.42it/s]\u001b[A\n",
      "114it [01:37,  2.44it/s]\u001b[A\n",
      "115it [01:38,  2.36it/s]\u001b[A\n",
      "116it [01:38,  2.42it/s]\u001b[A\n",
      "117it [01:39,  2.59it/s]\u001b[A\n",
      "118it [01:39,  2.79it/s]\u001b[A\n",
      "119it [01:39,  2.92it/s]\u001b[A\n",
      "120it [01:39,  3.01it/s]\u001b[A\n",
      "121it [01:40,  3.09it/s]\u001b[A\n",
      "122it [01:40,  3.03it/s]\u001b[A\n",
      "123it [01:40,  3.05it/s]\u001b[A\n",
      "124it [01:41,  2.88it/s]\u001b[A\n",
      "125it [01:41,  2.85it/s]\u001b[A\n",
      "126it [01:42,  2.78it/s]\u001b[A\n",
      "127it [01:42,  2.84it/s]\u001b[A\n",
      "128it [01:42,  2.71it/s]\u001b[A\n",
      "129it [01:43,  2.67it/s]\u001b[A\n",
      "130it [01:43,  2.67it/s]\u001b[A\n",
      "131it [01:43,  2.69it/s]\u001b[A\n",
      "132it [01:44,  2.80it/s]\u001b[A\n",
      "133it [01:44,  3.04it/s]\u001b[A\n",
      "134it [01:44,  2.91it/s]\u001b[A\n",
      "135it [01:45,  3.13it/s]\u001b[A\n",
      "136it [01:45,  3.17it/s]\u001b[A\n",
      "137it [01:45,  3.26it/s]\u001b[A\n",
      "138it [01:46,  3.19it/s]\u001b[A\n",
      "139it [01:46,  2.95it/s]\u001b[A\n",
      "140it [01:46,  2.87it/s]\u001b[A\n",
      "141it [01:47,  2.73it/s]\u001b[A\n",
      "142it [01:47,  2.78it/s]\u001b[A\n",
      "143it [01:48,  2.60it/s]\u001b[A\n",
      "144it [01:48,  2.66it/s]\u001b[A\n",
      "145it [01:48,  2.63it/s]\u001b[A\n",
      "146it [01:49,  2.65it/s]\u001b[A\n",
      "147it [01:49,  2.62it/s]\u001b[A\n",
      "148it [01:49,  2.59it/s]\u001b[A\n",
      "149it [01:50,  2.60it/s]\u001b[A\n",
      "150it [01:50,  2.67it/s]\u001b[A\n",
      "151it [01:51,  2.72it/s]\u001b[A\n",
      "152it [01:51,  2.70it/s]\u001b[A\n",
      "153it [01:51,  2.71it/s]\u001b[A\n",
      "154it [01:52,  2.83it/s]\u001b[A\n",
      "155it [01:52,  2.79it/s]\u001b[A\n",
      "156it [01:52,  2.71it/s]\u001b[A\n",
      "157it [01:53,  2.44it/s]\u001b[A\n",
      "158it [01:53,  2.57it/s]\u001b[A\n",
      "159it [01:54,  2.59it/s]\u001b[A\n",
      "160it [01:54,  2.70it/s]\u001b[A\n",
      "161it [01:54,  2.70it/s]\u001b[A\n",
      "162it [01:55,  2.68it/s]\u001b[A\n",
      "163it [01:55,  2.83it/s]\u001b[A\n",
      "164it [01:55,  2.74it/s]\u001b[A\n",
      "165it [01:56,  2.58it/s]\u001b[A\n",
      "166it [01:56,  2.68it/s]\u001b[A\n",
      "167it [01:56,  2.91it/s]\u001b[A\n",
      "168it [01:57,  3.07it/s]\u001b[A\n",
      "169it [01:57,  3.13it/s]\u001b[A\n",
      "170it [01:57,  2.85it/s]\u001b[A\n",
      "171it [01:58,  2.76it/s]\u001b[A\n",
      "172it [01:58,  2.74it/s]\u001b[A\n",
      "173it [01:59,  2.75it/s]\u001b[A\n",
      "174it [01:59,  2.76it/s]\u001b[A\n",
      "175it [01:59,  2.81it/s]\u001b[A\n",
      "176it [02:00,  2.85it/s]\u001b[A\n",
      "177it [02:00,  2.90it/s]\u001b[A\n",
      "178it [02:00,  3.05it/s]\u001b[A\n",
      "179it [02:01,  2.91it/s]\u001b[A\n",
      "180it [02:01,  2.88it/s]\u001b[A\n",
      "181it [02:01,  2.71it/s]\u001b[A\n",
      "182it [02:02,  2.72it/s]\u001b[A\n",
      "183it [02:02,  2.81it/s]\u001b[A\n",
      "184it [02:02,  2.81it/s]\u001b[A\n",
      "185it [02:03,  2.80it/s]\u001b[A\n",
      "186it [02:03,  2.80it/s]\u001b[A\n",
      "187it [02:04,  2.81it/s]\u001b[A\n",
      "188it [02:04,  2.76it/s]\u001b[A\n",
      "189it [02:04,  2.73it/s]\u001b[A\n",
      "190it [02:05,  2.71it/s]\u001b[A\n",
      "191it [02:05,  2.64it/s]\u001b[A\n",
      "192it [02:05,  2.77it/s]\u001b[A\n",
      "193it [02:06,  2.75it/s]\u001b[A\n",
      "194it [02:06,  2.72it/s]\u001b[A\n",
      "195it [02:06,  2.72it/s]\u001b[A\n",
      "196it [02:07,  2.77it/s]\u001b[A\n",
      "197it [02:07,  2.74it/s]\u001b[A\n",
      "198it [02:08,  2.74it/s]\u001b[A\n",
      "199it [02:08,  2.70it/s]\u001b[A\n",
      "200it [02:08,  2.73it/s]\u001b[A\n",
      "201it [02:09,  2.84it/s]\u001b[A\n",
      "202it [02:09,  2.80it/s]\u001b[A\n",
      "203it [02:09,  2.63it/s]\u001b[A\n",
      "204it [02:10,  2.57it/s]\u001b[A\n",
      "205it [02:10,  2.41it/s]\u001b[A\n",
      "206it [02:11,  2.34it/s]\u001b[A\n",
      "207it [02:11,  1.57it/s]\u001b[A\n"
     ]
    },
    {
     "name": "stdout",
     "output_type": "stream",
     "text": [
      "E128 -> AUC: 0.8384579947079946\n"
     ]
    }
   ],
   "source": [
    "for folder in folders[22:]:    \n",
    "    # download pre-trained model\n",
    "    try:\n",
    "        model = kipoi.get_model(f'AttentiveChrome/{folder}')\n",
    "    except:\n",
    "        print(f\"{folder} doesn't exists\")\n",
    "    finally:\n",
    "        # make predictions\n",
    "        predictions = model.pipeline.predict({\"input_file\": f\"{data_path}{folder}/classification/test.csv\", \"bin_size\": 100})\n",
    "        # compute AUC\n",
    "        auc = AUC(folder,predictions)\n",
    "        # store results\n",
    "        results.append((folder,auc))\n",
    "        print(f\"{folder} -> AUC: {auc}\")"
   ]
  },
  {
   "cell_type": "code",
   "execution_count": 107,
   "metadata": {},
   "outputs": [
    {
     "name": "stdout",
     "output_type": "stream",
     "text": [
      "Saved attentive_chrome_results.csv (56 rows)\n"
     ]
    }
   ],
   "source": [
    "# save results to file for later uses\n",
    "save_results(results)"
   ]
  }
 ],
 "metadata": {
  "kernelspec": {
   "display_name": "Python 3",
   "language": "python",
   "name": "python3"
  },
  "language_info": {
   "codemirror_mode": {
    "name": "ipython",
    "version": 3
   },
   "file_extension": ".py",
   "mimetype": "text/x-python",
   "name": "python",
   "nbconvert_exporter": "python",
   "pygments_lexer": "ipython3",
   "version": "3.8.5"
  }
 },
 "nbformat": 4,
 "nbformat_minor": 4
}
