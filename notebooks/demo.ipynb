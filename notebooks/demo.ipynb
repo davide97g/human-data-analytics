{
 "cells": [
  {
   "cell_type": "code",
   "execution_count": 218,
   "metadata": {},
   "outputs": [],
   "source": [
    "import tensorflow as tf\n",
    "import os\n",
    "from tqdm.notebook import tqdm\n",
    "import numpy as np\n",
    "import pandas as pd\n",
    "import seaborn as sns\n",
    "import matplotlib.pyplot as plt"
   ]
  },
  {
   "cell_type": "code",
   "execution_count": 219,
   "metadata": {},
   "outputs": [],
   "source": [
    "input_path =\"../models/\"\n",
    "data_path = \"../dataset/data/\""
   ]
  },
  {
   "cell_type": "code",
   "execution_count": 220,
   "metadata": {},
   "outputs": [],
   "source": [
    "# load test set\n",
    "def load():\n",
    "    print(\"load()\")\n",
    "    full_train_data = np.array([])\n",
    "    full_valid_data = np.array([])\n",
    "    full_test_data = np.array([])\n",
    "    full_train_labels = np.array([])\n",
    "    full_valid_labels = np.array([])\n",
    "    full_test_labels = np.array([])\n",
    "\n",
    "    dirs = os.listdir(data_path)\n",
    "    for folder in tqdm(dirs):\n",
    "        (train_data, train_labels), (valid_data, valid_labels), (test_data, test_labels) = load_clean_data(folder)\n",
    "        # print(f\"{folder} loaded\")\n",
    "        \n",
    "        # train\n",
    "        full_train_data = np.append(full_train_data, train_data)\n",
    "        full_train_labels = np.append(full_train_labels, train_labels)\n",
    "        # valid\n",
    "        full_valid_data = np.append(full_valid_data, valid_data)\n",
    "        full_valid_labels = np.append(full_valid_labels, valid_labels)\n",
    "        # test\n",
    "        full_test_data = np.append(full_test_data, test_data)\n",
    "        full_test_labels = np.append(full_test_labels, test_labels)\n",
    "\n",
    "    # ? reshaping\n",
    "    full_train_data = full_train_data.reshape(len(full_train_labels), 5, 100, 1)\n",
    "    full_valid_data = full_valid_data.reshape(len(full_valid_labels), 5, 100, 1)\n",
    "    full_test_data = full_test_data.reshape(len(full_test_labels), 5, 100, 1)\n",
    "\n",
    "    return (\n",
    "        (full_train_data, full_train_labels),\n",
    "        (full_valid_data, full_valid_labels),\n",
    "        (full_test_data, full_test_labels)\n",
    "    )"
   ]
  },
  {
   "cell_type": "code",
   "execution_count": 221,
   "metadata": {},
   "outputs": [],
   "source": [
    "def load_clean_data(folder_name):\n",
    "    # data\n",
    "    train_data = np.load(f\"{data_path}{folder_name}/train_data.npy\")\n",
    "    valid_data = np.load(f\"{data_path}{folder_name}/valid_data.npy\")\n",
    "    test_data = np.load(f\"{data_path}{folder_name}/test_data.npy\")\n",
    "    # labels\n",
    "    train_labels = np.load(f\"{data_path}{folder_name}/train_labels.npy\")\n",
    "    valid_labels = np.load(f\"{data_path}{folder_name}/valid_labels.npy\")\n",
    "    test_labels = np.load(f\"{data_path}{folder_name}/test_labels.npy\")\n",
    "    # return complete tuples\n",
    "    return ((train_data, train_labels), (valid_data, valid_labels), (test_data, test_labels))"
   ]
  },
  {
   "cell_type": "code",
   "execution_count": 222,
   "metadata": {},
   "outputs": [
    {
     "name": "stdout",
     "output_type": "stream",
     "text": [
      "load()\n"
     ]
    },
    {
     "data": {
      "application/vnd.jupyter.widget-view+json": {
       "model_id": "0d7fd82093de4d6caa899874165566e6",
       "version_major": 2,
       "version_minor": 0
      },
      "text/plain": [
       "  0%|          | 0/56 [00:00<?, ?it/s]"
      ]
     },
     "metadata": {},
     "output_type": "display_data"
    }
   ],
   "source": [
    "(train_data, train_labels), (valid_data, valid_labels), (test_data, test_labels) = load()"
   ]
  },
  {
   "cell_type": "markdown",
   "metadata": {},
   "source": [
    "## Choose a model"
   ]
  },
  {
   "cell_type": "code",
   "execution_count": 223,
   "metadata": {},
   "outputs": [
    {
     "name": "stdout",
     "output_type": "stream",
     "text": [
      "WARNING:tensorflow:SavedModel saved prior to TF 2.5 detected when loading Keras model. Please ensure that you are saving the model with model.save() or tf.keras.models.save_model(), *NOT* tf.saved_model.save(). To confirm, there should be a file named \"keras_metadata.pb\" in the SavedModel directory.\n"
     ]
    }
   ],
   "source": [
    "# chose the model to inspect\n",
    "model_name = \"Ultra_Chrome\"\n",
    "model = tf.keras.models.load_model(f\"{input_path}{model_name}\")        "
   ]
  },
  {
   "cell_type": "code",
   "execution_count": 224,
   "metadata": {},
   "outputs": [],
   "source": [
    "test_labels = test_labels.reshape(len(test_labels),1) # needed to correctly match later"
   ]
  },
  {
   "cell_type": "code",
   "execution_count": 226,
   "metadata": {},
   "outputs": [
    {
     "name": "stdout",
     "output_type": "stream",
     "text": [
      "11545/11545 [==============================] - 84s 7ms/step\n"
     ]
    }
   ],
   "source": [
    "predictions = model.predict(test_data, verbose=1)"
   ]
  },
  {
   "cell_type": "markdown",
   "metadata": {},
   "source": [
    "## Visualize the gene"
   ]
  },
  {
   "cell_type": "code",
   "execution_count": 227,
   "metadata": {},
   "outputs": [],
   "source": [
    "def plot_gene(gene,label,prediction=False):\n",
    "    gene = gene.reshape(5,100)\n",
    "    df = pd.DataFrame(gene, index=['HM1','HM2','HM3','HM4','HM5'])\n",
    "    plt.figure(figsize=(20, 5))\n",
    "    if prediction:\n",
    "        sns.heatmap(df, cmap=(\"RdPu\" if label>=0.5 else \"BuPu\"))\n",
    "    else:\n",
    "        sns.heatmap(df, cmap=(\"RdPu\" if label==1 else \"BuPu\"))\n",
    "    plt.xlabel(\"Bins\")\n",
    "    plt.ylabel(\"Histone modifications\")\n",
    "    if prediction:\n",
    "        print(\"Prediction:\",label)\n",
    "        plt.title(\"Predicted Gene expressed\" if label>=0.5 else \"Predicted Gene not expressed\")\n",
    "    else:\n",
    "        plt.title(\"Gene expressed\" if label==1 else \"Gene not expressed\")\n",
    "    plt.show()"
   ]
  },
  {
   "cell_type": "code",
   "execution_count": 228,
   "metadata": {},
   "outputs": [],
   "source": [
    "# correct predictions\n",
    "# 34235, 7352, 12312, 12315\n",
    "\n",
    "# wrong predictions\n",
    "# 2, 124127, 124130, 4\n",
    "\n",
    "x = 4"
   ]
  },
  {
   "cell_type": "markdown",
   "metadata": {},
   "source": [
    "## Visualize prediction"
   ]
  },
  {
   "cell_type": "code",
   "execution_count": 229,
   "metadata": {},
   "outputs": [
    {
     "data": {
      "image/png": "[encoded data removed]",
      "text/plain": [
       "<Figure size 1440x360 with 2 Axes>"
      ]
     },
     "metadata": {
      "needs_background": "light"
     },
     "output_type": "display_data"
    },
    {
     "name": "stdout",
     "output_type": "stream",
     "text": [
      "Prediction: [0.34663606]\n"
     ]
    },
    {
     "data": {
      "image/png": "[encoded data removed]",
      "text/plain": [
       "<Figure size 1440x360 with 2 Axes>"
      ]
     },
     "metadata": {
      "needs_background": "light"
     },
     "output_type": "display_data"
    }
   ],
   "source": [
    "plot_gene(test_data[x],test_labels[x])\n",
    "plot_gene(test_data[x],predictions[x],prediction=True)"
   ]
  },
  {
   "cell_type": "markdown",
   "metadata": {},
   "source": [
    "## Extra considerations\n",
    "> What if we want to fix a threshold ?"
   ]
  },
  {
   "cell_type": "code",
   "execution_count": 230,
   "metadata": {},
   "outputs": [],
   "source": [
    "threshold = 0.5 # an example of threshold, also used for the plots"
   ]
  },
  {
   "cell_type": "code",
   "execution_count": 231,
   "metadata": {},
   "outputs": [],
   "source": [
    "discrete_predictions = [0 if p<threshold else 1 for p in predictions]"
   ]
  },
  {
   "cell_type": "code",
   "execution_count": 232,
   "metadata": {},
   "outputs": [
    {
     "name": "stdout",
     "output_type": "stream",
     "text": [
      "23.465211459754435 %\n"
     ]
    }
   ],
   "source": [
    "# how many expressed genes from the total test set?\n",
    "ones = []\n",
    "for label in test_labels:\n",
    "    if label == 1:\n",
    "        ones.append(label)\n",
    "print(len(ones)/len(test_labels)*100,\"%\") # ~23%"
   ]
  },
  {
   "cell_type": "code",
   "execution_count": 233,
   "metadata": {},
   "outputs": [
    {
     "name": "stdout",
     "output_type": "stream",
     "text": [
      "tf.Tensor(\n",
      "[[244077  38667]\n",
      " [ 40134  46554]], shape=(2, 2), dtype=int32)\n"
     ]
    }
   ],
   "source": [
    "# with discrete values we can define a confusion matrix\n",
    "cm = tf.math.confusion_matrix(test_labels.reshape(len(test_labels)),discrete_predictions,2)\n",
    "print(cm)"
   ]
  },
  {
   "cell_type": "markdown",
   "metadata": {},
   "source": [
    "### Not bad results for a fixed threshold!"
   ]
  }
 ],
 "metadata": {
  "kernelspec": {
   "display_name": "Python 3",
   "language": "python",
   "name": "python3"
  },
  "language_info": {
   "codemirror_mode": {
    "name": "ipython",
    "version": 3
   },
   "file_extension": ".py",
   "mimetype": "text/x-python",
   "name": "python",
   "nbconvert_exporter": "python",
   "pygments_lexer": "ipython3",
   "version": "3.8.8"
  }
 },
 "nbformat": 4,
 "nbformat_minor": 4
}
