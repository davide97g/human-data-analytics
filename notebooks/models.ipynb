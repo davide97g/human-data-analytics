{
 "cells": [
  {
   "cell_type": "markdown",
   "metadata": {},
   "source": [
    "## Imports"
   ]
  },
  {
   "cell_type": "code",
   "execution_count": 3,
   "metadata": {},
   "outputs": [],
   "source": [
    "import tensorflow as tf\n",
    "from tensorflow.keras import layers, models\n",
    "from sklearn import preprocessing\n",
    "import matplotlib.pyplot as plt\n",
    "import seaborn as sns\n",
    "\n",
    "from sklearn.ensemble import RandomForestClassifier\n",
    "from sklearn.datasets import make_classification\n",
    "from sklearn.metrics import roc_auc_score\n",
    "\n",
    "import joblib\n",
    "\n",
    "import pandas as pd\n",
    "import numpy as np\n",
    "import os\n",
    "\n",
    "from tqdm.notebook import tqdm\n",
    "\n",
    "data_path = \"../dataset/data/\"\n",
    "cell_types = os.listdir(data_path)\n",
    "\n",
    "np.random.seed(42)\n",
    " \n",
    "# numpy version == 1.19.3 in order to make tensorflow Recurrent layer works\n",
    "assert(np.version.version==\"1.19.3\")"
   ]
  },
  {
   "cell_type": "markdown",
   "metadata": {},
   "source": [
    "## Load the data"
   ]
  },
  {
   "cell_type": "code",
   "execution_count": 4,
   "metadata": {},
   "outputs": [],
   "source": [
    "def load():\n",
    "    print(\"load()\")\n",
    "    full_train_data = np.array([])\n",
    "    full_valid_data = np.array([])\n",
    "    full_test_data = np.array([])\n",
    "    full_train_labels = np.array([])\n",
    "    full_valid_labels = np.array([])\n",
    "    full_test_labels = np.array([])\n",
    "\n",
    "    dirs = os.listdir(data_path)\n",
    "    for folder in tqdm(dirs):\n",
    "        (train_data, train_labels), (valid_data, valid_labels), (test_data, test_labels) = load_clean_data(folder)\n",
    "        # print(f\"{folder} loaded\")\n",
    "        \n",
    "        # train\n",
    "        full_train_data = np.append(full_train_data, train_data)\n",
    "        full_train_labels = np.append(full_train_labels, train_labels)\n",
    "        # valid\n",
    "        full_valid_data = np.append(full_valid_data, valid_data)\n",
    "        full_valid_labels = np.append(full_valid_labels, valid_labels)\n",
    "        # test\n",
    "        full_test_data = np.append(full_test_data, test_data)\n",
    "        full_test_labels = np.append(full_test_labels, test_labels)\n",
    "\n",
    "    # ? reshaping\n",
    "    full_train_data = full_train_data.reshape(len(full_train_labels), 5, 100, 1)\n",
    "    full_valid_data = full_valid_data.reshape(len(full_valid_labels), 5, 100, 1)\n",
    "    full_test_data = full_test_data.reshape(len(full_test_labels), 5, 100, 1)\n",
    "\n",
    "    return (\n",
    "        (full_train_data, full_train_labels),\n",
    "        (full_valid_data, full_valid_labels),\n",
    "        (full_test_data, full_test_labels)\n",
    "    )"
   ]
  },
  {
   "cell_type": "code",
   "execution_count": 5,
   "metadata": {},
   "outputs": [],
   "source": [
    "def load_clean_data(folder_name):\n",
    "    # data\n",
    "    train_data = np.load(f\"{data_path}{folder_name}/train_data.npy\")\n",
    "    valid_data = np.load(f\"{data_path}{folder_name}/valid_data.npy\")\n",
    "    test_data = np.load(f\"{data_path}{folder_name}/test_data.npy\")\n",
    "    # labels\n",
    "    train_labels = np.load(f\"{data_path}{folder_name}/train_labels.npy\")\n",
    "    valid_labels = np.load(f\"{data_path}{folder_name}/valid_labels.npy\")\n",
    "    test_labels = np.load(f\"{data_path}{folder_name}/test_labels.npy\")\n",
    "    # return complete tuples\n",
    "    return ((train_data, train_labels), (valid_data, valid_labels), (test_data, test_labels))"
   ]
  },
  {
   "cell_type": "markdown",
   "metadata": {},
   "source": [
    "## Create the model"
   ]
  },
  {
   "cell_type": "markdown",
   "metadata": {},
   "source": [
    "### Load the data"
   ]
  },
  {
   "cell_type": "code",
   "execution_count": 6,
   "metadata": {},
   "outputs": [
    {
     "name": "stdout",
     "output_type": "stream",
     "text": [
      "load()\n"
     ]
    },
    {
     "data": {
      "application/vnd.jupyter.widget-view+json": {
       "model_id": "e2d50d7eae9f4851968675d943d41216",
       "version_major": 2,
       "version_minor": 0
      },
      "text/plain": [
       "HBox(children=(HTML(value=''), FloatProgress(value=0.0, max=56.0), HTML(value='')))"
      ]
     },
     "metadata": {},
     "output_type": "display_data"
    },
    {
     "name": "stdout",
     "output_type": "stream",
     "text": [
      "\n"
     ]
    }
   ],
   "source": [
    "(train_data, train_labels), (valid_data, valid_labels), (test_data, test_labels) = load()"
   ]
  },
  {
   "cell_type": "code",
   "execution_count": 7,
   "metadata": {},
   "outputs": [
    {
     "name": "stdout",
     "output_type": "stream",
     "text": [
      "369544 training genes\n",
      "369544 validation genes\n",
      "369432 test genes\n",
      "mean: -8.957302339603253e-17\n",
      "std: 0.999999999999999\n"
     ]
    }
   ],
   "source": [
    "# visualize some stats about the data\n",
    "print(f\"{len(train_data)} training genes\")\n",
    "print(f\"{len(valid_data)} validation genes\")\n",
    "print(f\"{len(test_data)} test genes\")\n",
    "print(f\"mean: {np.mean(train_data)}\\nstd: {np.std(train_data)}\")"
   ]
  },
  {
   "cell_type": "code",
   "execution_count": 8,
   "metadata": {},
   "outputs": [
    {
     "data": {
      "image/png": "[encoded data removed]",
      "text/plain": [
       "<Figure size 1440x360 with 2 Axes>"
      ]
     },
     "metadata": {
      "needs_background": "light"
     },
     "output_type": "display_data"
    },
    {
     "data": {
      "image/png": "[encoded data removed]",
      "text/plain": [
       "<Figure size 1440x360 with 2 Axes>"
      ]
     },
     "metadata": {
      "needs_background": "light"
     },
     "output_type": "display_data"
    }
   ],
   "source": [
    "def plot_gene(gene,label):\n",
    "    gene = gene.reshape(5,100)\n",
    "    df = pd.DataFrame(gene)\n",
    "    plt.figure(figsize=(20, 5))\n",
    "    sns.heatmap(df, cmap=(\"RdPu\" if label==1 else \"BuPu\"))\n",
    "\n",
    "# test the function\n",
    "plot_gene(train_data[0],train_labels[0])\n",
    "plot_gene(train_data[1],train_labels[1])"
   ]
  },
  {
   "cell_type": "markdown",
   "metadata": {},
   "source": [
    "## Utility functions"
   ]
  },
  {
   "cell_type": "code",
   "execution_count": 9,
   "metadata": {},
   "outputs": [],
   "source": [
    "def plot_metrics(history):\n",
    "    # AUC\n",
    "    plt.plot(history.history[\"auc\"], label=\"auc\")\n",
    "    plt.plot(history.history[\"val_auc\"], label=\"val_auc\")\n",
    "    plt.xlabel(\"Epoch\")\n",
    "    plt.ylabel(\"AUC\")\n",
    "    plt.ylim([0.65, 1])\n",
    "    plt.legend(loc=\"lower right\")\n",
    "    plt.show()\n",
    "    # loss\n",
    "    plt.plot(history.history[\"loss\"], label=\"loss\")\n",
    "    plt.plot(history.history[\"val_loss\"], label=\"val_loss\")\n",
    "    plt.xlabel(\"Epoch\")\n",
    "    plt.ylabel(\"Loss\")\n",
    "    plt.ylim([0,1])\n",
    "    plt.legend(loc=\"lower right\")\n",
    "    plt.show()"
   ]
  },
  {
   "cell_type": "markdown",
   "metadata": {},
   "source": [
    "## Modeling\n",
    "Here we build several incremental models."
   ]
  },
  {
   "cell_type": "markdown",
   "metadata": {},
   "source": [
    "### Random Forest Classifier\n",
    "`test : 0.8093656609906315`"
   ]
  },
  {
   "cell_type": "code",
   "execution_count": 20,
   "metadata": {},
   "outputs": [],
   "source": [
    "train_data = train_data.reshape(len(train_data),5*100)\n",
    "valid_data = valid_data.reshape(len(valid_data),5*100)\n",
    "test_data = test_data.reshape(len(test_data),5*100)"
   ]
  },
  {
   "cell_type": "code",
   "execution_count": 21,
   "metadata": {},
   "outputs": [
    {
     "data": {
      "text/plain": [
       "RandomForestClassifier(max_depth=20, random_state=0)"
      ]
     },
     "execution_count": 21,
     "metadata": {},
     "output_type": "execute_result"
    }
   ],
   "source": [
    "clf = RandomForestClassifier(max_depth=20,n_estimators=100, random_state=0)\n",
    "clf.fit(train_data, train_labels)"
   ]
  },
  {
   "cell_type": "code",
   "execution_count": 22,
   "metadata": {},
   "outputs": [
    {
     "data": {
      "text/plain": [
       "0.8093656609906315"
      ]
     },
     "execution_count": 22,
     "metadata": {},
     "output_type": "execute_result"
    }
   ],
   "source": [
    "clf.score(test_data,test_labels)\n",
    "roc_auc_score(test_labels, clf.predict_proba(test_data)[:,1])"
   ]
  },
  {
   "cell_type": "code",
   "execution_count": 24,
   "metadata": {},
   "outputs": [
    {
     "data": {
      "application/vnd.jupyter.widget-view+json": {
       "model_id": "42752837b3b146bbb9b6bcf19ed9c805",
       "version_major": 2,
       "version_minor": 0
      },
      "text/plain": [
       "HBox(children=(HTML(value=''), FloatProgress(value=0.0, max=56.0), HTML(value='')))"
      ]
     },
     "metadata": {},
     "output_type": "display_data"
    },
    {
     "name": "stdout",
     "output_type": "stream",
     "text": [
      "\n"
     ]
    },
    {
     "ename": "NameError",
     "evalue": "name 'clf' is not defined",
     "output_type": "error",
     "traceback": [
      "\u001b[1;31m---------------------------------------------------------------------------\u001b[0m",
      "\u001b[1;31mNameError\u001b[0m                                 Traceback (most recent call last)",
      "\u001b[1;32m<ipython-input-24-e39e864083c3>\u001b[0m in \u001b[0;36m<module>\u001b[1;34m\u001b[0m\n\u001b[0;32m      2\u001b[0m \u001b[0munit\u001b[0m \u001b[1;33m=\u001b[0m \u001b[1;36m6597\u001b[0m\u001b[1;33m\u001b[0m\u001b[1;33m\u001b[0m\u001b[0m\n\u001b[0;32m      3\u001b[0m \u001b[1;32mfor\u001b[0m \u001b[0mi\u001b[0m \u001b[1;32min\u001b[0m \u001b[0mtqdm\u001b[0m\u001b[1;33m(\u001b[0m\u001b[0mrange\u001b[0m\u001b[1;33m(\u001b[0m\u001b[1;36m56\u001b[0m\u001b[1;33m)\u001b[0m\u001b[1;33m)\u001b[0m\u001b[1;33m:\u001b[0m\u001b[1;33m\u001b[0m\u001b[1;33m\u001b[0m\u001b[0m\n\u001b[1;32m----> 4\u001b[1;33m     \u001b[0mtest_auc\u001b[0m \u001b[1;33m=\u001b[0m \u001b[0mroc_auc_score\u001b[0m\u001b[1;33m(\u001b[0m\u001b[0mtest_labels\u001b[0m\u001b[1;33m[\u001b[0m\u001b[0mi\u001b[0m\u001b[1;33m*\u001b[0m\u001b[0munit\u001b[0m\u001b[1;33m:\u001b[0m\u001b[1;33m(\u001b[0m\u001b[0mi\u001b[0m\u001b[1;33m+\u001b[0m\u001b[1;36m1\u001b[0m\u001b[1;33m)\u001b[0m\u001b[1;33m*\u001b[0m\u001b[0munit\u001b[0m\u001b[1;33m]\u001b[0m\u001b[1;33m,\u001b[0m \u001b[0mclf\u001b[0m\u001b[1;33m.\u001b[0m\u001b[0mpredict_proba\u001b[0m\u001b[1;33m(\u001b[0m\u001b[0mtest_data\u001b[0m\u001b[1;33m[\u001b[0m\u001b[0mi\u001b[0m\u001b[1;33m*\u001b[0m\u001b[0munit\u001b[0m\u001b[1;33m:\u001b[0m\u001b[1;33m(\u001b[0m\u001b[0mi\u001b[0m\u001b[1;33m+\u001b[0m\u001b[1;36m1\u001b[0m\u001b[1;33m)\u001b[0m\u001b[1;33m*\u001b[0m\u001b[0munit\u001b[0m\u001b[1;33m]\u001b[0m\u001b[1;33m)\u001b[0m\u001b[1;33m[\u001b[0m\u001b[1;33m:\u001b[0m\u001b[1;33m,\u001b[0m\u001b[1;36m1\u001b[0m\u001b[1;33m]\u001b[0m\u001b[1;33m)\u001b[0m\u001b[1;33m\u001b[0m\u001b[1;33m\u001b[0m\u001b[0m\n\u001b[0m\u001b[0;32m      5\u001b[0m     \u001b[0maucs\u001b[0m\u001b[1;33m.\u001b[0m\u001b[0mappend\u001b[0m\u001b[1;33m(\u001b[0m\u001b[0mtest_auc\u001b[0m\u001b[1;33m)\u001b[0m\u001b[1;33m\u001b[0m\u001b[1;33m\u001b[0m\u001b[0m\n\u001b[0;32m      6\u001b[0m \u001b[0mprint\u001b[0m\u001b[1;33m(\u001b[0m\u001b[1;34mf\"Random Forest Classifier | min: {min(aucs)} - max: {max(aucs)} - mean: {np.mean(aucs)}\"\u001b[0m\u001b[1;33m)\u001b[0m\u001b[1;33m\u001b[0m\u001b[1;33m\u001b[0m\u001b[0m\n",
      "\u001b[1;31mNameError\u001b[0m: name 'clf' is not defined"
     ]
    }
   ],
   "source": [
    "aucs = []\n",
    "unit = 6597\n",
    "for i in tqdm(range(56)):            \n",
    "    test_auc = roc_auc_score(test_labels[i*unit:(i+1)*unit], clf.predict_proba(test_data[i*unit:(i+1)*unit])[:,1])\n",
    "    aucs.append(test_auc)    \n",
    "print(f\"Random Forest Classifier | min: {min(aucs)} - max: {max(aucs)} - mean: {np.mean(aucs)}\")\n",
    "df_results = pd.DataFrame(list(zip(cell_types, aucs)),\n",
    "               columns =['Cell-Type','AUC'])\n",
    "# save results\n",
    "df_results.to_csv(\"../results/Random_Forest_Classifier.csv\",index=None)\n",
    "# save model\n",
    "joblib.dump(clf,\"../models/Random_Forest_Classifier.joblib\")"
   ]
  },
  {
   "cell_type": "markdown",
   "metadata": {},
   "source": [
    "### FNN (Base model)\n",
    "\n",
    "`Base_NN | min: 0.7040374875068665 - max: 0.8944694995880127 - mean: 0.7973155634743827`"
   ]
  },
  {
   "cell_type": "code",
   "execution_count": 47,
   "metadata": {},
   "outputs": [],
   "source": [
    "train_data = train_data.reshape(len(train_data),5,100,1)\n",
    "valid_data = valid_data.reshape(len(valid_data),5,100,1)\n",
    "test_data = test_data.reshape(len(test_data),5,100,1)"
   ]
  },
  {
   "cell_type": "code",
   "execution_count": 48,
   "metadata": {},
   "outputs": [],
   "source": [
    "model = models.Sequential(name=\"Base_NN\")\n",
    "model.add(layers.Flatten(input_shape=(5, 100, 1)))\n",
    "model.add(layers.Dense(64, activation='relu')\n",
    "model.add(layers.Dense(32, activation='relu'))\n",
    "model.add(layers.Dense(1, activation=\"sigmoid\"))"
   ]
  },
  {
   "cell_type": "markdown",
   "metadata": {},
   "source": [
    "### Model - DeepChrome\n",
    "\n",
    "`Deep_Chrome | min: 0.7167153358459473 - max: 0.9021117687225342 - mean: 0.8032737289156232`\n",
    "\n",
    "`Deep_Chrome-separated | min: 0.7227053642272949 - max: 0.9179351329803467 - mean: 0.8068524854523795`"
   ]
  },
  {
   "cell_type": "code",
   "execution_count": 75,
   "metadata": {},
   "outputs": [],
   "source": [
    "train_data = train_data.reshape(len(train_data),100,5)\n",
    "valid_data = valid_data.reshape(len(valid_data),100,5)\n",
    "test_data = test_data.reshape(len(test_data),100,5)"
   ]
  },
  {
   "cell_type": "code",
   "execution_count": 78,
   "metadata": {},
   "outputs": [],
   "source": [
    "model = models.Sequential(name=\"Deep_Chrome\")\n",
    "model.add(layers.Conv1D(filters=50, kernel_size=10, activation=\"relu\", input_shape=(100,5)))\n",
    "model.add(layers.MaxPooling1D(pool_size=5))\n",
    "model.add(layers.Dropout(0.5))\n",
    "model.add(layers.Flatten())\n",
    "model.add(layers.Dense(625, activation='relu'))\n",
    "model.add(layers.Dense(125, activation='relu'))\n",
    "model.add(layers.Dense(1, activation='sigmoid'))"
   ]
  },
  {
   "cell_type": "markdown",
   "metadata": {},
   "source": [
    "### Model - UltraChrome\n",
    "\n",
    "`Ultra_Chrome | min: 0.714259684085846 - max: 0.9034337401390076 - mean: 0.8045275743518557`\n",
    "\n",
    "`Ultra_Chrome - separated | min: 0.7268062829971313 - max: 0.9202893376350403 - mean: 0.8114221681441579`"
   ]
  },
  {
   "cell_type": "code",
   "execution_count": 184,
   "metadata": {},
   "outputs": [],
   "source": [
    "train_data = train_data.reshape(len(train_data),5,100,1)\n",
    "valid_data = valid_data.reshape(len(valid_data),5,100,1)\n",
    "test_data = test_data.reshape(len(test_data),5,100,1)"
   ]
  },
  {
   "cell_type": "code",
   "execution_count": 185,
   "metadata": {},
   "outputs": [],
   "source": [
    "model = models.Sequential(name=\"Ultra_Chrome\")\n",
    "# stage 1 => CONV 2D\n",
    "model.add(layers.Conv2D(100, 5, activation=\"relu\", input_shape=(5,100,1), padding=\"same\"))\n",
    "model.add(layers.MaxPooling2D(pool_size=(1,5)))\n",
    "# stage 2 => FNN\n",
    "model.add(layers.Dropout(0.5))\n",
    "model.add(layers.Flatten())\n",
    "model.add(layers.Dense(64, activation='relu'))\n",
    "model.add(layers.BatchNormalization())\n",
    "model.add(layers.Dense(256, activation='relu'))\n",
    "model.add(layers.BatchNormalization())\n",
    "model.add(layers.Dense(64, activation='relu'))\n",
    "# final stage\n",
    "model.add(layers.Dense(1, activation='sigmoid'))"
   ]
  },
  {
   "cell_type": "markdown",
   "metadata": {},
   "source": [
    "### ChromeR\n",
    "> needs `numpy 1.19.3`\n",
    "\n",
    "`ChromeR | min: 0.706201434135437 - max: 0.8871307969093323 - mean: 0.7961249468582017`\n",
    "\n",
    "`ChromeR - separated | min: 0.710761547088623 - max: 0.902295708656311 - mean: 0.8009782103555543`"
   ]
  },
  {
   "cell_type": "code",
   "execution_count": 146,
   "metadata": {},
   "outputs": [],
   "source": [
    "train_data = train_data.reshape(len(train_data),5,100)\n",
    "valid_data = valid_data.reshape(len(valid_data),5,100)\n",
    "test_data = test_data.reshape(len(test_data),5,100)"
   ]
  },
  {
   "cell_type": "code",
   "execution_count": 147,
   "metadata": {},
   "outputs": [],
   "source": [
    "model = models.Sequential(name=\"ChromeR\")\n",
    "model.add(layers.Bidirectional(layers.LSTM(128, activation=\"relu\"), input_shape=(5, 100)))\n",
    "model.add(layers.Dropout(0.5))\n",
    "model.add(layers.Flatten())\n",
    "model.add(layers.Dense(625, activation='relu'))\n",
    "model.add(layers.Dense(125, activation='relu'))\n",
    "model.add(layers.Dense(1, activation='sigmoid'))"
   ]
  },
  {
   "cell_type": "markdown",
   "metadata": {},
   "source": [
    "### Visualize the model"
   ]
  },
  {
   "cell_type": "code",
   "execution_count": 196,
   "metadata": {},
   "outputs": [
    {
     "name": "stdout",
     "output_type": "stream",
     "text": [
      "Model: \"Ultra_Chrome_v2\"\n",
      "_________________________________________________________________\n",
      "Layer (type)                 Output Shape              Param #   \n",
      "=================================================================\n",
      "conv2d_14 (Conv2D)           (None, 5, 100, 100)       2600      \n",
      "_________________________________________________________________\n",
      "max_pooling2d_14 (MaxPooling (None, 5, 20, 100)        0         \n",
      "_________________________________________________________________\n",
      "dropout_39 (Dropout)         (None, 5, 20, 100)        0         \n",
      "_________________________________________________________________\n",
      "flatten_36 (Flatten)         (None, 10000)             0         \n",
      "_________________________________________________________________\n",
      "dense_131 (Dense)            (None, 128)               1280128   \n",
      "_________________________________________________________________\n",
      "batch_normalization_39 (Batc (None, 128)               512       \n",
      "_________________________________________________________________\n",
      "dense_132 (Dense)            (None, 512)               66048     \n",
      "_________________________________________________________________\n",
      "batch_normalization_40 (Batc (None, 512)               2048      \n",
      "_________________________________________________________________\n",
      "dense_133 (Dense)            (None, 128)               65664     \n",
      "_________________________________________________________________\n",
      "dense_134 (Dense)            (None, 1)                 129       \n",
      "=================================================================\n",
      "Total params: 1,417,129\n",
      "Trainable params: 1,415,849\n",
      "Non-trainable params: 1,280\n",
      "_________________________________________________________________\n"
     ]
    }
   ],
   "source": [
    "model.summary()"
   ]
  },
  {
   "cell_type": "markdown",
   "metadata": {},
   "source": [
    "## Training"
   ]
  },
  {
   "cell_type": "markdown",
   "metadata": {},
   "source": [
    "### Unique Training"
   ]
  },
  {
   "cell_type": "code",
   "execution_count": 175,
   "metadata": {},
   "outputs": [
    {
     "name": "stdout",
     "output_type": "stream",
     "text": [
      "Epoch 1/10\n",
      "11549/11549 [==============================] - 342s 30ms/step - loss: 0.5914 - auc: 0.7247 - val_loss: 0.5207 - val_auc: 0.7832\n",
      "Epoch 2/10\n",
      "11549/11549 [==============================] - 377s 33ms/step - loss: 0.5691 - auc: 0.7495 - val_loss: 0.5218 - val_auc: 0.7849\n",
      "Epoch 3/10\n",
      "11549/11549 [==============================] - 398s 34ms/step - loss: 0.5637 - auc: 0.7566 - val_loss: 0.5204 - val_auc: 0.7865\n",
      "Epoch 4/10\n",
      "11549/11549 [==============================] - 391s 34ms/step - loss: 0.5603 - auc: 0.7610 - val_loss: 0.5162 - val_auc: 0.7888\n",
      "Epoch 5/10\n",
      "11549/11549 [==============================] - 362s 31ms/step - loss: 0.5534 - auc: 0.7686 - val_loss: 0.5186 - val_auc: 0.7901\n",
      "Epoch 7/10\n",
      "11549/11549 [==============================] - 354s 31ms/step - loss: 0.5512 - auc: 0.7714 - val_loss: 0.5162 - val_auc: 0.7884\n",
      "Epoch 8/10\n",
      "11549/11549 [==============================] - 380s 33ms/step - loss: 0.5491 - auc: 0.7734 - val_loss: 0.5125 - val_auc: 0.7926\n",
      "Epoch 9/10\n",
      "11549/11549 [==============================] - 382s 33ms/step - loss: 0.5458 - auc: 0.7761 - val_loss: 0.5174 - val_auc: 0.7912\n",
      "Epoch 10/10\n",
      "11549/11549 [==============================] - 389s 34ms/step - loss: 0.5450 - auc: 0.7772 - val_loss: 0.5134 - val_auc: 0.7912\n",
      "INFO:tensorflow:Assets written to: ../models/Ultra_Chrome\\assets\n"
     ]
    }
   ],
   "source": [
    "model.compile(optimizer=\"adam\", loss=tf.keras.losses.BinaryCrossentropy(from_logits=True), metrics=[\"AUC\"])\n",
    "\n",
    "checkpoint_filepath = './'\n",
    "model_checkpoint_callback = tf.keras.callbacks.ModelCheckpoint(\n",
    "    filepath=checkpoint_filepath,\n",
    "    save_weights_only=True,\n",
    "    monitor='val_auc',\n",
    "    mode='max',\n",
    "    save_best_only=True)\n",
    "\n",
    "history = model.fit(train_data, train_labels, epochs=10, \n",
    "                    validation_data=(valid_data, valid_labels), \n",
    "                    callbacks=[model_checkpoint_callback])\n",
    "\n",
    "# load best model\n",
    "model.load_weights(checkpoint_filepath)\n",
    "\n",
    "# saving the model\n",
    "model.save(f\"../models/{model.name}\")"
   ]
  },
  {
   "cell_type": "code",
   "execution_count": 176,
   "metadata": {},
   "outputs": [
    {
     "data": {
      "image/png": "[encoded data removed]",
      "text/plain": [
       "<Figure size 432x288 with 1 Axes>"
      ]
     },
     "metadata": {
      "needs_background": "light"
     },
     "output_type": "display_data"
    },
    {
     "data": {
      "image/png": "[encoded data removed]",
      "text/plain": [
       "<Figure size 432x288 with 1 Axes>"
      ]
     },
     "metadata": {
      "needs_background": "light"
     },
     "output_type": "display_data"
    }
   ],
   "source": [
    "plot_metrics(history)"
   ]
  },
  {
   "cell_type": "markdown",
   "metadata": {},
   "source": [
    "## Test Unique Model"
   ]
  },
  {
   "cell_type": "code",
   "execution_count": 197,
   "metadata": {},
   "outputs": [
    {
     "data": {
      "application/vnd.jupyter.widget-view+json": {
       "model_id": "7948bc04030a4599ab3997dee058649c",
       "version_major": 2,
       "version_minor": 0
      },
      "text/plain": [
       "HBox(children=(HTML(value=''), FloatProgress(value=0.0, max=56.0), HTML(value='')))"
      ]
     },
     "metadata": {},
     "output_type": "display_data"
    },
    {
     "name": "stdout",
     "output_type": "stream",
     "text": [
      "\n"
     ]
    },
    {
     "ename": "RuntimeError",
     "evalue": "You must compile your model before training/testing. Use `model.compile(optimizer, loss)`.",
     "output_type": "error",
     "traceback": [
      "\u001b[1;31m---------------------------------------------------------------------------\u001b[0m",
      "\u001b[1;31mRuntimeError\u001b[0m                              Traceback (most recent call last)",
      "\u001b[1;32m<ipython-input-197-f9d52f5eb628>\u001b[0m in \u001b[0;36m<module>\u001b[1;34m\u001b[0m\n\u001b[0;32m      2\u001b[0m \u001b[0munit\u001b[0m \u001b[1;33m=\u001b[0m \u001b[1;36m6597\u001b[0m\u001b[1;33m\u001b[0m\u001b[1;33m\u001b[0m\u001b[0m\n\u001b[0;32m      3\u001b[0m \u001b[1;32mfor\u001b[0m \u001b[0mi\u001b[0m \u001b[1;32min\u001b[0m \u001b[0mtqdm\u001b[0m\u001b[1;33m(\u001b[0m\u001b[0mrange\u001b[0m\u001b[1;33m(\u001b[0m\u001b[1;36m56\u001b[0m\u001b[1;33m)\u001b[0m\u001b[1;33m)\u001b[0m\u001b[1;33m:\u001b[0m\u001b[1;33m\u001b[0m\u001b[1;33m\u001b[0m\u001b[0m\n\u001b[1;32m----> 4\u001b[1;33m     \u001b[0m_\u001b[0m\u001b[1;33m,\u001b[0m \u001b[0mtest_auc\u001b[0m \u001b[1;33m=\u001b[0m \u001b[0mmodel\u001b[0m\u001b[1;33m.\u001b[0m\u001b[0mevaluate\u001b[0m\u001b[1;33m(\u001b[0m\u001b[0mtest_data\u001b[0m\u001b[1;33m[\u001b[0m\u001b[0mi\u001b[0m\u001b[1;33m*\u001b[0m\u001b[0munit\u001b[0m\u001b[1;33m:\u001b[0m\u001b[1;33m(\u001b[0m\u001b[0mi\u001b[0m\u001b[1;33m+\u001b[0m\u001b[1;36m1\u001b[0m\u001b[1;33m)\u001b[0m\u001b[1;33m*\u001b[0m\u001b[0munit\u001b[0m\u001b[1;33m]\u001b[0m\u001b[1;33m,\u001b[0m \u001b[0mtest_labels\u001b[0m\u001b[1;33m[\u001b[0m\u001b[0mi\u001b[0m\u001b[1;33m*\u001b[0m\u001b[0munit\u001b[0m\u001b[1;33m:\u001b[0m\u001b[1;33m(\u001b[0m\u001b[0mi\u001b[0m\u001b[1;33m+\u001b[0m\u001b[1;36m1\u001b[0m\u001b[1;33m)\u001b[0m\u001b[1;33m*\u001b[0m\u001b[0munit\u001b[0m\u001b[1;33m]\u001b[0m\u001b[1;33m,\u001b[0m \u001b[0mverbose\u001b[0m\u001b[1;33m=\u001b[0m\u001b[1;36m0\u001b[0m\u001b[1;33m)\u001b[0m\u001b[1;33m\u001b[0m\u001b[1;33m\u001b[0m\u001b[0m\n\u001b[0m\u001b[0;32m      5\u001b[0m     \u001b[0maucs\u001b[0m\u001b[1;33m.\u001b[0m\u001b[0mappend\u001b[0m\u001b[1;33m(\u001b[0m\u001b[0mtest_auc\u001b[0m\u001b[1;33m)\u001b[0m\u001b[1;33m\u001b[0m\u001b[1;33m\u001b[0m\u001b[0m\n\u001b[0;32m      6\u001b[0m \u001b[1;33m\u001b[0m\u001b[0m\n",
      "\u001b[1;32mC:\\ProgramData\\Anaconda3\\lib\\site-packages\\tensorflow\\python\\keras\\engine\\training.py\u001b[0m in \u001b[0;36mevaluate\u001b[1;34m(self, x, y, batch_size, verbose, sample_weight, steps, callbacks, max_queue_size, workers, use_multiprocessing, return_dict)\u001b[0m\n\u001b[0;32m   1340\u001b[0m     \u001b[0mbase_layer\u001b[0m\u001b[1;33m.\u001b[0m\u001b[0mkeras_api_gauge\u001b[0m\u001b[1;33m.\u001b[0m\u001b[0mget_cell\u001b[0m\u001b[1;33m(\u001b[0m\u001b[1;34m'evaluate'\u001b[0m\u001b[1;33m)\u001b[0m\u001b[1;33m.\u001b[0m\u001b[0mset\u001b[0m\u001b[1;33m(\u001b[0m\u001b[1;32mTrue\u001b[0m\u001b[1;33m)\u001b[0m\u001b[1;33m\u001b[0m\u001b[1;33m\u001b[0m\u001b[0m\n\u001b[0;32m   1341\u001b[0m     \u001b[0mversion_utils\u001b[0m\u001b[1;33m.\u001b[0m\u001b[0mdisallow_legacy_graph\u001b[0m\u001b[1;33m(\u001b[0m\u001b[1;34m'Model'\u001b[0m\u001b[1;33m,\u001b[0m \u001b[1;34m'evaluate'\u001b[0m\u001b[1;33m)\u001b[0m\u001b[1;33m\u001b[0m\u001b[1;33m\u001b[0m\u001b[0m\n\u001b[1;32m-> 1342\u001b[1;33m     \u001b[0mself\u001b[0m\u001b[1;33m.\u001b[0m\u001b[0m_assert_compile_was_called\u001b[0m\u001b[1;33m(\u001b[0m\u001b[1;33m)\u001b[0m\u001b[1;33m\u001b[0m\u001b[1;33m\u001b[0m\u001b[0m\n\u001b[0m\u001b[0;32m   1343\u001b[0m     \u001b[0mself\u001b[0m\u001b[1;33m.\u001b[0m\u001b[0m_check_call_args\u001b[0m\u001b[1;33m(\u001b[0m\u001b[1;34m'evaluate'\u001b[0m\u001b[1;33m)\u001b[0m\u001b[1;33m\u001b[0m\u001b[1;33m\u001b[0m\u001b[0m\n\u001b[0;32m   1344\u001b[0m     \u001b[0m_disallow_inside_tf_function\u001b[0m\u001b[1;33m(\u001b[0m\u001b[1;34m'evaluate'\u001b[0m\u001b[1;33m)\u001b[0m\u001b[1;33m\u001b[0m\u001b[1;33m\u001b[0m\u001b[0m\n",
      "\u001b[1;32mC:\\ProgramData\\Anaconda3\\lib\\site-packages\\tensorflow\\python\\keras\\engine\\training.py\u001b[0m in \u001b[0;36m_assert_compile_was_called\u001b[1;34m(self)\u001b[0m\n\u001b[0;32m   2590\u001b[0m     \u001b[1;31m# (i.e. whether the model is built and its inputs/outputs are set).\u001b[0m\u001b[1;33m\u001b[0m\u001b[1;33m\u001b[0m\u001b[1;33m\u001b[0m\u001b[0m\n\u001b[0;32m   2591\u001b[0m     \u001b[1;32mif\u001b[0m \u001b[1;32mnot\u001b[0m \u001b[0mself\u001b[0m\u001b[1;33m.\u001b[0m\u001b[0m_is_compiled\u001b[0m\u001b[1;33m:\u001b[0m\u001b[1;33m\u001b[0m\u001b[1;33m\u001b[0m\u001b[0m\n\u001b[1;32m-> 2592\u001b[1;33m       raise RuntimeError('You must compile your model before '\n\u001b[0m\u001b[0;32m   2593\u001b[0m                          \u001b[1;34m'training/testing. '\u001b[0m\u001b[1;33m\u001b[0m\u001b[1;33m\u001b[0m\u001b[0m\n\u001b[0;32m   2594\u001b[0m                          'Use `model.compile(optimizer, loss)`.')\n",
      "\u001b[1;31mRuntimeError\u001b[0m: You must compile your model before training/testing. Use `model.compile(optimizer, loss)`."
     ]
    }
   ],
   "source": [
    "aucs = []\n",
    "unit = 6597\n",
    "for i in tqdm(range(56)):    \n",
    "    _, test_auc = model.evaluate(test_data[i*unit:(i+1)*unit], test_labels[i*unit:(i+1)*unit], verbose=0)\n",
    "    aucs.append(test_auc)\n",
    "    \n",
    "print(f\"{model.name} | min: {min(aucs)} - max: {max(aucs)} - mean: {np.mean(aucs)}\")\n",
    "\n",
    "# saving the results\n",
    "df_results = pd.DataFrame(list(zip(cell_types, aucs)),\n",
    "               columns =['Cell-Type','AUC'])\n",
    "df_results.to_csv(f\"../results/{model.name}.csv\",index=None)"
   ]
  },
  {
   "cell_type": "markdown",
   "metadata": {},
   "source": [
    "-----\n",
    "## Separated Training and Testing"
   ]
  },
  {
   "cell_type": "code",
   "execution_count": 198,
   "metadata": {},
   "outputs": [
    {
     "data": {
      "application/vnd.jupyter.widget-view+json": {
       "model_id": "8d5ff1f880f043b78f5780f6e028aa9b",
       "version_major": 2,
       "version_minor": 0
      },
      "text/plain": [
       "HBox(children=(HTML(value=''), FloatProgress(value=0.0, max=56.0), HTML(value='')))"
      ]
     },
     "metadata": {},
     "output_type": "display_data"
    },
    {
     "name": "stdout",
     "output_type": "stream",
     "text": [
      "INFO:tensorflow:Assets written to: ../models/separated/Ultra_Chrome_v2/Cell-1\\assets\n",
      "INFO:tensorflow:Assets written to: ../models/separated/Ultra_Chrome_v2/Cell-2\\assets\n",
      "INFO:tensorflow:Assets written to: ../models/separated/Ultra_Chrome_v2/Cell-3\\assets\n",
      "INFO:tensorflow:Assets written to: ../models/separated/Ultra_Chrome_v2/Cell-4\\assets\n",
      "INFO:tensorflow:Assets written to: ../models/separated/Ultra_Chrome_v2/Cell-5\\assets\n",
      "INFO:tensorflow:Assets written to: ../models/separated/Ultra_Chrome_v2/Cell-6\\assets\n",
      "INFO:tensorflow:Assets written to: ../models/separated/Ultra_Chrome_v2/Cell-7\\assets\n",
      "INFO:tensorflow:Assets written to: ../models/separated/Ultra_Chrome_v2/Cell-8\\assets\n",
      "INFO:tensorflow:Assets written to: ../models/separated/Ultra_Chrome_v2/Cell-9\\assets\n",
      "INFO:tensorflow:Assets written to: ../models/separated/Ultra_Chrome_v2/Cell-10\\assets\n",
      "INFO:tensorflow:Assets written to: ../models/separated/Ultra_Chrome_v2/Cell-11\\assets\n",
      "INFO:tensorflow:Assets written to: ../models/separated/Ultra_Chrome_v2/Cell-12\\assets\n",
      "INFO:tensorflow:Assets written to: ../models/separated/Ultra_Chrome_v2/Cell-13\\assets\n",
      "INFO:tensorflow:Assets written to: ../models/separated/Ultra_Chrome_v2/Cell-14\\assets\n",
      "INFO:tensorflow:Assets written to: ../models/separated/Ultra_Chrome_v2/Cell-15\\assets\n",
      "INFO:tensorflow:Assets written to: ../models/separated/Ultra_Chrome_v2/Cell-16\\assets\n",
      "INFO:tensorflow:Assets written to: ../models/separated/Ultra_Chrome_v2/Cell-17\\assets\n",
      "INFO:tensorflow:Assets written to: ../models/separated/Ultra_Chrome_v2/Cell-18\\assets\n",
      "INFO:tensorflow:Assets written to: ../models/separated/Ultra_Chrome_v2/Cell-19\\assets\n",
      "INFO:tensorflow:Assets written to: ../models/separated/Ultra_Chrome_v2/Cell-20\\assets\n",
      "INFO:tensorflow:Assets written to: ../models/separated/Ultra_Chrome_v2/Cell-21\\assets\n",
      "INFO:tensorflow:Assets written to: ../models/separated/Ultra_Chrome_v2/Cell-22\\assets\n",
      "INFO:tensorflow:Assets written to: ../models/separated/Ultra_Chrome_v2/Cell-23\\assets\n",
      "INFO:tensorflow:Assets written to: ../models/separated/Ultra_Chrome_v2/Cell-24\\assets\n",
      "INFO:tensorflow:Assets written to: ../models/separated/Ultra_Chrome_v2/Cell-25\\assets\n",
      "INFO:tensorflow:Assets written to: ../models/separated/Ultra_Chrome_v2/Cell-26\\assets\n",
      "INFO:tensorflow:Assets written to: ../models/separated/Ultra_Chrome_v2/Cell-27\\assets\n",
      "INFO:tensorflow:Assets written to: ../models/separated/Ultra_Chrome_v2/Cell-28\\assets\n",
      "INFO:tensorflow:Assets written to: ../models/separated/Ultra_Chrome_v2/Cell-29\\assets\n",
      "INFO:tensorflow:Assets written to: ../models/separated/Ultra_Chrome_v2/Cell-30\\assets\n",
      "INFO:tensorflow:Assets written to: ../models/separated/Ultra_Chrome_v2/Cell-31\\assets\n",
      "INFO:tensorflow:Assets written to: ../models/separated/Ultra_Chrome_v2/Cell-32\\assets\n",
      "INFO:tensorflow:Assets written to: ../models/separated/Ultra_Chrome_v2/Cell-33\\assets\n",
      "INFO:tensorflow:Assets written to: ../models/separated/Ultra_Chrome_v2/Cell-34\\assets\n",
      "INFO:tensorflow:Assets written to: ../models/separated/Ultra_Chrome_v2/Cell-35\\assets\n",
      "INFO:tensorflow:Assets written to: ../models/separated/Ultra_Chrome_v2/Cell-36\\assets\n",
      "INFO:tensorflow:Assets written to: ../models/separated/Ultra_Chrome_v2/Cell-37\\assets\n",
      "INFO:tensorflow:Assets written to: ../models/separated/Ultra_Chrome_v2/Cell-38\\assets\n",
      "INFO:tensorflow:Assets written to: ../models/separated/Ultra_Chrome_v2/Cell-39\\assets\n",
      "INFO:tensorflow:Assets written to: ../models/separated/Ultra_Chrome_v2/Cell-40\\assets\n",
      "INFO:tensorflow:Assets written to: ../models/separated/Ultra_Chrome_v2/Cell-41\\assets\n",
      "INFO:tensorflow:Assets written to: ../models/separated/Ultra_Chrome_v2/Cell-42\\assets\n",
      "INFO:tensorflow:Assets written to: ../models/separated/Ultra_Chrome_v2/Cell-43\\assets\n",
      "INFO:tensorflow:Assets written to: ../models/separated/Ultra_Chrome_v2/Cell-44\\assets\n",
      "INFO:tensorflow:Assets written to: ../models/separated/Ultra_Chrome_v2/Cell-45\\assets\n",
      "INFO:tensorflow:Assets written to: ../models/separated/Ultra_Chrome_v2/Cell-46\\assets\n",
      "INFO:tensorflow:Assets written to: ../models/separated/Ultra_Chrome_v2/Cell-47\\assets\n",
      "INFO:tensorflow:Assets written to: ../models/separated/Ultra_Chrome_v2/Cell-48\\assets\n",
      "INFO:tensorflow:Assets written to: ../models/separated/Ultra_Chrome_v2/Cell-49\\assets\n",
      "INFO:tensorflow:Assets written to: ../models/separated/Ultra_Chrome_v2/Cell-50\\assets\n",
      "INFO:tensorflow:Assets written to: ../models/separated/Ultra_Chrome_v2/Cell-51\\assets\n",
      "INFO:tensorflow:Assets written to: ../models/separated/Ultra_Chrome_v2/Cell-52\\assets\n",
      "INFO:tensorflow:Assets written to: ../models/separated/Ultra_Chrome_v2/Cell-53\\assets\n",
      "INFO:tensorflow:Assets written to: ../models/separated/Ultra_Chrome_v2/Cell-54\\assets\n",
      "INFO:tensorflow:Assets written to: ../models/separated/Ultra_Chrome_v2/Cell-55\\assets\n",
      "INFO:tensorflow:Assets written to: ../models/separated/Ultra_Chrome_v2/Cell-56\\assets\n",
      "\n"
     ]
    }
   ],
   "source": [
    "model.compile(optimizer=\"adam\", loss=tf.keras.losses.BinaryCrossentropy(from_logits=True), metrics=[\"AUC\"])\n",
    "\n",
    "separated_models = []\n",
    "unit = 6597\n",
    "\n",
    "checkpoint_filepath = './'\n",
    "model_checkpoint_callback = tf.keras.callbacks.ModelCheckpoint(\n",
    "    filepath=checkpoint_filepath,\n",
    "    save_weights_only=True,\n",
    "    monitor='val_auc',\n",
    "    mode='max',\n",
    "    save_best_only=True)\n",
    "\n",
    "for i in tqdm(range(56)):\n",
    "    new_model = model\n",
    "    history = new_model.fit(train_data[i*unit:(i+1)*unit], train_labels[i*unit:(i+1)*unit],\n",
    "                            validation_data=(valid_data[i*unit:(i+1)*unit], valid_labels[i*unit:(i+1)*unit]),\n",
    "                            epochs=10,  # todo: modify number of epochs\n",
    "                            callbacks=[model_checkpoint_callback], verbose=0) \n",
    "    # load best model\n",
    "    new_model.load_weights(checkpoint_filepath)\n",
    "\n",
    "    # saving the model\n",
    "    separated_models.append(new_model)\n",
    "    new_model.save(f\"../models/separated/{new_model.name}/Cell-{i+1}\")\n",
    "    "
   ]
  },
  {
   "cell_type": "markdown",
   "metadata": {},
   "source": [
    "### Test Separate Models"
   ]
  },
  {
   "cell_type": "code",
   "execution_count": 199,
   "metadata": {},
   "outputs": [
    {
     "data": {
      "application/vnd.jupyter.widget-view+json": {
       "model_id": "ab6d165b883e45fe84eaac7db9aa859b",
       "version_major": 2,
       "version_minor": 0
      },
      "text/plain": [
       "HBox(children=(HTML(value=''), FloatProgress(value=0.0, max=56.0), HTML(value='')))"
      ]
     },
     "metadata": {},
     "output_type": "display_data"
    },
    {
     "name": "stdout",
     "output_type": "stream",
     "text": [
      "\n",
      "Ultra_Chrome_v2 - separated | min: 0.7184790968894958 - max: 0.9188889265060425 - mean: 0.8063293652875083\n"
     ]
    }
   ],
   "source": [
    "aucs = []\n",
    "unit = 6597\n",
    "for i in tqdm(range(56)):    \n",
    "    _, test_auc = separated_models[i].evaluate(test_data[i*unit:(i+1)*unit], test_labels[i*unit:(i+1)*unit], verbose=0)\n",
    "    aucs.append(test_auc)\n",
    "    \n",
    "print(f\"{model.name} - separated | min: {min(aucs)} - max: {max(aucs)} - mean: {np.mean(aucs)}\")\n",
    "\n",
    "# saving the results\n",
    "df_results = pd.DataFrame(list(zip(cell_types, aucs)),\n",
    "               columns =['Cell-Type','AUC'])\n",
    "df_results.to_csv(f\"../results/{model.name}-separated.csv\",index=None)"
   ]
  },
  {
   "cell_type": "markdown",
   "metadata": {},
   "source": [
    "---\n",
    "### Best / Worst Predictions"
   ]
  },
  {
   "cell_type": "code",
   "execution_count": 87,
   "metadata": {},
   "outputs": [],
   "source": [
    "best,worst = None,None\n",
    "best_position,worst_position = None,None\n",
    "\n",
    "test_labels = test_labels.reshape(len(test_labels),1)\n",
    "predictions = model.predict(test_data)\n",
    "\n",
    "diffs = abs(predictions-test_labels)\n",
    "\n",
    "differences = pd.DataFrame(pd.DataFrame(list(diffs),\n",
    "               columns =['Difference']))\n",
    "\n",
    "differences.sort_values(by=['Difference'], inplace=True)\n",
    "\n",
    "show = 5"
   ]
  },
  {
   "cell_type": "code",
   "execution_count": 89,
   "metadata": {},
   "outputs": [
    {
     "name": "stdout",
     "output_type": "stream",
     "text": [
      "Worst 5 guesses\n"
     ]
    },
    {
     "data": {
      "image/png": "[encoded data removed]",
      "text/plain": [
       "<Figure size 1440x360 with 2 Axes>"
      ]
     },
     "metadata": {
      "needs_background": "light"
     },
     "output_type": "display_data"
    },
    {
     "data": {
      "image/png": "[encoded data removed]",
      "text/plain": [
       "<Figure size 1440x360 with 2 Axes>"
      ]
     },
     "metadata": {
      "needs_background": "light"
     },
     "output_type": "display_data"
    },
    {
     "data": {
      "image/png": "[encoded data removed]",
      "text/plain": [
       "<Figure size 1440x360 with 2 Axes>"
      ]
     },
     "metadata": {
      "needs_background": "light"
     },
     "output_type": "display_data"
    },
    {
     "data": {
      "image/png": "[encoded data removed]",
      "text/plain": [
       "<Figure size 1440x360 with 2 Axes>"
      ]
     },
     "metadata": {
      "needs_background": "light"
     },
     "output_type": "display_data"
    },
    {
     "data": {
      "image/png": "[encoded data removed]",
      "text/plain": [
       "<Figure size 1440x360 with 2 Axes>"
      ]
     },
     "metadata": {
      "needs_background": "light"
     },
     "output_type": "display_data"
    }
   ],
   "source": [
    "print(f\"Worst {show} guesses\")\n",
    "for gene in list(differences.tail(show).index):    \n",
    "    plot_gene(test_data[gene],test_labels[gene])"
   ]
  },
  {
   "cell_type": "code",
   "execution_count": 90,
   "metadata": {},
   "outputs": [
    {
     "name": "stdout",
     "output_type": "stream",
     "text": [
      "Best 5 guesses\n"
     ]
    },
    {
     "data": {
      "image/png": "[encoded data removed]",
      "text/plain": [
       "<Figure size 1440x360 with 2 Axes>"
      ]
     },
     "metadata": {
      "needs_background": "light"
     },
     "output_type": "display_data"
    },
    {
     "data": {
      "image/png": "[encoded data removed]",
      "text/plain": [
       "<Figure size 1440x360 with 2 Axes>"
      ]
     },
     "metadata": {
      "needs_background": "light"
     },
     "output_type": "display_data"
    },
    {
     "data": {
      "image/png": "[encoded data removed]",
      "text/plain": [
       "<Figure size 1440x360 with 2 Axes>"
      ]
     },
     "metadata": {
      "needs_background": "light"
     },
     "output_type": "display_data"
    },
    {
     "data": {
      "image/png": "[encoded data removed]",
      "text/plain": [
       "<Figure size 1440x360 with 2 Axes>"
      ]
     },
     "metadata": {
      "needs_background": "light"
     },
     "output_type": "display_data"
    },
    {
     "data": {
      "image/png": "[encoded data removed]",
      "text/plain": [
       "<Figure size 1440x360 with 2 Axes>"
      ]
     },
     "metadata": {
      "needs_background": "light"
     },
     "output_type": "display_data"
    }
   ],
   "source": [
    "print(f\"Best {show} guesses\")\n",
    "for gene in list(differences.head(show).index):    \n",
    "    plot_gene(test_data[gene],test_labels[gene])"
   ]
  },
  {
   "cell_type": "code",
   "execution_count": null,
   "metadata": {},
   "outputs": [],
   "source": []
  }
 ],
 "metadata": {
  "kernelspec": {
   "display_name": "Python 3",
   "language": "python",
   "name": "python3"
  },
  "language_info": {
   "codemirror_mode": {
    "name": "ipython",
    "version": 3
   },
   "file_extension": ".py",
   "mimetype": "text/x-python",
   "name": "python",
   "nbconvert_exporter": "python",
   "pygments_lexer": "ipython3",
   "version": "3.8.5"
  }
 },
 "nbformat": 4,
 "nbformat_minor": 4
}
