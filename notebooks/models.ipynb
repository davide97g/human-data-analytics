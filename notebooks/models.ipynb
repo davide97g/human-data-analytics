{
 "cells": [
  {
   "cell_type": "markdown",
   "metadata": {},
   "source": [
    "## Imports"
   ]
  },
  {
   "cell_type": "code",
   "execution_count": 1,
   "metadata": {},
   "outputs": [],
   "source": [
    "import tensorflow as tf\n",
    "from tensorflow.keras import layers, models\n",
    "from sklearn import preprocessing\n",
    "import matplotlib.pyplot as plt\n",
    "import seaborn as sns\n",
    "\n",
    "from sklearn.ensemble import RandomForestClassifier\n",
    "from sklearn.datasets import make_classification\n",
    "from sklearn.metrics import roc_auc_score\n",
    "\n",
    "import pandas as pd\n",
    "import numpy as np\n",
    "import os\n",
    "\n",
    "import visualkeras\n",
    "\n",
    "from tqdm.notebook import tqdm\n",
    "\n",
    "data_path = \"../dataset/data/\"\n",
    "cell_types = os.listdir(data_path)\n",
    "\n",
    "np.random.seed(42)\n",
    " \n",
    "# numpy version == 1.19.3 in order to make tensorflow Recurrent layer works\n",
    "assert(np.version.version==\"1.19.3\")"
   ]
  },
  {
   "cell_type": "markdown",
   "metadata": {},
   "source": [
    "## Load the data"
   ]
  },
  {
   "cell_type": "code",
   "execution_count": 2,
   "metadata": {},
   "outputs": [],
   "source": [
    "def load():\n",
    "    print(\"load()\")\n",
    "    full_train_data = np.array([])\n",
    "    full_valid_data = np.array([])\n",
    "    full_test_data = np.array([])\n",
    "    full_train_labels = np.array([])\n",
    "    full_valid_labels = np.array([])\n",
    "    full_test_labels = np.array([])\n",
    "\n",
    "    dirs = os.listdir(data_path)\n",
    "    for folder in tqdm(dirs):\n",
    "        (train_data, train_labels), (valid_data, valid_labels), (test_data, test_labels) = load_clean_data(folder)\n",
    "        # print(f\"{folder} loaded\")\n",
    "        \n",
    "        # train\n",
    "        full_train_data = np.append(full_train_data, train_data)\n",
    "        full_train_labels = np.append(full_train_labels, train_labels)\n",
    "        # valid\n",
    "        full_valid_data = np.append(full_valid_data, valid_data)\n",
    "        full_valid_labels = np.append(full_valid_labels, valid_labels)\n",
    "        # test\n",
    "        full_test_data = np.append(full_test_data, test_data)\n",
    "        full_test_labels = np.append(full_test_labels, test_labels)\n",
    "\n",
    "    # ? reshaping\n",
    "    full_train_data = full_train_data.reshape(len(full_train_labels), 5, 100, 1)\n",
    "    full_valid_data = full_valid_data.reshape(len(full_valid_labels), 5, 100, 1)\n",
    "    full_test_data = full_test_data.reshape(len(full_test_labels), 5, 100, 1)\n",
    "\n",
    "    return (\n",
    "        (full_train_data, full_train_labels),\n",
    "        (full_valid_data, full_valid_labels),\n",
    "        (full_test_data, full_test_labels)\n",
    "    )"
   ]
  },
  {
   "cell_type": "code",
   "execution_count": 3,
   "metadata": {},
   "outputs": [],
   "source": [
    "def load_clean_data(folder_name):\n",
    "    # data\n",
    "    train_data = np.load(f\"{data_path}{folder_name}/train_data.npy\")\n",
    "    valid_data = np.load(f\"{data_path}{folder_name}/valid_data.npy\")\n",
    "    test_data = np.load(f\"{data_path}{folder_name}/test_data.npy\")\n",
    "    # labels\n",
    "    train_labels = np.load(f\"{data_path}{folder_name}/train_labels.npy\")\n",
    "    valid_labels = np.load(f\"{data_path}{folder_name}/valid_labels.npy\")\n",
    "    test_labels = np.load(f\"{data_path}{folder_name}/test_labels.npy\")\n",
    "    # return complete tuples\n",
    "    return ((train_data, train_labels), (valid_data, valid_labels), (test_data, test_labels))"
   ]
  },
  {
   "cell_type": "markdown",
   "metadata": {},
   "source": [
    "## Create the model"
   ]
  },
  {
   "cell_type": "markdown",
   "metadata": {},
   "source": [
    "### Load the data"
   ]
  },
  {
   "cell_type": "code",
   "execution_count": 4,
   "metadata": {},
   "outputs": [
    {
     "name": "stdout",
     "output_type": "stream",
     "text": [
      "load()\n"
     ]
    },
    {
     "data": {
      "application/vnd.jupyter.widget-view+json": {
       "model_id": "fd724ad838834cb994626f17055ef9b8",
       "version_major": 2,
       "version_minor": 0
      },
      "text/plain": [
       "HBox(children=(HTML(value=''), FloatProgress(value=0.0, max=56.0), HTML(value='')))"
      ]
     },
     "metadata": {},
     "output_type": "display_data"
    },
    {
     "name": "stdout",
     "output_type": "stream",
     "text": [
      "\n"
     ]
    }
   ],
   "source": [
    "(train_data, train_labels), (valid_data, valid_labels), (test_data, test_labels) = load()"
   ]
  },
  {
   "cell_type": "code",
   "execution_count": 5,
   "metadata": {},
   "outputs": [
    {
     "name": "stdout",
     "output_type": "stream",
     "text": [
      "369544 training genes\n",
      "369544 validation genes\n",
      "369432 test genes\n",
      "mean: -8.957302339603253e-17\n",
      "std: 0.999999999999999\n"
     ]
    }
   ],
   "source": [
    "# visualize some stats about the data\n",
    "print(f\"{len(train_data)} training genes\")\n",
    "print(f\"{len(valid_data)} validation genes\")\n",
    "print(f\"{len(test_data)} test genes\")\n",
    "print(f\"mean: {np.mean(train_data)}\\nstd: {np.std(train_data)}\")"
   ]
  },
  {
   "cell_type": "code",
   "execution_count": 6,
   "metadata": {},
   "outputs": [
    {
     "data": {
      "image/png": "[encoded data removed]",
      "text/plain": [
       "<Figure size 1440x360 with 2 Axes>"
      ]
     },
     "metadata": {
      "needs_background": "light"
     },
     "output_type": "display_data"
    },
    {
     "data": {
      "image/png": "[encoded data removed]",
      "text/plain": [
       "<Figure size 1440x360 with 2 Axes>"
      ]
     },
     "metadata": {
      "needs_background": "light"
     },
     "output_type": "display_data"
    }
   ],
   "source": [
    "def plot_gene(gene,label):\n",
    "    gene = gene.reshape(5,100)\n",
    "    df = pd.DataFrame(gene, index=['HM1','HM2','HM3','HM4','HM5'])\n",
    "    plt.figure(figsize=(20, 5))\n",
    "    sns.heatmap(df, cmap=(\"RdPu\" if label==1 else \"BuPu\"))\n",
    "\n",
    "# test the function\n",
    "plot_gene(train_data[0],train_labels[0])\n",
    "plot_gene(train_data[1],train_labels[1])"
   ]
  },
  {
   "cell_type": "markdown",
   "metadata": {},
   "source": [
    "## Utility functions"
   ]
  },
  {
   "cell_type": "code",
   "execution_count": 7,
   "metadata": {},
   "outputs": [],
   "source": [
    "def plot_metrics(history):\n",
    "    # AUC\n",
    "    plt.plot(history.history[\"auc\"], label=\"auc\")\n",
    "    plt.plot(history.history[\"val_auc\"], label=\"val_auc\")\n",
    "    plt.xlabel(\"Epoch\")\n",
    "    plt.ylabel(\"AUC\")\n",
    "    plt.ylim([0.65, 1])\n",
    "    plt.legend(loc=\"lower right\")\n",
    "    plt.show()\n",
    "    # loss\n",
    "    plt.plot(history.history[\"loss\"], label=\"loss\")\n",
    "    plt.plot(history.history[\"val_loss\"], label=\"val_loss\")\n",
    "    plt.xlabel(\"Epoch\")\n",
    "    plt.ylabel(\"Loss\")\n",
    "    plt.ylim([0,1])\n",
    "    plt.legend(loc=\"lower right\")\n",
    "    plt.show()"
   ]
  },
  {
   "cell_type": "markdown",
   "metadata": {},
   "source": [
    "## Modeling\n",
    "Here we build several incremental models."
   ]
  },
  {
   "cell_type": "markdown",
   "metadata": {},
   "source": [
    "### Random Forest Classifier\n",
    "`Random Forest Classifier | min: 0.706171675739049 - max: 0.8874003754283708 - mean: 0.7942767483097146`"
   ]
  },
  {
   "cell_type": "code",
   "execution_count": 8,
   "metadata": {},
   "outputs": [],
   "source": [
    "train_data = train_data.reshape(len(train_data),5*100)\n",
    "valid_data = valid_data.reshape(len(valid_data),5*100)\n",
    "test_data = test_data.reshape(len(test_data),5*100)"
   ]
  },
  {
   "cell_type": "code",
   "execution_count": 9,
   "metadata": {},
   "outputs": [
    {
     "data": {
      "text/plain": [
       "RandomForestClassifier(max_depth=20, n_estimators=150, random_state=0)"
      ]
     },
     "execution_count": 9,
     "metadata": {},
     "output_type": "execute_result"
    }
   ],
   "source": [
    "clf = RandomForestClassifier(max_depth=20,n_estimators=150, random_state=0)\n",
    "clf.fit(train_data, train_labels)"
   ]
  },
  {
   "cell_type": "code",
   "execution_count": 10,
   "metadata": {},
   "outputs": [
    {
     "data": {
      "text/plain": [
       "0.8109613277479903"
      ]
     },
     "execution_count": 10,
     "metadata": {},
     "output_type": "execute_result"
    }
   ],
   "source": [
    "clf.score(test_data,test_labels)\n",
    "roc_auc_score(test_labels, clf.predict_proba(test_data)[:,1])"
   ]
  },
  {
   "cell_type": "code",
   "execution_count": 11,
   "metadata": {},
   "outputs": [
    {
     "data": {
      "application/vnd.jupyter.widget-view+json": {
       "model_id": "ec0d314dd58b450caafd2601bb6285f6",
       "version_major": 2,
       "version_minor": 0
      },
      "text/plain": [
       "HBox(children=(HTML(value=''), FloatProgress(value=0.0, max=56.0), HTML(value='')))"
      ]
     },
     "metadata": {},
     "output_type": "display_data"
    },
    {
     "name": "stdout",
     "output_type": "stream",
     "text": [
      "\n",
      "Random Forest Classifier | min: 0.706171675739049 - max: 0.8874003754283708 - mean: 0.7942767483097146\n"
     ]
    },
    {
     "data": {
      "text/plain": [
       "['../models/Random_Forest_Classifier.joblib']"
      ]
     },
     "execution_count": 11,
     "metadata": {},
     "output_type": "execute_result"
    }
   ],
   "source": [
    "aucs = []\n",
    "unit = 6597\n",
    "for i in tqdm(range(56)):            \n",
    "    test_auc = roc_auc_score(test_labels[i*unit:(i+1)*unit], clf.predict_proba(test_data[i*unit:(i+1)*unit])[:,1])\n",
    "    aucs.append(test_auc)    \n",
    "print(f\"Random Forest Classifier | min: {min(aucs)} - max: {max(aucs)} - mean: {np.mean(aucs)}\")\n",
    "df_results = pd.DataFrame(list(zip(cell_types, aucs)),\n",
    "               columns =['Cell-Type','AUC'])\n",
    "# save results\n",
    "df_results.to_csv(\"../results/Random_Forest_Classifier.csv\",index=None)"
   ]
  },
  {
   "cell_type": "markdown",
   "metadata": {},
   "source": [
    "### FNN (Base model)\n",
    "\n",
    "`Base_NN | min: 0.6968067288398743 - max: 0.8944201469421387 - mean: 0.7930427257503782`\n",
    "\n",
    "`Base_NN - separated | min: 0.7143731117248535 - max: 0.9025979042053223 - mean: 0.7986104562878609`"
   ]
  },
  {
   "cell_type": "code",
   "execution_count": 67,
   "metadata": {},
   "outputs": [],
   "source": [
    "train_data = train_data.reshape(len(train_data),5,100)\n",
    "valid_data = valid_data.reshape(len(valid_data),5,100)\n",
    "test_data = test_data.reshape(len(test_data),5,100)"
   ]
  },
  {
   "cell_type": "code",
   "execution_count": 68,
   "metadata": {},
   "outputs": [],
   "source": [
    "model = models.Sequential(name=\"Base_NN\")\n",
    "model.add(layers.Flatten(input_shape=(5, 100)))\n",
    "model.add(layers.Dense(64, activation='relu'))\n",
    "model.add(layers.Dense(32, activation='relu'))\n",
    "model.add(layers.Dense(1, activation=\"sigmoid\"))"
   ]
  },
  {
   "cell_type": "markdown",
   "metadata": {},
   "source": [
    "### Model - DeepChrome\n",
    "\n",
    "`Deep_Chrome | min: 0.7167153358459473 - max: 0.9021117687225342 - mean: 0.8032737289156232`\n",
    "\n",
    "`Deep_Chrome-separated | min: 0.7227053642272949 - max: 0.9179351329803467 - mean: 0.8068524854523795`"
   ]
  },
  {
   "cell_type": "code",
   "execution_count": 14,
   "metadata": {},
   "outputs": [],
   "source": [
    "train_data = train_data.reshape(len(train_data),100,5)\n",
    "valid_data = valid_data.reshape(len(valid_data),100,5)\n",
    "test_data = test_data.reshape(len(test_data),100,5)"
   ]
  },
  {
   "cell_type": "code",
   "execution_count": 15,
   "metadata": {},
   "outputs": [],
   "source": [
    "model = models.Sequential(name=\"Deep_Chrome\")\n",
    "model.add(layers.Conv1D(filters=50, kernel_size=10, activation=\"relu\", input_shape=(100,5)))\n",
    "model.add(layers.MaxPooling1D(pool_size=5))\n",
    "model.add(layers.Dropout(0.5))\n",
    "model.add(layers.Flatten())\n",
    "model.add(layers.Dense(625, activation='relu'))\n",
    "model.add(layers.Dense(125, activation='relu'))\n",
    "model.add(layers.Dense(1, activation='sigmoid'))"
   ]
  },
  {
   "cell_type": "markdown",
   "metadata": {},
   "source": [
    "### Model - UltraChrome\n",
    "\n",
    "`Ultra_Chrome | min: 0.714259684085846 - max: 0.9034337401390076 - mean: 0.8045275743518557`\n",
    "\n",
    "`Ultra_Chrome - separated | min: 0.7268062829971313 - max: 0.9202893376350403 - mean: 0.8114221681441579`\n",
    "\n",
    "Hyper-parameters:\n",
    "- **filters** : 50 | 100\n",
    "- **neurons**: high: 64+256+64 | low: 32+128+32 | deep: 64+256+256+64\n",
    "- **dropout**: on | off\n",
    "- **batch norm**: on | off\n",
    "---\n",
    "- `50|Low|No|No` : `Ultra_Chrome | min: 0.6526966094970703 - max: 0.9346764087677002 - mean: 0.7641739281160491`\n",
    "- `100|Low|No|No` : `Ultra_Chrome | min: 0.6532466411590576 - max: 0.938978910446167 - mean: 0.7648651003837585`\n",
    "- `100|High|No|No` : `Ultra_Chrome | min: 0.6534548997879028 - max: 0.9363148212432861 - mean: 0.7629680676119668`\n",
    "- `100|High|Yes|No` : `Ultra_Chrome | min: 0.654558539390564 - max: 0.9329816102981567 - mean: 0.7630851109113012`\n",
    "- `100|High|Yes|Yes` : `Ultra_Chrome | min: 0.6521378755569458 - max: 0.9367374181747437 - mean: 0.7655470222234726`\n",
    "- `100|Deep|Yes|Yes` : `Ultra_Chrome | min: 0.6478064060211182 - max: 0.9374117851257324 - mean: 0.7645122249211583`"
   ]
  },
  {
   "cell_type": "code",
   "execution_count": 75,
   "metadata": {},
   "outputs": [],
   "source": [
    "train_data = train_data.reshape(len(train_data),5,100,1)\n",
    "valid_data = valid_data.reshape(len(valid_data),5,100,1)\n",
    "test_data = test_data.reshape(len(test_data),5,100,1)"
   ]
  },
  {
   "cell_type": "code",
   "execution_count": 77,
   "metadata": {},
   "outputs": [],
   "source": [
    "model = models.Sequential(name=\"Ultra_Chrome\")\n",
    "# stage 1 => CONV 2D\n",
    "model.add(layers.Conv2D(100, 5, activation=\"relu\", input_shape=(5,100,1), padding=\"same\"))\n",
    "model.add(layers.MaxPooling2D(pool_size=(1,5)))\n",
    "# stage 2 => FNN\n",
    "model.add(layers.Dropout(0.5))\n",
    "model.add(layers.Flatten())\n",
    "model.add(layers.Dense(64, activation='relu'))\n",
    "model.add(layers.BatchNormalization())\n",
    "model.add(layers.Dense(256, activation='relu'))\n",
    "model.add(layers.BatchNormalization())\n",
    "model.add(layers.Dense(64, activation='relu'))\n",
    "# final stage\n",
    "model.add(layers.Dense(1, activation='sigmoid'))"
   ]
  },
  {
   "cell_type": "markdown",
   "metadata": {},
   "source": [
    "### ChromeR\n",
    "> needs `numpy 1.19.3`\n",
    "\n",
    "`ChromeR | min: 0.706201434135437 - max: 0.8871307969093323 - mean: 0.7961249468582017`\n",
    "\n",
    "`ChromeR - separated | min: 0.710761547088623 - max: 0.902295708656311 - mean: 0.8009782103555543`\n",
    "\n",
    "Hyper-parameters:\n",
    "- **LSTM units**: 128 | 64\n",
    "- **Neurons per dense**: 625+125 | 250+50 \n",
    "- **Batch norm**: on | off"
   ]
  },
  {
   "cell_type": "code",
   "execution_count": 22,
   "metadata": {},
   "outputs": [],
   "source": [
    "train_data = train_data.reshape(len(train_data),5,100)\n",
    "valid_data = valid_data.reshape(len(valid_data),5,100)\n",
    "test_data = test_data.reshape(len(test_data),5,100)"
   ]
  },
  {
   "cell_type": "code",
   "execution_count": 23,
   "metadata": {},
   "outputs": [],
   "source": [
    "model = models.Sequential(name=\"ChromeR\")\n",
    "model.add(layers.Bidirectional(layers.LSTM(128, activation=\"relu\"), input_shape=(5, 100)))\n",
    "model.add(layers.Dropout(0.5))\n",
    "model.add(layers.Flatten())\n",
    "model.add(layers.Dense(625, activation='relu'))\n",
    "model.add(layers.Dense(125, activation='relu'))\n",
    "model.add(layers.Dense(1, activation='sigmoid'))"
   ]
  },
  {
   "cell_type": "markdown",
   "metadata": {},
   "source": [
    "### Visualize the model"
   ]
  },
  {
   "cell_type": "code",
   "execution_count": 78,
   "metadata": {},
   "outputs": [
    {
     "name": "stdout",
     "output_type": "stream",
     "text": [
      "Model: \"Ultra_Chrome\"\n",
      "_________________________________________________________________\n",
      "Layer (type)                 Output Shape              Param #   \n",
      "=================================================================\n",
      "conv2d_15 (Conv2D)           (None, 5, 100, 100)       2600      \n",
      "_________________________________________________________________\n",
      "max_pooling2d_15 (MaxPooling (None, 5, 20, 100)        0         \n",
      "_________________________________________________________________\n",
      "dropout_13 (Dropout)         (None, 5, 20, 100)        0         \n",
      "_________________________________________________________________\n",
      "flatten_15 (Flatten)         (None, 10000)             0         \n",
      "_________________________________________________________________\n",
      "dense_55 (Dense)             (None, 64)                640064    \n",
      "_________________________________________________________________\n",
      "batch_normalization_13 (Batc (None, 64)                256       \n",
      "_________________________________________________________________\n",
      "dense_56 (Dense)             (None, 256)               16640     \n",
      "_________________________________________________________________\n",
      "batch_normalization_14 (Batc (None, 256)               1024      \n",
      "_________________________________________________________________\n",
      "dense_57 (Dense)             (None, 64)                16448     \n",
      "_________________________________________________________________\n",
      "dense_58 (Dense)             (None, 1)                 65        \n",
      "=================================================================\n",
      "Total params: 677,097\n",
      "Trainable params: 676,457\n",
      "Non-trainable params: 640\n",
      "_________________________________________________________________\n"
     ]
    },
    {
     "data": {
      "image/png": "[encoded data removed]",
      "text/plain": [
       "<PIL.Image.Image image mode=RGBA size=708x407 at 0x1C84CE74A30>"
      ]
     },
     "execution_count": 78,
     "metadata": {},
     "output_type": "execute_result"
    }
   ],
   "source": [
    "model.summary()\n",
    "visualkeras.layered_view(model)"
   ]
  },
  {
   "cell_type": "markdown",
   "metadata": {},
   "source": [
    "## Training"
   ]
  },
  {
   "cell_type": "markdown",
   "metadata": {},
   "source": [
    "### Unique Training"
   ]
  },
  {
   "cell_type": "code",
   "execution_count": 82,
   "metadata": {},
   "outputs": [
    {
     "name": "stdout",
     "output_type": "stream",
     "text": [
      "Epoch 1/10\n",
      "11549/11549 - 277s - loss: 0.5749 - auc: 0.7420 - val_loss: 0.5210 - val_auc: 0.7846\n",
      "Epoch 2/10\n",
      "11549/11549 - 299s - loss: 0.5663 - auc: 0.7534 - val_loss: 0.5265 - val_auc: 0.7861\n",
      "Epoch 3/10\n",
      "11549/11549 - 307s - loss: 0.5618 - auc: 0.7591 - val_loss: 0.5166 - val_auc: 0.7881\n",
      "Epoch 4/10\n",
      "11549/11549 - 290s - loss: 0.5578 - auc: 0.7637 - val_loss: 0.5162 - val_auc: 0.7900\n",
      "Epoch 5/10\n",
      "11549/11549 - 293s - loss: 0.5541 - auc: 0.7678 - val_loss: 0.5148 - val_auc: 0.7905\n",
      "Epoch 6/10\n",
      "11549/11549 - 287s - loss: 0.5515 - auc: 0.7706 - val_loss: 0.5171 - val_auc: 0.7889\n",
      "Epoch 7/10\n",
      "11549/11549 - 284s - loss: 0.5489 - auc: 0.7735 - val_loss: 0.5133 - val_auc: 0.7916\n",
      "Epoch 8/10\n",
      "11549/11549 - 283s - loss: 0.5468 - auc: 0.7756 - val_loss: 0.5129 - val_auc: 0.7916\n",
      "Epoch 9/10\n",
      "11549/11549 - 299s - loss: 0.5444 - auc: 0.7780 - val_loss: 0.5160 - val_auc: 0.7902\n",
      "Epoch 10/10\n",
      "11549/11549 - 302s - loss: 0.5428 - auc: 0.7797 - val_loss: 0.5144 - val_auc: 0.7903\n",
      "INFO:tensorflow:Assets written to: ../models/Ultra_Chrome\\assets\n"
     ]
    }
   ],
   "source": [
    "model.compile(optimizer=\"adam\", loss=tf.keras.losses.BinaryCrossentropy(from_logits=True), metrics=[\"AUC\"])\n",
    "\n",
    "checkpoint_filepath = './'\n",
    "model_checkpoint_callback = tf.keras.callbacks.ModelCheckpoint(\n",
    "    filepath=checkpoint_filepath,\n",
    "    save_weights_only=True,\n",
    "    monitor='val_auc',\n",
    "    mode='max',\n",
    "    save_best_only=True)\n",
    "\n",
    "history = model.fit(train_data, train_labels, epochs=10, \n",
    "                    validation_data=(valid_data, valid_labels), \n",
    "                    callbacks=[model_checkpoint_callback], verbose=2)\n",
    "\n",
    "# load best model\n",
    "model.load_weights(checkpoint_filepath)\n",
    "\n",
    "# saving the model\n",
    "model.save(f\"../models/{model.name}\")"
   ]
  },
  {
   "cell_type": "code",
   "execution_count": 83,
   "metadata": {},
   "outputs": [
    {
     "data": {
      "image/png": "[encoded data removed]",
      "text/plain": [
       "<Figure size 432x288 with 1 Axes>"
      ]
     },
     "metadata": {
      "needs_background": "light"
     },
     "output_type": "display_data"
    },
    {
     "data": {
      "image/png": "[encoded data removed]",
      "text/plain": [
       "<Figure size 432x288 with 1 Axes>"
      ]
     },
     "metadata": {
      "needs_background": "light"
     },
     "output_type": "display_data"
    }
   ],
   "source": [
    "plot_metrics(history)"
   ]
  },
  {
   "cell_type": "markdown",
   "metadata": {},
   "source": [
    "## Validation - Hyper-parameter tuning"
   ]
  },
  {
   "cell_type": "code",
   "execution_count": 84,
   "metadata": {},
   "outputs": [],
   "source": [
    "def validate_model(model_name):\n",
    "    # load model \n",
    "    model = tf.keras.models.load_model(f\"../models/{model_name}\")\n",
    "    aucs = []\n",
    "    unit = 6597\n",
    "    for i in tqdm(range(56)):    \n",
    "        _, valid_auc = model.evaluate(valid_data[i*unit:(i+1)*unit], valid_labels[i*unit:(i+1)*unit], verbose=0)\n",
    "        aucs.append(valid_auc)\n",
    "        \n",
    "    print(f\"{model.name} | min: {min(aucs)} - max: {max(aucs)} - mean: {np.mean(aucs)}\")"
   ]
  },
  {
   "cell_type": "code",
   "execution_count": 85,
   "metadata": {},
   "outputs": [
    {
     "data": {
      "application/vnd.jupyter.widget-view+json": {
       "model_id": "aaf3f638c16b41a7827125666ebdcaf7",
       "version_major": 2,
       "version_minor": 0
      },
      "text/plain": [
       "HBox(children=(HTML(value=''), FloatProgress(value=0.0, max=56.0), HTML(value='')))"
      ]
     },
     "metadata": {},
     "output_type": "display_data"
    },
    {
     "name": "stdout",
     "output_type": "stream",
     "text": [
      "\n",
      "Ultra_Chrome | min: 0.6477327346801758 - max: 0.9362199306488037 - mean: 0.7631777971982956\n"
     ]
    }
   ],
   "source": [
    "model_name=\"Ultra_Chrome\"\n",
    "validate_model(model_name)"
   ]
  },
  {
   "cell_type": "markdown",
   "metadata": {},
   "source": [
    "## Test Unique Model"
   ]
  },
  {
   "cell_type": "code",
   "execution_count": 86,
   "metadata": {},
   "outputs": [
    {
     "data": {
      "application/vnd.jupyter.widget-view+json": {
       "model_id": "b28d2e7fd8ba4cf29d47f3f9aa581511",
       "version_major": 2,
       "version_minor": 0
      },
      "text/plain": [
       "HBox(children=(HTML(value=''), FloatProgress(value=0.0, max=56.0), HTML(value='')))"
      ]
     },
     "metadata": {},
     "output_type": "display_data"
    },
    {
     "name": "stdout",
     "output_type": "stream",
     "text": [
      "\n",
      "Ultra_Chrome | min: 0.7196324467658997 - max: 0.9043508768081665 - mean: 0.8028575160673687\n"
     ]
    }
   ],
   "source": [
    "aucs = []\n",
    "unit = 6597\n",
    "for i in tqdm(range(56)):    \n",
    "    _, test_auc = model.evaluate(test_data[i*unit:(i+1)*unit], test_labels[i*unit:(i+1)*unit], verbose=0)\n",
    "    aucs.append(test_auc)\n",
    "    \n",
    "print(f\"{model.name} | min: {min(aucs)} - max: {max(aucs)} - mean: {np.mean(aucs)}\")\n",
    "\n",
    "# saving the results\n",
    "df_results = pd.DataFrame(list(zip(cell_types, aucs)),\n",
    "               columns =['Cell-Type','AUC'])\n",
    "df_results.to_csv(f\"../results/{model.name}.csv\",index=None)"
   ]
  },
  {
   "cell_type": "markdown",
   "metadata": {},
   "source": [
    "-----\n",
    "## Separated Training and Testing"
   ]
  },
  {
   "cell_type": "code",
   "execution_count": 63,
   "metadata": {},
   "outputs": [
    {
     "data": {
      "application/vnd.jupyter.widget-view+json": {
       "model_id": "00ebf447d6024a4bae5464e894e220e0",
       "version_major": 2,
       "version_minor": 0
      },
      "text/plain": [
       "HBox(children=(HTML(value=''), FloatProgress(value=0.0, max=56.0), HTML(value='')))"
      ]
     },
     "metadata": {},
     "output_type": "display_data"
    },
    {
     "name": "stdout",
     "output_type": "stream",
     "text": [
      "INFO:tensorflow:Assets written to: ../models/separated/Base_NN/Cell-1\\assets\n",
      "INFO:tensorflow:Assets written to: ../models/separated/Base_NN/Cell-2\\assets\n",
      "INFO:tensorflow:Assets written to: ../models/separated/Base_NN/Cell-3\\assets\n",
      "INFO:tensorflow:Assets written to: ../models/separated/Base_NN/Cell-4\\assets\n",
      "INFO:tensorflow:Assets written to: ../models/separated/Base_NN/Cell-5\\assets\n",
      "INFO:tensorflow:Assets written to: ../models/separated/Base_NN/Cell-6\\assets\n",
      "INFO:tensorflow:Assets written to: ../models/separated/Base_NN/Cell-7\\assets\n",
      "INFO:tensorflow:Assets written to: ../models/separated/Base_NN/Cell-8\\assets\n",
      "INFO:tensorflow:Assets written to: ../models/separated/Base_NN/Cell-9\\assets\n",
      "INFO:tensorflow:Assets written to: ../models/separated/Base_NN/Cell-10\\assets\n",
      "INFO:tensorflow:Assets written to: ../models/separated/Base_NN/Cell-11\\assets\n",
      "INFO:tensorflow:Assets written to: ../models/separated/Base_NN/Cell-12\\assets\n",
      "INFO:tensorflow:Assets written to: ../models/separated/Base_NN/Cell-13\\assets\n",
      "INFO:tensorflow:Assets written to: ../models/separated/Base_NN/Cell-14\\assets\n",
      "INFO:tensorflow:Assets written to: ../models/separated/Base_NN/Cell-15\\assets\n",
      "INFO:tensorflow:Assets written to: ../models/separated/Base_NN/Cell-16\\assets\n",
      "INFO:tensorflow:Assets written to: ../models/separated/Base_NN/Cell-17\\assets\n",
      "INFO:tensorflow:Assets written to: ../models/separated/Base_NN/Cell-18\\assets\n",
      "INFO:tensorflow:Assets written to: ../models/separated/Base_NN/Cell-19\\assets\n",
      "INFO:tensorflow:Assets written to: ../models/separated/Base_NN/Cell-20\\assets\n",
      "INFO:tensorflow:Assets written to: ../models/separated/Base_NN/Cell-21\\assets\n",
      "INFO:tensorflow:Assets written to: ../models/separated/Base_NN/Cell-22\\assets\n",
      "INFO:tensorflow:Assets written to: ../models/separated/Base_NN/Cell-23\\assets\n",
      "INFO:tensorflow:Assets written to: ../models/separated/Base_NN/Cell-24\\assets\n",
      "INFO:tensorflow:Assets written to: ../models/separated/Base_NN/Cell-25\\assets\n",
      "INFO:tensorflow:Assets written to: ../models/separated/Base_NN/Cell-26\\assets\n",
      "INFO:tensorflow:Assets written to: ../models/separated/Base_NN/Cell-27\\assets\n",
      "INFO:tensorflow:Assets written to: ../models/separated/Base_NN/Cell-28\\assets\n",
      "INFO:tensorflow:Assets written to: ../models/separated/Base_NN/Cell-29\\assets\n",
      "INFO:tensorflow:Assets written to: ../models/separated/Base_NN/Cell-30\\assets\n",
      "INFO:tensorflow:Assets written to: ../models/separated/Base_NN/Cell-31\\assets\n",
      "INFO:tensorflow:Assets written to: ../models/separated/Base_NN/Cell-32\\assets\n",
      "INFO:tensorflow:Assets written to: ../models/separated/Base_NN/Cell-33\\assets\n",
      "INFO:tensorflow:Assets written to: ../models/separated/Base_NN/Cell-34\\assets\n",
      "INFO:tensorflow:Assets written to: ../models/separated/Base_NN/Cell-35\\assets\n",
      "INFO:tensorflow:Assets written to: ../models/separated/Base_NN/Cell-36\\assets\n",
      "INFO:tensorflow:Assets written to: ../models/separated/Base_NN/Cell-37\\assets\n",
      "INFO:tensorflow:Assets written to: ../models/separated/Base_NN/Cell-38\\assets\n",
      "INFO:tensorflow:Assets written to: ../models/separated/Base_NN/Cell-39\\assets\n",
      "INFO:tensorflow:Assets written to: ../models/separated/Base_NN/Cell-40\\assets\n",
      "INFO:tensorflow:Assets written to: ../models/separated/Base_NN/Cell-41\\assets\n",
      "INFO:tensorflow:Assets written to: ../models/separated/Base_NN/Cell-42\\assets\n",
      "INFO:tensorflow:Assets written to: ../models/separated/Base_NN/Cell-43\\assets\n",
      "INFO:tensorflow:Assets written to: ../models/separated/Base_NN/Cell-44\\assets\n",
      "INFO:tensorflow:Assets written to: ../models/separated/Base_NN/Cell-45\\assets\n",
      "INFO:tensorflow:Assets written to: ../models/separated/Base_NN/Cell-46\\assets\n",
      "INFO:tensorflow:Assets written to: ../models/separated/Base_NN/Cell-47\\assets\n",
      "INFO:tensorflow:Assets written to: ../models/separated/Base_NN/Cell-48\\assets\n",
      "INFO:tensorflow:Assets written to: ../models/separated/Base_NN/Cell-49\\assets\n",
      "INFO:tensorflow:Assets written to: ../models/separated/Base_NN/Cell-50\\assets\n",
      "INFO:tensorflow:Assets written to: ../models/separated/Base_NN/Cell-51\\assets\n",
      "INFO:tensorflow:Assets written to: ../models/separated/Base_NN/Cell-52\\assets\n",
      "INFO:tensorflow:Assets written to: ../models/separated/Base_NN/Cell-53\\assets\n",
      "INFO:tensorflow:Assets written to: ../models/separated/Base_NN/Cell-54\\assets\n",
      "INFO:tensorflow:Assets written to: ../models/separated/Base_NN/Cell-55\\assets\n",
      "INFO:tensorflow:Assets written to: ../models/separated/Base_NN/Cell-56\\assets\n",
      "\n"
     ]
    }
   ],
   "source": [
    "model.compile(optimizer=\"adam\", loss=tf.keras.losses.BinaryCrossentropy(from_logits=True), metrics=[\"AUC\"])\n",
    "\n",
    "separated_models = []\n",
    "unit = 6597\n",
    "\n",
    "checkpoint_filepath = './'\n",
    "model_checkpoint_callback = tf.keras.callbacks.ModelCheckpoint(\n",
    "    filepath=checkpoint_filepath,\n",
    "    save_weights_only=True,\n",
    "    monitor='val_auc',\n",
    "    mode='max',\n",
    "    save_best_only=True)\n",
    "\n",
    "for i in tqdm(range(56)):\n",
    "    new_model = model\n",
    "    history = new_model.fit(train_data[i*unit:(i+1)*unit], train_labels[i*unit:(i+1)*unit],\n",
    "                            validation_data=(valid_data[i*unit:(i+1)*unit], valid_labels[i*unit:(i+1)*unit]),\n",
    "                            epochs=10,  # todo: modify number of epochs\n",
    "                            callbacks=[model_checkpoint_callback], verbose=0) \n",
    "    # load best model\n",
    "    new_model.load_weights(checkpoint_filepath)\n",
    "\n",
    "    # saving the model\n",
    "    separated_models.append(new_model)\n",
    "    new_model.save(f\"../models/separated/{new_model.name}/Cell-{i+1}\")\n",
    "    "
   ]
  },
  {
   "cell_type": "markdown",
   "metadata": {},
   "source": [
    "### Test Separate Models"
   ]
  },
  {
   "cell_type": "code",
   "execution_count": 64,
   "metadata": {},
   "outputs": [
    {
     "data": {
      "application/vnd.jupyter.widget-view+json": {
       "model_id": "0d669dd6257d4fd3be21d5baf7aebe0f",
       "version_major": 2,
       "version_minor": 0
      },
      "text/plain": [
       "HBox(children=(HTML(value=''), FloatProgress(value=0.0, max=56.0), HTML(value='')))"
      ]
     },
     "metadata": {},
     "output_type": "display_data"
    },
    {
     "name": "stdout",
     "output_type": "stream",
     "text": [
      "\n",
      "Base_NN - separated | min: 0.7143731117248535 - max: 0.9025979042053223 - mean: 0.7986104562878609\n"
     ]
    }
   ],
   "source": [
    "aucs = []\n",
    "unit = 6597\n",
    "for i in tqdm(range(56)):    \n",
    "    _, test_auc = separated_models[i].evaluate(test_data[i*unit:(i+1)*unit], test_labels[i*unit:(i+1)*unit], verbose=0)\n",
    "    aucs.append(test_auc)\n",
    "    \n",
    "print(f\"{model.name} - separated | min: {min(aucs)} - max: {max(aucs)} - mean: {np.mean(aucs)}\")\n",
    "\n",
    "# saving the results\n",
    "df_results = pd.DataFrame(list(zip(cell_types, aucs)),\n",
    "               columns =['Cell-Type','AUC'])\n",
    "df_results.to_csv(f\"../results/{model.name}-separated.csv\",index=None)"
   ]
  },
  {
   "cell_type": "markdown",
   "metadata": {},
   "source": [
    "---\n",
    "### Best / Worst Predictions"
   ]
  },
  {
   "cell_type": "code",
   "execution_count": 87,
   "metadata": {},
   "outputs": [],
   "source": [
    "best,worst = None,None\n",
    "best_position,worst_position = None,None\n",
    "\n",
    "test_labels = test_labels.reshape(len(test_labels),1)\n",
    "predictions = model.predict(test_data)\n",
    "\n",
    "diffs = abs(predictions-test_labels)\n",
    "\n",
    "differences = pd.DataFrame(pd.DataFrame(list(diffs),\n",
    "               columns =['Difference']))\n",
    "\n",
    "differences.sort_values(by=['Difference'], inplace=True)\n",
    "\n",
    "show = 5"
   ]
  },
  {
   "cell_type": "code",
   "execution_count": 89,
   "metadata": {},
   "outputs": [
    {
     "name": "stdout",
     "output_type": "stream",
     "text": [
      "Worst 5 guesses\n"
     ]
    },
    {
     "data": {
      "image/png": "[encoded data removed]",
      "text/plain": [
       "<Figure size 1440x360 with 2 Axes>"
      ]
     },
     "metadata": {
      "needs_background": "light"
     },
     "output_type": "display_data"
    },
    {
     "data": {
      "image/png": "[encoded data removed]",
      "text/plain": [
       "<Figure size 1440x360 with 2 Axes>"
      ]
     },
     "metadata": {
      "needs_background": "light"
     },
     "output_type": "display_data"
    },
    {
     "data": {
      "image/png": "[encoded data removed]",
      "text/plain": [
       "<Figure size 1440x360 with 2 Axes>"
      ]
     },
     "metadata": {
      "needs_background": "light"
     },
     "output_type": "display_data"
    },
    {
     "data": {
      "image/png": "[encoded data removed]",
      "text/plain": [
       "<Figure size 1440x360 with 2 Axes>"
      ]
     },
     "metadata": {
      "needs_background": "light"
     },
     "output_type": "display_data"
    },
    {
     "data": {
      "image/png": "[encoded data removed]",
      "text/plain": [
       "<Figure size 1440x360 with 2 Axes>"
      ]
     },
     "metadata": {
      "needs_background": "light"
     },
     "output_type": "display_data"
    }
   ],
   "source": [
    "print(f\"Worst {show} guesses\")\n",
    "for gene in list(differences.tail(show).index):    \n",
    "    plot_gene(test_data[gene],test_labels[gene])"
   ]
  },
  {
   "cell_type": "code",
   "execution_count": 90,
   "metadata": {},
   "outputs": [
    {
     "name": "stdout",
     "output_type": "stream",
     "text": [
      "Best 5 guesses\n"
     ]
    },
    {
     "data": {
      "image/png": "[encoded data removed]",
      "text/plain": [
       "<Figure size 1440x360 with 2 Axes>"
      ]
     },
     "metadata": {
      "needs_background": "light"
     },
     "output_type": "display_data"
    },
    {
     "data": {
      "image/png": "[encoded data removed]",
      "text/plain": [
       "<Figure size 1440x360 with 2 Axes>"
      ]
     },
     "metadata": {
      "needs_background": "light"
     },
     "output_type": "display_data"
    },
    {
     "data": {
      "image/png": "[encoded data removed]",
      "text/plain": [
       "<Figure size 1440x360 with 2 Axes>"
      ]
     },
     "metadata": {
      "needs_background": "light"
     },
     "output_type": "display_data"
    },
    {
     "data": {
      "image/png": "[encoded data removed]",
      "text/plain": [
       "<Figure size 1440x360 with 2 Axes>"
      ]
     },
     "metadata": {
      "needs_background": "light"
     },
     "output_type": "display_data"
    },
    {
     "data": {
      "image/png": "[encoded data removed]",
      "text/plain": [
       "<Figure size 1440x360 with 2 Axes>"
      ]
     },
     "metadata": {
      "needs_background": "light"
     },
     "output_type": "display_data"
    }
   ],
   "source": [
    "print(f\"Best {show} guesses\")\n",
    "for gene in list(differences.head(show).index):    \n",
    "    plot_gene(test_data[gene],test_labels[gene])"
   ]
  },
  {
   "cell_type": "code",
   "execution_count": null,
   "metadata": {},
   "outputs": [],
   "source": []
  }
 ],
 "metadata": {
  "kernelspec": {
   "display_name": "Python 3",
   "language": "python",
   "name": "python3"
  },
  "language_info": {
   "codemirror_mode": {
    "name": "ipython",
    "version": 3
   },
   "file_extension": ".py",
   "mimetype": "text/x-python",
   "name": "python",
   "nbconvert_exporter": "python",
   "pygments_lexer": "ipython3",
   "version": "3.8.5"
  }
 },
 "nbformat": 4,
 "nbformat_minor": 4
}
