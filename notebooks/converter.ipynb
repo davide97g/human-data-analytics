{
 "cells": [
  {
   "cell_type": "code",
   "execution_count": 1,
   "metadata": {},
   "outputs": [],
   "source": [
    "import tensorflow as tf\n",
    "import tensorflowjs as tfjs\n",
    "import os\n",
    "from tqdm.notebook import tqdm"
   ]
  },
  {
   "cell_type": "code",
   "execution_count": 6,
   "metadata": {},
   "outputs": [],
   "source": [
    "input_path =\"../models/\"\n",
    "output_path = \"../demo/src/assets/tf-models/\""
   ]
  },
  {
   "cell_type": "code",
   "execution_count": 7,
   "metadata": {},
   "outputs": [
    {
     "name": "stdout",
     "output_type": "stream",
     "text": [
      "Start conversion...\n"
     ]
    },
    {
     "data": {
      "application/vnd.jupyter.widget-view+json": {
       "model_id": "a7cd39fb618c4e10b2e397ef5f496876",
       "version_major": 2,
       "version_minor": 0
      },
      "text/plain": [
       "HBox(children=(HTML(value=''), FloatProgress(value=0.0, max=5.0), HTML(value='')))"
      ]
     },
     "metadata": {},
     "output_type": "display_data"
    },
    {
     "name": "stdout",
     "output_type": "stream",
     "text": [
      "> Base_NN\n",
      "> ChromeR\n",
      "> Deep_Chrome\n",
      "> Ultra_Chrome\n",
      "\n",
      "Conversion completed.\n"
     ]
    }
   ],
   "source": [
    "print(\"Start conversion...\")\n",
    "for model_name in tqdm(os.listdir(\"../models/\")):    \n",
    "    if model_name != 'js' and model_name != 'separated':        \n",
    "        model = tf.keras.models.load_model(f\"{input_path}{model_name}\")        \n",
    "        tfjs.converters.save_keras_model(model, output_path+model_name)\n",
    "        print(f\"> {model_name}\")\n",
    "print(\"Conversion completed.\")"
   ]
  },
  {
   "cell_type": "code",
   "execution_count": null,
   "metadata": {},
   "outputs": [],
   "source": []
  }
 ],
 "metadata": {
  "kernelspec": {
   "display_name": "Python 3",
   "language": "python",
   "name": "python3"
  },
  "language_info": {
   "codemirror_mode": {
    "name": "ipython",
    "version": 3
   },
   "file_extension": ".py",
   "mimetype": "text/x-python",
   "name": "python",
   "nbconvert_exporter": "python",
   "pygments_lexer": "ipython3",
   "version": "3.8.5"
  }
 },
 "nbformat": 4,
 "nbformat_minor": 4
}
