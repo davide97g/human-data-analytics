{
 "cells": [
  {
   "cell_type": "code",
   "execution_count": 1,
   "metadata": {},
   "outputs": [],
   "source": [
    "import tensorflow as tf\n",
    "import tensorflowjs as tfjs\n",
    "import os\n",
    "from tqdm.notebook import tqdm"
   ]
  },
  {
   "cell_type": "code",
   "execution_count": 2,
   "metadata": {},
   "outputs": [],
   "source": [
    "input_path =\"../models/\"\n",
    "output_path = \"../models/js/\""
   ]
  },
  {
   "cell_type": "code",
   "execution_count": 26,
   "metadata": {},
   "outputs": [
    {
     "name": "stdout",
     "output_type": "stream",
     "text": [
      "Start conversion...\n"
     ]
    },
    {
     "data": {
      "application/vnd.jupyter.widget-view+json": {
       "model_id": "b17d60ad822047f7a4d3596924800420",
       "version_major": 2,
       "version_minor": 0
      },
      "text/plain": [
       "HBox(children=(HTML(value=''), FloatProgress(value=0.0, max=6.0), HTML(value='')))"
      ]
     },
     "metadata": {},
     "output_type": "display_data"
    },
    {
     "name": "stdout",
     "output_type": "stream",
     "text": [
      "> Base_NN\n",
      "> ChromeR\n",
      "> Deep_Chrome\n",
      "> Ultra_Chrome\n",
      "\n",
      "Conversion completed.\n"
     ]
    }
   ],
   "source": [
    "print(\"Start conversion...\")\n",
    "for model_name in tqdm(os.listdir(\"../models/\")):    \n",
    "    if model_name != 'js' and model_name != 'separated':        \n",
    "        model = tf.keras.models.load_model(f\"{input_path}{model_name}\")        \n",
    "        tfjs.converters.save_keras_model(model, output_path+model_name)\n",
    "        print(f\"> {model_name}\")\n",
    "print(\"Conversion completed.\")"
   ]
  },
  {
   "cell_type": "code",
   "execution_count": 5,
   "metadata": {},
   "outputs": [
    {
     "name": "stdout",
     "output_type": "stream",
     "text": [
      "Start conversion...\n"
     ]
    },
    {
     "data": {
      "application/vnd.jupyter.widget-view+json": {
       "model_id": "c54b3d2ce3f242fd8ef92162e2c8cf85",
       "version_major": 2,
       "version_minor": 0
      },
      "text/plain": [
       "HBox(children=(HTML(value=''), FloatProgress(value=0.0, max=4.0), HTML(value='')))"
      ]
     },
     "metadata": {},
     "output_type": "display_data"
    },
    {
     "name": "stdout",
     "output_type": "stream",
     "text": [
      "\n",
      "> Deep_Chrome\n",
      "> Ultra_Chrome\n",
      "\n",
      "Conversion completed.\n"
     ]
    }
   ],
   "source": [
    "print(\"Start TFLite conversion...\")\n",
    "for model_name in tqdm(os.listdir(\"../models/\")[2:]):    \n",
    "    if model_name != 'js' and model_name != 'separated':\n",
    "        #         model = tf.lite.TFLiteConverter.from_saved_model(f\"{input_path}{model_name}\")\n",
    "        # Convert the model\n",
    "        converter = tf.lite.TFLiteConverter.from_saved_model(input_path+model_name) # path to the SavedModel directory\n",
    "        tflite_model = converter.convert()\n",
    "        # Save the model.\n",
    "        with open(f'{output_path}{model_name}.tflite', 'wb') as f:\n",
    "            f.write(tflite_model)\n",
    "        print(f\"> {model_name}\")\n",
    "print(\"Conversion completed.\")"
   ]
  }
 ],
 "metadata": {
  "kernelspec": {
   "display_name": "Python 3",
   "language": "python",
   "name": "python3"
  },
  "language_info": {
   "codemirror_mode": {
    "name": "ipython",
    "version": 3
   },
   "file_extension": ".py",
   "mimetype": "text/x-python",
   "name": "python",
   "nbconvert_exporter": "python",
   "pygments_lexer": "ipython3",
   "version": "3.8.5"
  }
 },
 "nbformat": 4,
 "nbformat_minor": 4
}
