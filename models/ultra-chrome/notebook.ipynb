{
 "cells": [
  {
   "cell_type": "markdown",
   "metadata": {},
   "source": [
    "## Imports"
   ]
  },
  {
   "cell_type": "code",
   "execution_count": 11,
   "metadata": {},
   "outputs": [],
   "source": [
    "import tensorflow as tf\n",
    "from tensorflow.keras import layers, models\n",
    "import matplotlib.pyplot as plt\n",
    "\n",
    "import pandas as pd\n",
    "import numpy as np\n",
    "import os\n",
    "from progress.bar import Bar"
   ]
  },
  {
   "cell_type": "markdown",
   "metadata": {},
   "source": [
    "## Load the data"
   ]
  },
  {
   "cell_type": "code",
   "execution_count": 26,
   "metadata": {},
   "outputs": [],
   "source": [
    "data_path = \"../../dataset/data/\"\n",
    "HM_names = [\"H3K27me3\", \"H3K26me3\", \"H3K4me1\", \"H3K4me3\", \"H3K9me3\"]\n",
    "columns_names = [\"geneID\", \"binID\", \"HM1\", \"HM2\", \"HM3\", \"HM4\", \"HM5\", \"label\"]"
   ]
  },
  {
   "cell_type": "code",
   "execution_count": 27,
   "metadata": {},
   "outputs": [],
   "source": [
    "def load_datasets(folder_name):    \n",
    "    # ? test.csv\n",
    "    test_df = pd.read_csv(f\"{data_path}{folder_name}/classification/test.csv\", header=None, names=columns_names,)\n",
    "    # ? train.csv\n",
    "    train_df = pd.read_csv(f\"{data_path}{folder_name}/classification/train.csv\", header=None, names=columns_names,)\n",
    "    # ? valid.csv\n",
    "    valid_df = pd.read_csv(f\"{data_path}{folder_name}/classification/valid.csv\", header=None, names=columns_names,)\n",
    "    return (train_df, valid_df, test_df)"
   ]
  },
  {
   "cell_type": "code",
   "execution_count": 28,
   "metadata": {},
   "outputs": [],
   "source": [
    "def create_dataset(df, maxElements):\n",
    "    data = []\n",
    "    labels = []\n",
    "    genes_inserted = {}\n",
    "\n",
    "    range_ = range(int(len(df) / 100))\n",
    "    if maxElements:\n",
    "        range_ = range_[:maxElements]\n",
    "    #bar = Bar(\"\\t- creating datasets\", max=len(range_))\n",
    "    for i in range_:  # todo: remove this limit to consider the full dataset\n",
    "        geneID = df.iloc[i * 100][\"geneID\"]\n",
    "        if genes_inserted.get(geneID) is None:\n",
    "            genes_inserted[geneID] = True\n",
    "\n",
    "            df_gene = df.loc[df[\"geneID\"] == geneID]\n",
    "\n",
    "            labels.append(df_gene.iloc[0][\"label\"])  # ? saving the label once and for all the gene\n",
    "            # ? extract the whole list of values for the different HMs as a matrix\n",
    "            # ! I had to put [:100] to limit the errors on the input data (e.i. some genes where duplicates)\n",
    "            gene_data = [\n",
    "                list(df_gene[\"HM1\"])[:100],\n",
    "                list(df_gene[\"HM2\"])[:100],\n",
    "                list(df_gene[\"HM3\"])[:100],\n",
    "                list(df_gene[\"HM4\"])[:100],\n",
    "                list(df_gene[\"HM5\"])[:100],\n",
    "            ]\n",
    "            data.append(gene_data)\n",
    "        #bar.next()\n",
    "    #bar.finish()\n",
    "    return (data, labels)\n"
   ]
  },
  {
   "cell_type": "code",
   "execution_count": 29,
   "metadata": {},
   "outputs": [],
   "source": [
    "def to_numpy(data, labels):\n",
    "    #bar = Bar(\"\\t- converting to numpy format\", max=len(data))\n",
    "    numpy_data = np.array([])\n",
    "    for gene in data:\n",
    "        numpy_gene = np.array([])\n",
    "        for bins in gene:\n",
    "            numpy_gene = np.append(numpy_gene, np.array(bins))\n",
    "        numpy_data = np.append(numpy_data, numpy_gene)\n",
    "        #bar.next()\n",
    "    #bar.finish()\n",
    "    numpy_data = numpy_data.reshape(len(data), 5, 100, 1)\n",
    "    numpy_labels = np.array(labels)\n",
    "    return numpy_data, numpy_labels"
   ]
  },
  {
   "cell_type": "code",
   "execution_count": 30,
   "metadata": {},
   "outputs": [],
   "source": [
    "def normalize(data):    \n",
    "    return data"
   ]
  },
  {
   "cell_type": "code",
   "execution_count": 31,
   "metadata": {},
   "outputs": [],
   "source": [
    "def load(maxFolders=None, maxElements=None):\n",
    "\n",
    "    full_train_data = np.array([])\n",
    "    full_valid_data = np.array([])\n",
    "    full_test_data = np.array([])\n",
    "    full_train_labels = np.array([])\n",
    "    full_valid_labels = np.array([])\n",
    "    full_test_labels = np.array([])\n",
    "\n",
    "    dirs = os.listdir(data_path)\n",
    "    if maxFolders:\n",
    "        dirs = dirs[:maxFolders]\n",
    "    #bar = Bar(\"loading\", max=len(dirs))\n",
    "    for folder in dirs:\n",
    "        (train_data, train_labels), (valid_data, valid_labels), (test_data, test_labels) = load_folder(\n",
    "            folder, maxElements\n",
    "        )\n",
    "\n",
    "        # train\n",
    "        full_train_data = np.append(full_train_data, train_data)\n",
    "        full_train_labels = np.append(full_train_labels, train_labels)\n",
    "        # valid\n",
    "        full_valid_data = np.append(full_valid_data, valid_data)\n",
    "        full_valid_labels = np.append(full_valid_labels, valid_labels)\n",
    "        # test\n",
    "        full_test_data = np.append(full_test_data, test_data)\n",
    "        full_test_labels = np.append(full_test_labels, test_labels)\n",
    "\n",
    "        #bar.next()\n",
    "    #bar.finish()\n",
    "\n",
    "    # ? reshaping\n",
    "    full_train_data = full_train_data.reshape(len(full_train_labels), 5, 100, 1)\n",
    "    full_valid_data = full_valid_data.reshape(len(full_valid_labels), 5, 100, 1)\n",
    "    full_test_data = full_test_data.reshape(len(full_test_labels), 5, 100, 1)\n",
    "\n",
    "    return (\n",
    "        (full_train_data, full_train_labels),\n",
    "        (full_valid_data, full_valid_labels),\n",
    "        (full_test_data, full_test_labels),\n",
    "    )"
   ]
  },
  {
   "cell_type": "code",
   "execution_count": 32,
   "metadata": {},
   "outputs": [],
   "source": [
    "def load_folder(folder_name, maxElements=None):\n",
    "    print(folder_name)\n",
    "    # loading the datasets\n",
    "    print(\"\\tloading\")\n",
    "    train_df, valid_df, test_df = load_datasets(folder_name)\n",
    "\n",
    "    # create the datasets with the correct format\n",
    "    print(\"\\tcreating datasets\")\n",
    "    train_data, train_labels = create_dataset(train_df, maxElements)\n",
    "    valid_data, valid_labels = create_dataset(valid_df, maxElements)\n",
    "    test_data, test_labels = create_dataset(test_df, maxElements)\n",
    "\n",
    "    # normalize data\n",
    "    print(\"\\tnormalizing\")\n",
    "    train_data = normalize(train_data)\n",
    "    valid_data = normalize(valid_data)\n",
    "    test_data = normalize(test_data)\n",
    "\n",
    "    # numpy arrays\n",
    "    print(\"\\tto numpy\")\n",
    "    train_data, train_labels = to_numpy(train_data, train_labels)\n",
    "    valid_data, valid_labels = to_numpy(valid_data, valid_labels)\n",
    "    test_data, test_labels = to_numpy(test_data, test_labels)\n",
    "\n",
    "    # return tris of tuples (data,labels)\n",
    "    return ((train_data, train_labels), (valid_data, valid_labels), (test_data, test_labels))\n"
   ]
  },
  {
   "cell_type": "markdown",
   "metadata": {},
   "source": [
    "## Create the model"
   ]
  },
  {
   "cell_type": "code",
   "execution_count": 38,
   "metadata": {},
   "outputs": [
    {
     "name": "stdout",
     "output_type": "stream",
     "text": [
      "E003\n",
      "\tloading\n",
      "\tcreating datasets\n",
      "\tnormalizing\n",
      "\tto numpy\n",
      "E004\n",
      "\tloading\n",
      "\tcreating datasets\n",
      "\tnormalizing\n",
      "\tto numpy\n",
      "E005\n",
      "\tloading\n",
      "\tcreating datasets\n",
      "\tnormalizing\n",
      "\tto numpy\n",
      "E006\n",
      "\tloading\n",
      "\tcreating datasets\n",
      "\tnormalizing\n",
      "\tto numpy\n",
      "E007\n",
      "\tloading\n",
      "\tcreating datasets\n",
      "\tnormalizing\n",
      "\tto numpy\n",
      "E011\n",
      "\tloading\n",
      "\tcreating datasets\n",
      "\tnormalizing\n",
      "\tto numpy\n",
      "E012\n",
      "\tloading\n",
      "\tcreating datasets\n",
      "\tnormalizing\n",
      "\tto numpy\n",
      "E013\n",
      "\tloading\n",
      "\tcreating datasets\n",
      "\tnormalizing\n",
      "\tto numpy\n",
      "E016\n",
      "\tloading\n",
      "\tcreating datasets\n",
      "\tnormalizing\n",
      "\tto numpy\n",
      "E024\n",
      "\tloading\n",
      "\tcreating datasets\n",
      "\tnormalizing\n",
      "\tto numpy\n"
     ]
    }
   ],
   "source": [
    "(train_data, train_labels), (valid_data, valid_labels), (test_data, test_labels) = load(10)"
   ]
  },
  {
   "cell_type": "markdown",
   "metadata": {},
   "source": [
    "### Model 1\n",
    "Basic model"
   ]
  },
  {
   "cell_type": "code",
   "execution_count": 47,
   "metadata": {},
   "outputs": [],
   "source": [
    "model = models.Sequential()\n",
    "\n",
    "model.add(layers.Conv2D(32, (2, 2), activation=\"relu\", input_shape=(5, 100, 1)))\n",
    "model.add(layers.Flatten())\n",
    "model.add(layers.Dense(64, activation=\"relu\"))\n",
    "model.add(layers.Dense(1))"
   ]
  },
  {
   "cell_type": "markdown",
   "metadata": {},
   "source": [
    "### Model 2\n",
    "More complex model with different layers"
   ]
  },
  {
   "cell_type": "code",
   "execution_count": 51,
   "metadata": {},
   "outputs": [],
   "source": [
    "model = models.Sequential()\n",
    "\n",
    "model.add(layers.ZeroPadding2D((2, 2), input_shape=(5, 100, 1)))\n",
    "\n",
    "model.add(layers.Conv2D(64, (3, 3), activation=\"relu\"))\n",
    "model.add(layers.MaxPooling2D((2, 2)))\n",
    "model.add(layers.Conv2D(128, (2, 2), activation=\"relu\"))\n",
    "model.add(layers.BatchNormalization())\n",
    "model.add(layers.MaxPooling2D((2, 2)))\n",
    "\n",
    "model.add(layers.Flatten())\n",
    "\n",
    "model.add(layers.Dense(512, activation=\"relu\"))\n",
    "model.add(layers.BatchNormalization())\n",
    "model.add(layers.Dense(128, activation=\"relu\"))\n",
    "model.add(layers.Dense(1, activation='sigmoid'))"
   ]
  },
  {
   "cell_type": "code",
   "execution_count": 52,
   "metadata": {},
   "outputs": [
    {
     "name": "stdout",
     "output_type": "stream",
     "text": [
      "Model: \"sequential_7\"\n",
      "_________________________________________________________________\n",
      "Layer (type)                 Output Shape              Param #   \n",
      "=================================================================\n",
      "zero_padding2d_5 (ZeroPaddin (None, 9, 104, 1)         0         \n",
      "_________________________________________________________________\n",
      "conv2d_11 (Conv2D)           (None, 7, 102, 64)        640       \n",
      "_________________________________________________________________\n",
      "max_pooling2d_10 (MaxPooling (None, 3, 51, 64)         0         \n",
      "_________________________________________________________________\n",
      "conv2d_12 (Conv2D)           (None, 2, 50, 128)        32896     \n",
      "_________________________________________________________________\n",
      "batch_normalization_8 (Batch (None, 2, 50, 128)        512       \n",
      "_________________________________________________________________\n",
      "max_pooling2d_11 (MaxPooling (None, 1, 25, 128)        0         \n",
      "_________________________________________________________________\n",
      "flatten_5 (Flatten)          (None, 3200)              0         \n",
      "_________________________________________________________________\n",
      "dense_13 (Dense)             (None, 512)               1638912   \n",
      "_________________________________________________________________\n",
      "batch_normalization_9 (Batch (None, 512)               2048      \n",
      "_________________________________________________________________\n",
      "dense_14 (Dense)             (None, 128)               65664     \n",
      "_________________________________________________________________\n",
      "dense_15 (Dense)             (None, 1)                 129       \n",
      "=================================================================\n",
      "Total params: 1,740,801\n",
      "Trainable params: 1,739,521\n",
      "Non-trainable params: 1,280\n",
      "_________________________________________________________________\n"
     ]
    }
   ],
   "source": [
    "model.summary()"
   ]
  },
  {
   "cell_type": "markdown",
   "metadata": {},
   "source": [
    "## Train & evaluate the model"
   ]
  },
  {
   "cell_type": "code",
   "execution_count": 53,
   "metadata": {},
   "outputs": [
    {
     "name": "stdout",
     "output_type": "stream",
     "text": [
      "Epoch 1/5\n",
      "2063/2063 [==============================] - 65s 31ms/step - loss: 0.6492 - accuracy: 0.6318 - val_loss: 0.5369 - val_accuracy: 0.6859\n",
      "Epoch 2/5\n",
      "2063/2063 [==============================] - 67s 32ms/step - loss: 0.5834 - accuracy: 0.6607 - val_loss: 0.5286 - val_accuracy: 0.7015\n",
      "Epoch 3/5\n",
      "2063/2063 [==============================] - 74s 36ms/step - loss: 0.5793 - accuracy: 0.6630 - val_loss: 0.5313 - val_accuracy: 0.7033\n",
      "Epoch 4/5\n",
      "2063/2063 [==============================] - 79s 38ms/step - loss: 0.5725 - accuracy: 0.6677 - val_loss: 0.5325 - val_accuracy: 0.7021\n",
      "Epoch 5/5\n",
      "2063/2063 [==============================] - 76s 37ms/step - loss: 0.5674 - accuracy: 0.6722 - val_loss: 0.5287 - val_accuracy: 0.7048\n"
     ]
    }
   ],
   "source": [
    "model.compile(optimizer=\"adam\", loss=tf.keras.losses.BinaryCrossentropy(from_logits=True), metrics=[\"accuracy\"])\n",
    "\n",
    "history = model.fit(train_data, train_labels, epochs=5, validation_data=(valid_data, valid_labels))"
   ]
  },
  {
   "cell_type": "code",
   "execution_count": 55,
   "metadata": {},
   "outputs": [
    {
     "data": {
      "image/png": "[encoded data removed]",
      "text/plain": [
       "<Figure size 432x288 with 1 Axes>"
      ]
     },
     "metadata": {
      "needs_background": "light"
     },
     "output_type": "display_data"
    },
    {
     "name": "stdout",
     "output_type": "stream",
     "text": [
      "2062/2062 - 11s - loss: 0.4222 - accuracy: 0.7874\n",
      "0.7873882055282593\n"
     ]
    }
   ],
   "source": [
    "plt.plot(history.history[\"accuracy\"], label=\"accuracy\")\n",
    "plt.plot(history.history[\"val_accuracy\"], label=\"val_accuracy\")\n",
    "plt.xlabel(\"Epoch\")\n",
    "plt.ylabel(\"Accuracy\")\n",
    "plt.ylim([0.5, 1])\n",
    "plt.legend(loc=\"lower right\")\n",
    "plt.show()\n",
    "\n",
    "test_loss, test_acc = model.evaluate(test_data, test_labels, verbose=2)\n",
    "\n",
    "print(test_acc)"
   ]
  },
  {
   "cell_type": "code",
   "execution_count": null,
   "metadata": {},
   "outputs": [],
   "source": []
  }
 ],
 "metadata": {
  "kernelspec": {
   "display_name": "Python 3",
   "language": "python",
   "name": "python3"
  },
  "language_info": {
   "codemirror_mode": {
    "name": "ipython",
    "version": 3
   },
   "file_extension": ".py",
   "mimetype": "text/x-python",
   "name": "python",
   "nbconvert_exporter": "python",
   "pygments_lexer": "ipython3",
   "version": "3.7.6"
  }
 },
 "nbformat": 4,
 "nbformat_minor": 4
}
