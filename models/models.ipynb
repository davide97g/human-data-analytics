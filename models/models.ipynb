{
 "cells": [
  {
   "cell_type": "markdown",
   "metadata": {},
   "source": [
    "## Imports"
   ]
  },
  {
   "cell_type": "code",
   "execution_count": 1,
   "metadata": {},
   "outputs": [],
   "source": [
    "import tensorflow as tf\n",
    "from tensorflow.keras import layers, models\n",
    "from sklearn import preprocessing\n",
    "import matplotlib.pyplot as plt\n",
    "\n",
    "import pandas as pd\n",
    "import numpy as np\n",
    "import os\n",
    "\n",
    "data_path = \"../dataset/data/\""
   ]
  },
  {
   "cell_type": "markdown",
   "metadata": {},
   "source": [
    "## Load the data"
   ]
  },
  {
   "cell_type": "code",
   "execution_count": 2,
   "metadata": {},
   "outputs": [],
   "source": [
    "def load():\n",
    "\n",
    "    full_train_data = np.array([])\n",
    "    full_valid_data = np.array([])\n",
    "    full_test_data = np.array([])\n",
    "    full_train_labels = np.array([])\n",
    "    full_valid_labels = np.array([])\n",
    "    full_test_labels = np.array([])\n",
    "\n",
    "    dirs = os.listdir(data_path)\n",
    "    for folder in dirs:\n",
    "        (train_data, train_labels), (valid_data, valid_labels), (test_data, test_labels) = load_clean_data(folder)\n",
    "        print(f\"{folder} loaded\")\n",
    "        \n",
    "        # train\n",
    "        full_train_data = np.append(full_train_data, train_data)\n",
    "        full_train_labels = np.append(full_train_labels, train_labels)\n",
    "        # valid\n",
    "        full_valid_data = np.append(full_valid_data, valid_data)\n",
    "        full_valid_labels = np.append(full_valid_labels, valid_labels)\n",
    "        # test\n",
    "        full_test_data = np.append(full_test_data, test_data)\n",
    "        full_test_labels = np.append(full_test_labels, test_labels)\n",
    "\n",
    "    # ? reshaping\n",
    "    full_train_data = full_train_data.reshape(len(full_train_labels), 5, 100, 1)\n",
    "    full_valid_data = full_valid_data.reshape(len(full_valid_labels), 5, 100, 1)\n",
    "    full_test_data = full_test_data.reshape(len(full_test_labels), 5, 100, 1)\n",
    "\n",
    "    return (\n",
    "        (full_train_data, full_train_labels),\n",
    "        (full_valid_data, full_valid_labels),\n",
    "        (full_test_data, full_test_labels),\n",
    "    )"
   ]
  },
  {
   "cell_type": "code",
   "execution_count": 3,
   "metadata": {},
   "outputs": [],
   "source": [
    "def load_clean_data(folder_name):\n",
    "    # data\n",
    "    train_data = np.load(f\"{data_path}{folder_name}/train_data.npy\")\n",
    "    valid_data = np.load(f\"{data_path}{folder_name}/valid_data.npy\")\n",
    "    test_data = np.load(f\"{data_path}{folder_name}/test_data.npy\")\n",
    "    # labels\n",
    "    train_labels = np.load(f\"{data_path}{folder_name}/train_labels.npy\")\n",
    "    valid_labels = np.load(f\"{data_path}{folder_name}/valid_labels.npy\")\n",
    "    test_labels = np.load(f\"{data_path}{folder_name}/test_labels.npy\")\n",
    "    # return complete tuples\n",
    "    return ((train_data, train_labels), (valid_data, valid_labels), (test_data, test_labels))"
   ]
  },
  {
   "cell_type": "markdown",
   "metadata": {},
   "source": [
    "## Create the model"
   ]
  },
  {
   "cell_type": "markdown",
   "metadata": {},
   "source": [
    "### Load the data"
   ]
  },
  {
   "cell_type": "code",
   "execution_count": 4,
   "metadata": {},
   "outputs": [
    {
     "name": "stdout",
     "output_type": "stream",
     "text": [
      "E003 loaded\n",
      "E004 loaded\n",
      "E005 loaded\n",
      "E006 loaded\n",
      "E007 loaded\n",
      "E011 loaded\n",
      "E012 loaded\n",
      "E013 loaded\n",
      "E016 loaded\n",
      "E024 loaded\n",
      "E027 loaded\n",
      "E028 loaded\n",
      "E037 loaded\n",
      "E038 loaded\n",
      "E047 loaded\n",
      "E050 loaded\n",
      "E053 loaded\n",
      "E054 loaded\n",
      "E055 loaded\n",
      "E056 loaded\n",
      "E057 loaded\n",
      "E058 loaded\n",
      "E059 loaded\n",
      "E061 loaded\n",
      "E062 loaded\n",
      "E065 loaded\n",
      "E066 loaded\n",
      "E070 loaded\n",
      "E071 loaded\n",
      "E079 loaded\n",
      "E082 loaded\n",
      "E084 loaded\n",
      "E085 loaded\n",
      "E087 loaded\n",
      "E094 loaded\n",
      "E095 loaded\n",
      "E096 loaded\n",
      "E097 loaded\n",
      "E098 loaded\n",
      "E100 loaded\n",
      "E104 loaded\n",
      "E105 loaded\n",
      "E106 loaded\n",
      "E109 loaded\n",
      "E112 loaded\n",
      "E113 loaded\n",
      "E114 loaded\n",
      "E116 loaded\n",
      "E117 loaded\n",
      "E118 loaded\n",
      "E119 loaded\n",
      "E120 loaded\n",
      "E122 loaded\n",
      "E123 loaded\n",
      "E127 loaded\n",
      "E128 loaded\n"
     ]
    }
   ],
   "source": [
    "(train_data, train_labels), (valid_data, valid_labels), (test_data, test_labels) = load()"
   ]
  },
  {
   "cell_type": "code",
   "execution_count": 5,
   "metadata": {},
   "outputs": [
    {
     "name": "stdout",
     "output_type": "stream",
     "text": [
      "- 369544 training genes\n",
      "- 369544 validation genes\n",
      "- 369432 test genes\n"
     ]
    }
   ],
   "source": [
    "# visualize some stats about the data\n",
    "print(f\"- {len(train_data)} training genes\")\n",
    "print(f\"- {len(valid_data)} validation genes\")\n",
    "print(f\"- {len(test_data)} test genes\")"
   ]
  },
  {
   "cell_type": "markdown",
   "metadata": {},
   "source": [
    "## Normalization & Standardization"
   ]
  },
  {
   "cell_type": "code",
   "execution_count": 10,
   "metadata": {},
   "outputs": [],
   "source": [
    "mean = np.mean(train_data)\n",
    "train_data-=mean\n",
    "valid_data-=mean\n",
    "test_data-=mean"
   ]
  },
  {
   "cell_type": "code",
   "execution_count": 11,
   "metadata": {},
   "outputs": [],
   "source": [
    "std = np.std(train_data)\n",
    "train_data/=std\n",
    "valid_data/=std\n",
    "test_data/=std"
   ]
  },
  {
   "cell_type": "code",
   "execution_count": 12,
   "metadata": {},
   "outputs": [
    {
     "name": "stdout",
     "output_type": "stream",
     "text": [
      "mean:-1.1735407071433278e-16\tstd:0.9999999999999966\n"
     ]
    }
   ],
   "source": [
    "print(f\"mean:{np.mean(train_data)}\\tstd:{np.std(train_data)}\")"
   ]
  },
  {
   "cell_type": "markdown",
   "metadata": {},
   "source": [
    "## Utility functions"
   ]
  },
  {
   "cell_type": "code",
   "execution_count": 6,
   "metadata": {},
   "outputs": [],
   "source": [
    "def plot_metrics(history):\n",
    "    # accuracy\n",
    "    plt.plot(history.history[\"accuracy\"], label=\"accuracy\")\n",
    "    plt.plot(history.history[\"val_accuracy\"], label=\"val_accuracy\")\n",
    "    plt.xlabel(\"Epoch\")\n",
    "    plt.ylabel(\"Accuracy\")\n",
    "    plt.ylim([0.5, 1])\n",
    "    plt.legend(loc=\"lower right\")\n",
    "    plt.show()\n",
    "    # AUC\n",
    "    plt.plot(history.history[\"auc\"], label=\"auc\")\n",
    "    plt.plot(history.history[\"val_auc\"], label=\"val_auc\")\n",
    "    plt.xlabel(\"Epoch\")\n",
    "    plt.ylabel(\"AUC\")\n",
    "    plt.ylim([0.5, 1])\n",
    "    plt.legend(loc=\"lower right\")\n",
    "    plt.show()\n",
    "    # loss\n",
    "    plt.plot(history.history[\"loss\"], label=\"loss\")\n",
    "    plt.plot(history.history[\"val_loss\"], label=\"val_loss\")\n",
    "    plt.xlabel(\"Epoch\")\n",
    "    plt.ylabel(\"Loss\")\n",
    "    plt.ylim([0,1])\n",
    "    plt.legend(loc=\"lower right\")\n",
    "    plt.show()"
   ]
  },
  {
   "cell_type": "markdown",
   "metadata": {},
   "source": [
    "## Modeling\n",
    "Here we build several incremental models."
   ]
  },
  {
   "cell_type": "markdown",
   "metadata": {},
   "source": [
    "### Model 1\n",
    "Basic model"
   ]
  },
  {
   "cell_type": "code",
   "execution_count": 7,
   "metadata": {},
   "outputs": [],
   "source": [
    "train_data = train_data.reshape(len(train_data),5,100,1)\n",
    "valid_data = valid_data.reshape(len(valid_data),5,100,1)\n",
    "test_data = test_data.reshape(len(test_data),5,100,1)"
   ]
  },
  {
   "cell_type": "code",
   "execution_count": 8,
   "metadata": {},
   "outputs": [],
   "source": [
    "model = models.Sequential()\n",
    "model.add(layers.Flatten(input_shape=(5, 100, 1)))\n",
    "model.add(layers.Dense(1, activation=\"sigmoid\"))"
   ]
  },
  {
   "cell_type": "markdown",
   "metadata": {},
   "source": [
    "### Model - DeepChrome\n",
    "#### loss: 0.4808 - auc: 0.7788 - accuracy: 0.7658"
   ]
  },
  {
   "cell_type": "code",
   "execution_count": 75,
   "metadata": {},
   "outputs": [],
   "source": [
    "train_data = train_data.reshape(len(train_data),5,100)\n",
    "valid_data = valid_data.reshape(len(valid_data),5,100)\n",
    "test_data = test_data.reshape(len(test_data),5,100)"
   ]
  },
  {
   "cell_type": "code",
   "execution_count": 76,
   "metadata": {},
   "outputs": [],
   "source": [
    "model = models.Sequential()\n",
    "# stage 1\n",
    "model.add(layers.Conv1D(10, 5, activation=\"relu\", input_shape=(5,100), padding=\"same\"))\n",
    "model.add(layers.BatchNormalization())\n",
    "model.add(layers.ReLU())\n",
    "model.add(layers.MaxPooling1D(pool_size=5))\n",
    "# stage 2\n",
    "model.add(layers.Flatten())\n",
    "model.add(layers.Dropout(0.5))\n",
    "model.add(layers.Dense(625, activation='linear'))\n",
    "model.add(layers.ReLU())\n",
    "model.add(layers.Dense(125, activation='linear'))\n",
    "# stage 3\n",
    "model.add(layers.Dense(125, activation='relu'))\n",
    "model.add(layers.Dense(1, activation='sigmoid'))"
   ]
  },
  {
   "cell_type": "markdown",
   "metadata": {},
   "source": [
    "### Model - UltraChrome"
   ]
  },
  {
   "cell_type": "code",
   "execution_count": 84,
   "metadata": {},
   "outputs": [],
   "source": [
    "train_data = train_data.reshape(len(train_data),5,100)\n",
    "valid_data = valid_data.reshape(len(valid_data),5,100)\n",
    "test_data = test_data.reshape(len(test_data),5,100)"
   ]
  },
  {
   "cell_type": "code",
   "execution_count": 95,
   "metadata": {},
   "outputs": [],
   "source": [
    "model = models.Sequential()\n",
    "# stage 1 => CNN\n",
    "model.add(layers.Conv1D(50, 5, activation=\"relu\", input_shape=(5,100), padding=\"same\"))\n",
    "model.add(layers.BatchNormalization())\n",
    "model.add(layers.ReLU())\n",
    "model.add(layers.MaxPooling1D(pool_size=5))\n",
    "# stage 2 => FNN\n",
    "model.add(layers.Flatten())\n",
    "model.add(layers.Dropout(0.5))\n",
    "model.add(layers.Dense(512, activation='relu'))\n",
    "model.add(layers.BatchNormalization())\n",
    "model.add(layers.Dense(256, activation='relu'))\n",
    "model.add(layers.BatchNormalization())\n",
    "model.add(layers.Dense(128, activation='relu'))\n",
    "# final stage\n",
    "model.add(layers.Dense(1, activation='sigmoid'))"
   ]
  },
  {
   "cell_type": "markdown",
   "metadata": {},
   "source": [
    "### Model - CNN Chrome\n",
    "#### loss: 0.4317 - auc: 0.8168 - accuracy: 0.7831"
   ]
  },
  {
   "cell_type": "code",
   "execution_count": 69,
   "metadata": {},
   "outputs": [],
   "source": [
    "train_data = train_data.reshape(len(train_data),5,100,1)\n",
    "valid_data = valid_data.reshape(len(valid_data),5,100,1)\n",
    "test_data = test_data.reshape(len(test_data),5,100,1)"
   ]
  },
  {
   "cell_type": "code",
   "execution_count": 94,
   "metadata": {},
   "outputs": [],
   "source": [
    "model = models.Sequential()\n",
    "# stage 1 => CONV 2D\n",
    "model.add(layers.Conv2D(25, 5, activation=\"relu\", input_shape=(5,100,1), padding=\"same\"))\n",
    "model.add(layers.MaxPooling2D(pool_size=5))\n",
    "# stage 2 => FNN\n",
    "model.add(layers.Flatten())\n",
    "model.add(layers.Dropout(0.5))\n",
    "model.add(layers.Dense(128, activation='relu'))\n",
    "model.add(layers.BatchNormalization())\n",
    "model.add(layers.Dense(256, activation='relu'))\n",
    "model.add(layers.BatchNormalization())\n",
    "model.add(layers.Dense(64, activation='relu'))\n",
    "# final stage\n",
    "model.add(layers.Dense(1, activation='sigmoid'))"
   ]
  },
  {
   "cell_type": "markdown",
   "metadata": {},
   "source": [
    "### Model - Deep CNN Chrome\n",
    "#### loss: 0.4313 - auc: 0.8168 - accuracy: 0.7773"
   ]
  },
  {
   "cell_type": "code",
   "execution_count": 17,
   "metadata": {},
   "outputs": [],
   "source": [
    "train_data = train_data.reshape(len(train_data),5,100,1)\n",
    "valid_data = valid_data.reshape(len(valid_data),5,100,1)\n",
    "test_data = test_data.reshape(len(test_data),5,100,1)"
   ]
  },
  {
   "cell_type": "code",
   "execution_count": 29,
   "metadata": {},
   "outputs": [],
   "source": [
    "model = models.Sequential()\n",
    "# stage 1 => CONV 2D\n",
    "model.add(layers.Conv2D(50, 5, activation=\"relu\", input_shape=(5,100,1), padding=\"same\"))\n",
    "model.add(layers.MaxPooling2D(pool_size=2))\n",
    "# stage 2 => FNN\n",
    "model.add(layers.Flatten())\n",
    "# model.add(layers.Dropout(0.3))\n",
    "model.add(layers.Dense(64, activation='relu'))\n",
    "model.add(layers.BatchNormalization())\n",
    "model.add(layers.Dense(512, activation='relu'))\n",
    "model.add(layers.BatchNormalization())\n",
    "model.add(layers.Dense(64, activation='relu'))\n",
    "# final stage\n",
    "model.add(layers.Dense(1, activation='sigmoid'))"
   ]
  },
  {
   "cell_type": "markdown",
   "metadata": {},
   "source": [
    "## Training"
   ]
  },
  {
   "cell_type": "markdown",
   "metadata": {},
   "source": [
    "### Visualize the model"
   ]
  },
  {
   "cell_type": "code",
   "execution_count": 30,
   "metadata": {},
   "outputs": [
    {
     "name": "stdout",
     "output_type": "stream",
     "text": [
      "Model: \"sequential_4\"\n",
      "_________________________________________________________________\n",
      "Layer (type)                 Output Shape              Param #   \n",
      "=================================================================\n",
      "conv2d_3 (Conv2D)            (None, 5, 100, 50)        1300      \n",
      "_________________________________________________________________\n",
      "max_pooling2d_3 (MaxPooling2 (None, 2, 50, 50)         0         \n",
      "_________________________________________________________________\n",
      "flatten_4 (Flatten)          (None, 5000)              0         \n",
      "_________________________________________________________________\n",
      "dropout_3 (Dropout)          (None, 5000)              0         \n",
      "_________________________________________________________________\n",
      "dense_19 (Dense)             (None, 64)                320064    \n",
      "_________________________________________________________________\n",
      "batch_normalization_12 (Batc (None, 64)                256       \n",
      "_________________________________________________________________\n",
      "dense_20 (Dense)             (None, 512)               33280     \n",
      "_________________________________________________________________\n",
      "batch_normalization_13 (Batc (None, 512)               2048      \n",
      "_________________________________________________________________\n",
      "dense_21 (Dense)             (None, 64)                32832     \n",
      "_________________________________________________________________\n",
      "dense_22 (Dense)             (None, 1)                 65        \n",
      "=================================================================\n",
      "Total params: 389,845\n",
      "Trainable params: 388,693\n",
      "Non-trainable params: 1,152\n",
      "_________________________________________________________________\n"
     ]
    }
   ],
   "source": [
    "model.summary()"
   ]
  },
  {
   "cell_type": "code",
   "execution_count": 31,
   "metadata": {},
   "outputs": [
    {
     "name": "stdout",
     "output_type": "stream",
     "text": [
      "Epoch 1/10\n",
      "11549/11549 [==============================] - 168s 14ms/step - loss: 0.5985 - auc: 0.7195 - accuracy: 0.6611 - val_loss: 0.5358 - val_auc: 0.7794 - val_accuracy: 0.7131\n",
      "Epoch 2/10\n",
      "11549/11549 [==============================] - 149s 13ms/step - loss: 0.5688 - auc: 0.7510 - accuracy: 0.6836 - val_loss: 0.5184 - val_auc: 0.7844 - val_accuracy: 0.7205\n",
      "Epoch 3/10\n",
      "11549/11549 [==============================] - 172s 15ms/step - loss: 0.5633 - auc: 0.7577 - accuracy: 0.6881 - val_loss: 0.5190 - val_auc: 0.7863 - val_accuracy: 0.7216\n",
      "Epoch 4/10\n",
      "11549/11549 [==============================] - 171s 15ms/step - loss: 0.5576 - auc: 0.7636 - accuracy: 0.6910 - val_loss: 0.5195 - val_auc: 0.7840 - val_accuracy: 0.7178\n",
      "Epoch 5/10\n",
      "11549/11549 [==============================] - 180s 16ms/step - loss: 0.5550 - auc: 0.7662 - accuracy: 0.6934 - val_loss: 0.5246 - val_auc: 0.7827 - val_accuracy: 0.7164\n",
      "Epoch 6/10\n",
      "11549/11549 [==============================] - 165s 14ms/step - loss: 0.5510 - auc: 0.7712 - accuracy: 0.6978 - val_loss: 0.5247 - val_auc: 0.7836 - val_accuracy: 0.7139\n",
      "Epoch 7/10\n",
      "11549/11549 [==============================] - 172s 15ms/step - loss: 0.5496 - auc: 0.7728 - accuracy: 0.6981 - val_loss: 0.5214 - val_auc: 0.7836 - val_accuracy: 0.7179\n",
      "Epoch 8/10\n",
      "11549/11549 [==============================] - 175s 15ms/step - loss: 0.5471 - auc: 0.7753 - accuracy: 0.6996 - val_loss: 0.5213 - val_auc: 0.7840 - val_accuracy: 0.7177\n",
      "Epoch 9/10\n",
      "11549/11549 [==============================] - 173s 15ms/step - loss: 0.5431 - auc: 0.7793 - accuracy: 0.7043 - val_loss: 0.5204 - val_auc: 0.7843 - val_accuracy: 0.7212\n",
      "Epoch 10/10\n",
      "11549/11549 [==============================] - 236s 20ms/step - loss: 0.5423 - auc: 0.7798 - accuracy: 0.7035 - val_loss: 0.5208 - val_auc: 0.7840 - val_accuracy: 0.7209uc: 0 -\n"
     ]
    }
   ],
   "source": [
    "model.compile(optimizer=\"adam\", loss=tf.keras.losses.BinaryCrossentropy(from_logits=True), metrics=[\"AUC\",\"accuracy\"])\n",
    "\n",
    "history = model.fit(train_data, train_labels, epochs=10, validation_data=(valid_data, valid_labels))"
   ]
  },
  {
   "cell_type": "code",
   "execution_count": 32,
   "metadata": {},
   "outputs": [
    {
     "data": {
      "image/png": "[encoded data removed]",
      "text/plain": [
       "<Figure size 432x288 with 1 Axes>"
      ]
     },
     "metadata": {
      "needs_background": "light"
     },
     "output_type": "display_data"
    },
    {
     "data": {
      "image/png": "[encoded data removed]",
      "text/plain": [
       "<Figure size 432x288 with 1 Axes>"
      ]
     },
     "metadata": {
      "needs_background": "light"
     },
     "output_type": "display_data"
    },
    {
     "data": {
      "image/png": "[encoded data removed]",
      "text/plain": [
       "<Figure size 432x288 with 1 Axes>"
      ]
     },
     "metadata": {
      "needs_background": "light"
     },
     "output_type": "display_data"
    }
   ],
   "source": [
    "plot_metrics(history)"
   ]
  },
  {
   "cell_type": "markdown",
   "metadata": {},
   "source": [
    "## Testing\n",
    "> **Only once we have chosen the hyper-parameters! Avoid tuning on test set.**"
   ]
  },
  {
   "cell_type": "markdown",
   "metadata": {},
   "source": [
    "### Metrics"
   ]
  },
  {
   "cell_type": "code",
   "execution_count": 33,
   "metadata": {},
   "outputs": [
    {
     "name": "stdout",
     "output_type": "stream",
     "text": [
      "11545/11545 - 64s - loss: 0.4340 - auc: 0.8118 - accuracy: 0.7811\n"
     ]
    }
   ],
   "source": [
    "test_loss, test_auc, test_acc = model.evaluate(test_data, test_labels, verbose=2)"
   ]
  }
 ],
 "metadata": {
  "kernelspec": {
   "display_name": "Python 3",
   "language": "python",
   "name": "python3"
  },
  "language_info": {
   "codemirror_mode": {
    "name": "ipython",
    "version": 3
   },
   "file_extension": ".py",
   "mimetype": "text/x-python",
   "name": "python",
   "nbconvert_exporter": "python",
   "pygments_lexer": "ipython3",
   "version": "3.8.5"
  }
 },
 "nbformat": 4,
 "nbformat_minor": 4
}
