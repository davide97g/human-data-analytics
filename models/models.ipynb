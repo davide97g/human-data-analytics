{
 "cells": [
  {
   "cell_type": "markdown",
   "metadata": {},
   "source": [
    "## Imports"
   ]
  },
  {
   "cell_type": "code",
   "execution_count": 1,
   "metadata": {},
   "outputs": [],
   "source": [
    "import tensorflow as tf\n",
    "from tensorflow.keras import layers, models\n",
    "from sklearn import preprocessing\n",
    "import matplotlib.pyplot as plt\n",
    "\n",
    "import pandas as pd\n",
    "import numpy as np\n",
    "import os\n",
    "\n",
    "data_path = \"../dataset/data/\""
   ]
  },
  {
   "cell_type": "markdown",
   "metadata": {},
   "source": [
    "## Load the data"
   ]
  },
  {
   "cell_type": "code",
   "execution_count": 2,
   "metadata": {},
   "outputs": [],
   "source": [
    "def load():\n",
    "\n",
    "    full_train_data = np.array([])\n",
    "    full_valid_data = np.array([])\n",
    "    full_test_data = np.array([])\n",
    "    full_train_labels = np.array([])\n",
    "    full_valid_labels = np.array([])\n",
    "    full_test_labels = np.array([])\n",
    "\n",
    "    dirs = os.listdir(data_path)\n",
    "    for folder in dirs:\n",
    "        (train_data, train_labels), (valid_data, valid_labels), (test_data, test_labels) = load_clean_data(folder)\n",
    "        print(f\"{folder} loaded\")\n",
    "        \n",
    "        # train\n",
    "        full_train_data = np.append(full_train_data, train_data)\n",
    "        full_train_labels = np.append(full_train_labels, train_labels)\n",
    "        # valid\n",
    "        full_valid_data = np.append(full_valid_data, valid_data)\n",
    "        full_valid_labels = np.append(full_valid_labels, valid_labels)\n",
    "        # test\n",
    "        full_test_data = np.append(full_test_data, test_data)\n",
    "        full_test_labels = np.append(full_test_labels, test_labels)\n",
    "\n",
    "    # ? reshaping\n",
    "    full_train_data = full_train_data.reshape(len(full_train_labels), 5, 100, 1)\n",
    "    full_valid_data = full_valid_data.reshape(len(full_valid_labels), 5, 100, 1)\n",
    "    full_test_data = full_test_data.reshape(len(full_test_labels), 5, 100, 1)\n",
    "\n",
    "    return (\n",
    "        (full_train_data, full_train_labels),\n",
    "        (full_valid_data, full_valid_labels),\n",
    "        (full_test_data, full_test_labels)\n",
    "    )"
   ]
  },
  {
   "cell_type": "code",
   "execution_count": 3,
   "metadata": {},
   "outputs": [],
   "source": [
    "def load_clean_data(folder_name):\n",
    "    # data\n",
    "    train_data = np.load(f\"{data_path}{folder_name}/train_data.npy\")\n",
    "    valid_data = np.load(f\"{data_path}{folder_name}/valid_data.npy\")\n",
    "    test_data = np.load(f\"{data_path}{folder_name}/test_data.npy\")\n",
    "    # labels\n",
    "    train_labels = np.load(f\"{data_path}{folder_name}/train_labels.npy\")\n",
    "    valid_labels = np.load(f\"{data_path}{folder_name}/valid_labels.npy\")\n",
    "    test_labels = np.load(f\"{data_path}{folder_name}/test_labels.npy\")\n",
    "    # return complete tuples\n",
    "    return ((train_data, train_labels), (valid_data, valid_labels), (test_data, test_labels))"
   ]
  },
  {
   "cell_type": "markdown",
   "metadata": {},
   "source": [
    "## Create the model"
   ]
  },
  {
   "cell_type": "markdown",
   "metadata": {},
   "source": [
    "### Load the data"
   ]
  },
  {
   "cell_type": "code",
   "execution_count": 4,
   "metadata": {},
   "outputs": [
    {
     "name": "stdout",
     "output_type": "stream",
     "text": [
      "E003 loaded\n",
      "E004 loaded\n",
      "E005 loaded\n",
      "E006 loaded\n",
      "E007 loaded\n",
      "E011 loaded\n",
      "E012 loaded\n",
      "E013 loaded\n",
      "E016 loaded\n",
      "E024 loaded\n",
      "E027 loaded\n",
      "E028 loaded\n",
      "E037 loaded\n",
      "E038 loaded\n",
      "E047 loaded\n",
      "E050 loaded\n",
      "E053 loaded\n",
      "E054 loaded\n",
      "E055 loaded\n",
      "E056 loaded\n",
      "E057 loaded\n",
      "E058 loaded\n",
      "E059 loaded\n",
      "E061 loaded\n",
      "E062 loaded\n",
      "E065 loaded\n",
      "E066 loaded\n",
      "E070 loaded\n",
      "E071 loaded\n",
      "E079 loaded\n",
      "E082 loaded\n",
      "E084 loaded\n",
      "E085 loaded\n",
      "E087 loaded\n",
      "E094 loaded\n",
      "E095 loaded\n",
      "E096 loaded\n",
      "E097 loaded\n",
      "E098 loaded\n",
      "E100 loaded\n",
      "E104 loaded\n",
      "E105 loaded\n",
      "E106 loaded\n",
      "E109 loaded\n",
      "E112 loaded\n",
      "E113 loaded\n",
      "E114 loaded\n",
      "E116 loaded\n",
      "E117 loaded\n",
      "E118 loaded\n",
      "E119 loaded\n",
      "E120 loaded\n",
      "E122 loaded\n",
      "E123 loaded\n",
      "E127 loaded\n",
      "E128 loaded\n"
     ]
    }
   ],
   "source": [
    "(train_data, train_labels), (valid_data, valid_labels), (test_data, test_labels) = load()"
   ]
  },
  {
   "cell_type": "code",
   "execution_count": 5,
   "metadata": {},
   "outputs": [
    {
     "name": "stdout",
     "output_type": "stream",
     "text": [
      "- 369544 training genes\n",
      "- 369544 validation genes\n",
      "- 369432 test genes\n"
     ]
    }
   ],
   "source": [
    "# visualize some stats about the data\n",
    "print(f\"- {len(train_data)} training genes\")\n",
    "print(f\"- {len(valid_data)} validation genes\")\n",
    "print(f\"- {len(test_data)} test genes\")"
   ]
  },
  {
   "cell_type": "markdown",
   "metadata": {},
   "source": [
    "## Normalization & Standardization"
   ]
  },
  {
   "cell_type": "code",
   "execution_count": 6,
   "metadata": {},
   "outputs": [],
   "source": [
    "mean = np.mean(train_data)\n",
    "train_data-=mean\n",
    "valid_data-=mean\n",
    "test_data-=mean"
   ]
  },
  {
   "cell_type": "code",
   "execution_count": 7,
   "metadata": {},
   "outputs": [],
   "source": [
    "std = np.std(train_data)\n",
    "train_data/=std\n",
    "valid_data/=std\n",
    "test_data/=std"
   ]
  },
  {
   "cell_type": "code",
   "execution_count": 8,
   "metadata": {},
   "outputs": [
    {
     "name": "stdout",
     "output_type": "stream",
     "text": [
      "mean:-1.1735407071433278e-16\tstd:0.9999999999999966\n"
     ]
    }
   ],
   "source": [
    "print(f\"mean:{np.mean(train_data)}\\tstd:{np.std(train_data)}\")"
   ]
  },
  {
   "cell_type": "markdown",
   "metadata": {},
   "source": [
    "## Utility functions"
   ]
  },
  {
   "cell_type": "code",
   "execution_count": 9,
   "metadata": {},
   "outputs": [],
   "source": [
    "def plot_metrics(history):\n",
    "    # accuracy\n",
    "    plt.plot(history.history[\"accuracy\"], label=\"accuracy\")\n",
    "    plt.plot(history.history[\"val_accuracy\"], label=\"val_accuracy\")\n",
    "    plt.xlabel(\"Epoch\")\n",
    "    plt.ylabel(\"Accuracy\")\n",
    "    plt.ylim([0.5, 1])\n",
    "    plt.legend(loc=\"lower right\")\n",
    "    plt.show()\n",
    "    # AUC\n",
    "    plt.plot(history.history[\"auc\"], label=\"auc\")\n",
    "    plt.plot(history.history[\"val_auc\"], label=\"val_auc\")\n",
    "    plt.xlabel(\"Epoch\")\n",
    "    plt.ylabel(\"AUC\")\n",
    "    plt.ylim([0.5, 1])\n",
    "    plt.legend(loc=\"lower right\")\n",
    "    plt.show()\n",
    "    # loss\n",
    "    plt.plot(history.history[\"loss\"], label=\"loss\")\n",
    "    plt.plot(history.history[\"val_loss\"], label=\"val_loss\")\n",
    "    plt.xlabel(\"Epoch\")\n",
    "    plt.ylabel(\"Loss\")\n",
    "    plt.ylim([0,1])\n",
    "    plt.legend(loc=\"lower right\")\n",
    "    plt.show()"
   ]
  },
  {
   "cell_type": "markdown",
   "metadata": {},
   "source": [
    "## Modeling\n",
    "Here we build several incremental models."
   ]
  },
  {
   "cell_type": "markdown",
   "metadata": {},
   "source": [
    "### Baseline model\n",
    "\n",
    "`loss: 0.4767 - auc: 0.7747 - accuracy: 0.7674`\n",
    "\n",
    "`Baseline | min: 0.6968313455581665 - max: 0.8662115335464478 - mean: 0.7726049348711967`\n",
    "\n",
    "#### Reverse datasets\n",
    "\n",
    "`loss: 0.4648 - auc: 0.7805 - accuracy: 0.7708`\n",
    "\n",
    "`Baseline | min: 0.6999223232269287 - max: 0.8744890689849854 - mean: 0.7795403323003224`"
   ]
  },
  {
   "cell_type": "code",
   "execution_count": 87,
   "metadata": {},
   "outputs": [],
   "source": [
    "train_data = train_data.reshape(len(train_data),5,100,1)\n",
    "valid_data = valid_data.reshape(len(valid_data),5,100,1)\n",
    "test_data = test_data.reshape(len(test_data),5,100,1)"
   ]
  },
  {
   "cell_type": "code",
   "execution_count": 88,
   "metadata": {},
   "outputs": [],
   "source": [
    "model = models.Sequential(name=\"Baseline\")\n",
    "model.add(layers.Flatten(input_shape=(5, 100, 1)))\n",
    "model.add(layers.Dense(1, activation=\"sigmoid\"))"
   ]
  },
  {
   "cell_type": "markdown",
   "metadata": {},
   "source": [
    "### Model - DeepChrome\n",
    "#### loss: 0.4808 - auc: 0.7788 - accuracy: 0.7658"
   ]
  },
  {
   "cell_type": "code",
   "execution_count": 10,
   "metadata": {},
   "outputs": [],
   "source": [
    "train_data = train_data.reshape(len(train_data),5,100)\n",
    "valid_data = valid_data.reshape(len(valid_data),5,100)\n",
    "test_data = test_data.reshape(len(test_data),5,100)"
   ]
  },
  {
   "cell_type": "code",
   "execution_count": 11,
   "metadata": {},
   "outputs": [],
   "source": [
    "model = models.Sequential(name=\"DeepChrome\")\n",
    "# stage 1\n",
    "model.add(layers.Conv1D(10, 5, activation=\"relu\", input_shape=(5,100), padding=\"same\"))\n",
    "model.add(layers.BatchNormalization())\n",
    "model.add(layers.ReLU())\n",
    "model.add(layers.MaxPooling1D(pool_size=5))\n",
    "# stage 2\n",
    "model.add(layers.Flatten())\n",
    "model.add(layers.Dropout(0.5))\n",
    "model.add(layers.Dense(625, activation='linear'))\n",
    "model.add(layers.ReLU())\n",
    "model.add(layers.Dense(125, activation='linear'))\n",
    "# stage 3\n",
    "model.add(layers.Dense(125, activation='relu'))\n",
    "model.add(layers.Dense(1, activation='sigmoid'))"
   ]
  },
  {
   "cell_type": "markdown",
   "metadata": {},
   "source": [
    "### Model - UltraChrome\n",
    "\n",
    "`loss: 0.4420 - auc: 0.7985 - accuracy: 0.7839`\n",
    "\n",
    "`UltraChrome | min: 0.705967128276825 - max: 0.88916015625 - mean: 0.792907432786056`\n",
    "\n",
    "#### Reverse datasets\n",
    "\n",
    "`loss: 0.4402 - auc: 0.7986 - accuracy: 0.7795`\n",
    "\n",
    "`UltraChrome | min: 0.703437089920044 - max: 0.8978993892669678 - mean: 0.7944730956639562`"
   ]
  },
  {
   "cell_type": "code",
   "execution_count": 95,
   "metadata": {},
   "outputs": [],
   "source": [
    "train_data = train_data.reshape(len(train_data),5,100)\n",
    "valid_data = valid_data.reshape(len(valid_data),5,100)\n",
    "test_data = test_data.reshape(len(test_data),5,100)"
   ]
  },
  {
   "cell_type": "code",
   "execution_count": 96,
   "metadata": {},
   "outputs": [],
   "source": [
    "model = models.Sequential(name=\"UltraChrome\")\n",
    "# stage 1 => CNN\n",
    "model.add(layers.Conv1D(50, 5, activation=\"relu\", input_shape=(5,100), padding=\"same\"))\n",
    "model.add(layers.BatchNormalization())\n",
    "model.add(layers.ReLU())\n",
    "model.add(layers.MaxPooling1D(pool_size=5))\n",
    "# stage 2 => FNN\n",
    "model.add(layers.Flatten())\n",
    "model.add(layers.Dropout(0.5))\n",
    "model.add(layers.Dense(512, activation='relu'))\n",
    "model.add(layers.BatchNormalization())\n",
    "model.add(layers.Dense(256, activation='relu'))\n",
    "model.add(layers.BatchNormalization())\n",
    "model.add(layers.Dense(128, activation='relu'))\n",
    "# final stage\n",
    "model.add(layers.Dense(1, activation='sigmoid'))"
   ]
  },
  {
   "cell_type": "markdown",
   "metadata": {},
   "source": [
    "### Model - CNN Chrome\n",
    "#### loss: 0.4317 - auc: 0.8168 - accuracy: 0.7831"
   ]
  },
  {
   "cell_type": "code",
   "execution_count": 69,
   "metadata": {},
   "outputs": [],
   "source": [
    "train_data = train_data.reshape(len(train_data),5,100,1)\n",
    "valid_data = valid_data.reshape(len(valid_data),5,100,1)\n",
    "test_data = test_data.reshape(len(test_data),5,100,1)"
   ]
  },
  {
   "cell_type": "code",
   "execution_count": 94,
   "metadata": {},
   "outputs": [],
   "source": [
    "model = models.Sequential(name=\"CNN Chrome\")\n",
    "# stage 1 => CONV 2D\n",
    "model.add(layers.Conv2D(25, 5, activation=\"relu\", input_shape=(5,100,1), padding=\"same\"))\n",
    "model.add(layers.MaxPooling2D(pool_size=5))\n",
    "# stage 2 => FNN\n",
    "model.add(layers.Flatten())\n",
    "model.add(layers.Dropout(0.5))\n",
    "model.add(layers.Dense(128, activation='relu'))\n",
    "model.add(layers.BatchNormalization())\n",
    "model.add(layers.Dense(256, activation='relu'))\n",
    "model.add(layers.BatchNormalization())\n",
    "model.add(layers.Dense(64, activation='relu'))\n",
    "# final stage\n",
    "model.add(layers.Dense(1, activation='sigmoid'))"
   ]
  },
  {
   "cell_type": "markdown",
   "metadata": {},
   "source": [
    "### Model - Deep CNN Chrome\n",
    "\n",
    "`loss: 0.4313 - auc: 0.8168 - accuracy: 0.7773`\n",
    "\n",
    "`model:Deep_CNN_Chrome | min: 0.6877831220626831 - max: 0.8880349397659302 - mean: 0.7763664754373687`"
   ]
  },
  {
   "cell_type": "code",
   "execution_count": 54,
   "metadata": {},
   "outputs": [],
   "source": [
    "train_data = train_data.reshape(len(train_data),5,100,1)\n",
    "valid_data = valid_data.reshape(len(valid_data),5,100,1)\n",
    "test_data = test_data.reshape(len(test_data),5,100,1)"
   ]
  },
  {
   "cell_type": "code",
   "execution_count": 58,
   "metadata": {},
   "outputs": [],
   "source": [
    "model = models.Sequential(name=\"Deep_CNN_Chrome\")\n",
    "# stage 1 => CONV 2D\n",
    "model.add(layers.Conv2D(50, 5, activation=\"relu\", input_shape=(5,100,1), padding=\"same\"))\n",
    "model.add(layers.MaxPooling2D(pool_size=2))\n",
    "# stage 2 => FNN\n",
    "model.add(layers.Flatten())\n",
    "# model.add(layers.Dropout(0.3))\n",
    "model.add(layers.Dense(64, activation='relu'))\n",
    "model.add(layers.BatchNormalization())\n",
    "model.add(layers.Dense(512, activation='relu'))\n",
    "model.add(layers.BatchNormalization())\n",
    "model.add(layers.Dense(64, activation='relu'))\n",
    "# final stage\n",
    "model.add(layers.Dense(1, activation='sigmoid'))"
   ]
  },
  {
   "cell_type": "markdown",
   "metadata": {},
   "source": [
    "## Training"
   ]
  },
  {
   "cell_type": "markdown",
   "metadata": {},
   "source": [
    "### Visualize the model"
   ]
  },
  {
   "cell_type": "code",
   "execution_count": 97,
   "metadata": {},
   "outputs": [
    {
     "name": "stdout",
     "output_type": "stream",
     "text": [
      "Model: \"UltraChrome\"\n",
      "_________________________________________________________________\n",
      "Layer (type)                 Output Shape              Param #   \n",
      "=================================================================\n",
      "conv1d_3 (Conv1D)            (None, 5, 50)             25050     \n",
      "_________________________________________________________________\n",
      "batch_normalization_15 (Batc (None, 5, 50)             200       \n",
      "_________________________________________________________________\n",
      "re_lu_4 (ReLU)               (None, 5, 50)             0         \n",
      "_________________________________________________________________\n",
      "max_pooling1d_3 (MaxPooling1 (None, 1, 50)             0         \n",
      "_________________________________________________________________\n",
      "flatten_9 (Flatten)          (None, 50)                0         \n",
      "_________________________________________________________________\n",
      "dropout_3 (Dropout)          (None, 50)                0         \n",
      "_________________________________________________________________\n",
      "dense_30 (Dense)             (None, 512)               26112     \n",
      "_________________________________________________________________\n",
      "batch_normalization_16 (Batc (None, 512)               2048      \n",
      "_________________________________________________________________\n",
      "dense_31 (Dense)             (None, 256)               131328    \n",
      "_________________________________________________________________\n",
      "batch_normalization_17 (Batc (None, 256)               1024      \n",
      "_________________________________________________________________\n",
      "dense_32 (Dense)             (None, 128)               32896     \n",
      "_________________________________________________________________\n",
      "dense_33 (Dense)             (None, 1)                 129       \n",
      "=================================================================\n",
      "Total params: 218,787\n",
      "Trainable params: 217,151\n",
      "Non-trainable params: 1,636\n",
      "_________________________________________________________________\n"
     ]
    }
   ],
   "source": [
    "model.summary()"
   ]
  },
  {
   "cell_type": "code",
   "execution_count": 98,
   "metadata": {},
   "outputs": [
    {
     "name": "stdout",
     "output_type": "stream",
     "text": [
      "Epoch 1/10\n",
      "11549/11549 [==============================] - 59s 5ms/step - loss: 0.5831 - auc: 0.7071 - accuracy: 0.6768 - val_loss: 0.6170 - val_auc: 0.7230 - val_accuracy: 0.6147\n",
      "Epoch 2/10\n",
      "11549/11549 [==============================] - 56s 5ms/step - loss: 0.5458 - auc: 0.7508 - accuracy: 0.6985 - val_loss: 0.6174 - val_auc: 0.7272 - val_accuracy: 0.6191\n",
      "Epoch 3/10\n",
      "11549/11549 [==============================] - 62s 5ms/step - loss: 0.5397 - auc: 0.7583 - accuracy: 0.7039 - val_loss: 0.6314 - val_auc: 0.7305 - val_accuracy: 0.6237\n",
      "Epoch 4/10\n",
      "11549/11549 [==============================] - 61s 5ms/step - loss: 0.5347 - auc: 0.7645 - accuracy: 0.7090 - val_loss: 0.6211 - val_auc: 0.7333 - val_accuracy: 0.6216\n",
      "Epoch 5/10\n",
      "11549/11549 [==============================] - 59s 5ms/step - loss: 0.5352 - auc: 0.7647 - accuracy: 0.7068 - val_loss: 0.6015 - val_auc: 0.7345 - val_accuracy: 0.6383\n",
      "Epoch 6/10\n",
      "11549/11549 [==============================] - 65s 6ms/step - loss: 0.5329 - auc: 0.7668 - accuracy: 0.7087 - val_loss: 0.5941 - val_auc: 0.7353 - val_accuracy: 0.6469\n",
      "Epoch 7/10\n",
      "11549/11549 [==============================] - 60s 5ms/step - loss: 0.5299 - auc: 0.7702 - accuracy: 0.7102 - val_loss: 0.6200 - val_auc: 0.7307 - val_accuracy: 0.6133\n",
      "Epoch 8/10\n",
      "11549/11549 [==============================] - 64s 6ms/step - loss: 0.5284 - auc: 0.7714 - accuracy: 0.7117 - val_loss: 0.5943 - val_auc: 0.7342 - val_accuracy: 0.6445\n",
      "Epoch 9/10\n",
      "11549/11549 [==============================] - 64s 6ms/step - loss: 0.5278 - auc: 0.7721 - accuracy: 0.7120 - val_loss: 0.5978 - val_auc: 0.7360 - val_accuracy: 0.6475\n",
      "Epoch 10/10\n",
      "11549/11549 [==============================] - 65s 6ms/step - loss: 0.5258 - auc: 0.7744 - accuracy: 0.7135 - val_loss: 0.5969 - val_auc: 0.7334 - val_accuracy: 0.6438\n"
     ]
    }
   ],
   "source": [
    "model.compile(optimizer=\"adam\", loss=tf.keras.losses.BinaryCrossentropy(from_logits=True), metrics=[\"AUC\",\"accuracy\"])\n",
    "\n",
    "# history = model.fit(train_data, train_labels, epochs=10, validation_data=(valid_data, valid_labels))\n",
    "history = model.fit(valid_data, valid_labels, epochs=10, validation_data=(train_data, train_labels))"
   ]
  },
  {
   "cell_type": "code",
   "execution_count": 99,
   "metadata": {},
   "outputs": [
    {
     "data": {
      "image/png": "[encoded data removed]",
      "text/plain": [
       "<Figure size 432x288 with 1 Axes>"
      ]
     },
     "metadata": {
      "needs_background": "light"
     },
     "output_type": "display_data"
    },
    {
     "data": {
      "image/png": "[encoded data removed]",
      "text/plain": [
       "<Figure size 432x288 with 1 Axes>"
      ]
     },
     "metadata": {
      "needs_background": "light"
     },
     "output_type": "display_data"
    },
    {
     "data": {
      "image/png": "[encoded data removed]",
      "text/plain": [
       "<Figure size 432x288 with 1 Axes>"
      ]
     },
     "metadata": {
      "needs_background": "light"
     },
     "output_type": "display_data"
    }
   ],
   "source": [
    "plot_metrics(history)"
   ]
  },
  {
   "cell_type": "markdown",
   "metadata": {},
   "source": [
    "## Testing\n",
    "> **Only once we have chosen the hyper-parameters! Avoid tuning on test set.**"
   ]
  },
  {
   "cell_type": "markdown",
   "metadata": {},
   "source": [
    "### Metrics"
   ]
  },
  {
   "cell_type": "code",
   "execution_count": 100,
   "metadata": {},
   "outputs": [
    {
     "name": "stdout",
     "output_type": "stream",
     "text": [
      "11545/11545 - 20s - loss: 0.4402 - auc: 0.7986 - accuracy: 0.7795\n"
     ]
    }
   ],
   "source": [
    "test_loss, test_auc, test_acc = model.evaluate(test_data, test_labels, verbose=2)"
   ]
  },
  {
   "cell_type": "markdown",
   "metadata": {},
   "source": [
    "### Separated metrics"
   ]
  },
  {
   "cell_type": "code",
   "execution_count": 101,
   "metadata": {},
   "outputs": [
    {
     "name": "stdout",
     "output_type": "stream",
     "text": [
      "207/207 [==============================] - 0s 2ms/step - loss: 0.4309 - auc: 0.7709 - accuracy: 0.7926\n",
      "207/207 [==============================] - 0s 2ms/step - loss: 0.4577 - auc: 0.8013 - accuracy: 0.7617\n",
      "207/207 [==============================] - 0s 2ms/step - loss: 0.4638 - auc: 0.8104 - accuracy: 0.7531\n",
      "207/207 [==============================] - 0s 2ms/step - loss: 0.4617 - auc: 0.8082 - accuracy: 0.7461\n",
      "207/207 [==============================] - 0s 2ms/step - loss: 0.4179 - auc: 0.7769 - accuracy: 0.8048\n",
      "207/207 [==============================] - 0s 2ms/step - loss: 0.4134 - auc: 0.7618 - accuracy: 0.8079\n",
      "207/207 [==============================] - 0s 2ms/step - loss: 0.4234 - auc: 0.7763 - accuracy: 0.7945\n",
      "207/207 [==============================] - 0s 2ms/step - loss: 0.4295 - auc: 0.7977 - accuracy: 0.7945\n",
      "207/207 [==============================] - 0s 2ms/step - loss: 0.4310 - auc: 0.7759 - accuracy: 0.7907\n",
      "207/207 [==============================] - 0s 2ms/step - loss: 0.4337 - auc: 0.7744 - accuracy: 0.7967\n",
      "207/207 [==============================] - 0s 2ms/step - loss: 0.4631 - auc: 0.8060 - accuracy: 0.7720\n",
      "207/207 [==============================] - 0s 2ms/step - loss: 0.4608 - auc: 0.8001 - accuracy: 0.7605\n",
      "207/207 [==============================] - 0s 2ms/step - loss: 0.4901 - auc: 0.7933 - accuracy: 0.7332\n",
      "207/207 [==============================] - 0s 2ms/step - loss: 0.4926 - auc: 0.8044 - accuracy: 0.7247\n",
      "207/207 [==============================] - 0s 2ms/step - loss: 0.4837 - auc: 0.8079 - accuracy: 0.7344\n",
      "207/207 [==============================] - 0s 2ms/step - loss: 0.4147 - auc: 0.7928 - accuracy: 0.7979\n",
      "207/207 [==============================] - 0s 2ms/step - loss: 0.4214 - auc: 0.8026 - accuracy: 0.7855\n",
      "207/207 [==============================] - 0s 2ms/step - loss: 0.4259 - auc: 0.7932 - accuracy: 0.7870\n",
      "207/207 [==============================] - 0s 2ms/step - loss: 0.4366 - auc: 0.8315 - accuracy: 0.7816\n",
      "207/207 [==============================] - 0s 2ms/step - loss: 0.4777 - auc: 0.8747 - accuracy: 0.7347\n",
      "207/207 [==============================] - 0s 2ms/step - loss: 0.4634 - auc: 0.8669 - accuracy: 0.7717\n",
      "207/207 [==============================] - 0s 2ms/step - loss: 0.4284 - auc: 0.8305 - accuracy: 0.7864\n",
      "207/207 [==============================] - 0s 2ms/step - loss: 0.4905 - auc: 0.8644 - accuracy: 0.7132\n",
      "207/207 [==============================] - 0s 2ms/step - loss: 0.4286 - auc: 0.8288 - accuracy: 0.7837\n",
      "207/207 [==============================] - 0s 2ms/step - loss: 0.4910 - auc: 0.7982 - accuracy: 0.7347\n",
      "207/207 [==============================] - 0s 2ms/step - loss: 0.4411 - auc: 0.7470 - accuracy: 0.7929\n",
      "207/207 [==============================] - 0s 2ms/step - loss: 0.4549 - auc: 0.8062 - accuracy: 0.7534: 0s - loss: 0.4563 - auc: 0.8044 - accuracy: 0.75\n",
      "207/207 [==============================] - 0s 2ms/step - loss: 0.4505 - auc: 0.7676 - accuracy: 0.7694\n",
      "207/207 [==============================] - 0s 2ms/step - loss: 0.4298 - auc: 0.7271 - accuracy: 0.8058\n",
      "207/207 [==============================] - 0s 2ms/step - loss: 0.4083 - auc: 0.7349 - accuracy: 0.8269\n",
      "207/207 [==============================] - 0s 2ms/step - loss: 0.4471 - auc: 0.7823 - accuracy: 0.7663\n",
      "207/207 [==============================] - 0s 2ms/step - loss: 0.4032 - auc: 0.7367 - accuracy: 0.8333\n",
      "207/207 [==============================] - 0s 2ms/step - loss: 0.4255 - auc: 0.7376 - accuracy: 0.8081\n",
      "207/207 [==============================] - 0s 2ms/step - loss: 0.4114 - auc: 0.7345 - accuracy: 0.8358\n",
      "207/207 [==============================] - 0s 2ms/step - loss: 0.4079 - auc: 0.7317 - accuracy: 0.8313\n",
      "207/207 [==============================] - 0s 2ms/step - loss: 0.4454 - auc: 0.8147 - accuracy: 0.7569\n",
      "207/207 [==============================] - 0s 2ms/step - loss: 0.4047 - auc: 0.7156 - accuracy: 0.8370\n",
      "207/207 [==============================] - 0s 2ms/step - loss: 0.4144 - auc: 0.7515 - accuracy: 0.8095\n",
      "207/207 [==============================] - 0s 2ms/step - loss: 0.4250 - auc: 0.7418 - accuracy: 0.8105\n",
      "207/207 [==============================] - 0s 2ms/step - loss: 0.4776 - auc: 0.8838 - accuracy: 0.7338\n",
      "207/207 [==============================] - 0s 2ms/step - loss: 0.4320 - auc: 0.7723 - accuracy: 0.7907\n",
      "207/207 [==============================] - 0s 2ms/step - loss: 0.4290 - auc: 0.7804 - accuracy: 0.7834\n",
      "207/207 [==============================] - 0s 2ms/step - loss: 0.3956 - auc: 0.7541 - accuracy: 0.8237\n",
      "207/207 [==============================] - 0s 2ms/step - loss: 0.4083 - auc: 0.7283 - accuracy: 0.8322\n",
      "207/207 [==============================] - 0s 2ms/step - loss: 0.3883 - auc: 0.7034 - accuracy: 0.8511\n",
      "207/207 [==============================] - 0s 2ms/step - loss: 0.4116 - auc: 0.7165 - accuracy: 0.8334\n",
      "207/207 [==============================] - 0s 2ms/step - loss: 0.4359 - auc: 0.8268 - accuracy: 0.7675\n",
      "207/207 [==============================] - 0s 2ms/step - loss: 0.4911 - auc: 0.8833 - accuracy: 0.7162\n",
      "207/207 [==============================] - 0s 2ms/step - loss: 0.4783 - auc: 0.8894 - accuracy: 0.7105\n",
      "207/207 [==============================] - 0s 2ms/step - loss: 0.4361 - auc: 0.8353 - accuracy: 0.7540\n",
      "207/207 [==============================] - 0s 2ms/step - loss: 0.4395 - auc: 0.8212 - accuracy: 0.7702\n",
      "207/207 [==============================] - 0s 2ms/step - loss: 0.4351 - auc: 0.8328 - accuracy: 0.7693\n",
      "207/207 [==============================] - 1s 2ms/step - loss: 0.4407 - auc: 0.8298 - accuracy: 0.7620\n",
      "207/207 [==============================] - 0s 2ms/step - loss: 0.4804 - auc: 0.8979 - accuracy: 0.7328\n",
      "207/207 [==============================] - 0s 2ms/step - loss: 0.4359 - auc: 0.8295 - accuracy: 0.7717\n",
      "207/207 [==============================] - 0s 2ms/step - loss: 0.4367 - auc: 0.8271 - accuracy: 0.7667\n",
      "UltraChrome | min: 0.703437089920044 - max: 0.8978993892669678 - mean: 0.7944730956639562\n"
     ]
    }
   ],
   "source": [
    "losses = []\n",
    "aucs = []\n",
    "accs = []\n",
    "unit = 6597\n",
    "for i in range(56):    \n",
    "    test_loss, test_auc, test_acc = model.evaluate(test_data[i*unit:(i+1)*unit], test_labels[i*unit:(i+1)*unit], verbose=1)\n",
    "    losses.append(test_loss)\n",
    "    aucs.append(test_auc)\n",
    "    accs.append(test_acc)\n",
    "print(f\"{model.name} | min: {min(aucs)} - max: {max(aucs)} - mean: {np.mean(aucs)}\")"
   ]
  },
  {
   "cell_type": "code",
   "execution_count": null,
   "metadata": {},
   "outputs": [],
   "source": []
  }
 ],
 "metadata": {
  "kernelspec": {
   "display_name": "Python 3",
   "language": "python",
   "name": "python3"
  },
  "language_info": {
   "codemirror_mode": {
    "name": "ipython",
    "version": 3
   },
   "file_extension": ".py",
   "mimetype": "text/x-python",
   "name": "python",
   "nbconvert_exporter": "python",
   "pygments_lexer": "ipython3",
   "version": "3.8.5"
  }
 },
 "nbformat": 4,
 "nbformat_minor": 4
}
