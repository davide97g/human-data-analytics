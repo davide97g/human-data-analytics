{
 "cells": [
  {
   "cell_type": "markdown",
   "metadata": {},
   "source": [
    "## Imports"
   ]
  },
  {
   "cell_type": "code",
   "execution_count": 27,
   "metadata": {},
   "outputs": [],
   "source": [
    "import tensorflow as tf\n",
    "from tensorflow.keras import layers, models\n",
    "from sklearn import preprocessing\n",
    "import matplotlib.pyplot as plt\n",
    "\n",
    "import pandas as pd\n",
    "import numpy as np\n",
    "import os\n",
    "from progress.bar import Bar"
   ]
  },
  {
   "cell_type": "markdown",
   "metadata": {},
   "source": [
    "## Load the data"
   ]
  },
  {
   "cell_type": "code",
   "execution_count": 28,
   "metadata": {},
   "outputs": [],
   "source": [
    "data_path = \"../../dataset/data/\"\n",
    "HM_names = [\"H3K27me3\", \"H3K26me3\", \"H3K4me1\", \"H3K4me3\", \"H3K9me3\"]\n",
    "columns_names = [\"geneID\", \"binID\", \"HM1\", \"HM2\", \"HM3\", \"HM4\", \"HM5\", \"label\"]"
   ]
  },
  {
   "cell_type": "code",
   "execution_count": 29,
   "metadata": {},
   "outputs": [],
   "source": [
    "def load_datasets(folder_name):    \n",
    "    # ? test.csv\n",
    "    test_df = pd.read_csv(f\"{data_path}{folder_name}/classification/test.csv\", header=None, names=columns_names,)\n",
    "    # ? train.csv\n",
    "    train_df = pd.read_csv(f\"{data_path}{folder_name}/classification/train.csv\", header=None, names=columns_names,)\n",
    "    # ? valid.csv\n",
    "    valid_df = pd.read_csv(f\"{data_path}{folder_name}/classification/valid.csv\", header=None, names=columns_names,)\n",
    "    return (train_df, valid_df, test_df)"
   ]
  },
  {
   "cell_type": "code",
   "execution_count": 30,
   "metadata": {},
   "outputs": [],
   "source": [
    "def create_dataset(df, maxElements):\n",
    "    data = []\n",
    "    labels = []\n",
    "    genes_inserted = {}\n",
    "\n",
    "    range_ = range(int(len(df) / 100))\n",
    "    if maxElements:\n",
    "        range_ = range_[:maxElements]\n",
    "    #bar = Bar(\"\\t- creating datasets\", max=len(range_))\n",
    "    for i in range_:  # todo: remove this limit to consider the full dataset\n",
    "        geneID = df.iloc[i * 100][\"geneID\"]\n",
    "        if genes_inserted.get(geneID) is None:\n",
    "            genes_inserted[geneID] = True\n",
    "\n",
    "            df_gene = df.loc[df[\"geneID\"] == geneID]\n",
    "\n",
    "            labels.append(df_gene.iloc[0][\"label\"])  # ? saving the label once and for all the gene\n",
    "            # ? extract the whole list of values for the different HMs as a matrix\n",
    "            # ! I had to put [:100] to limit the errors on the input data (e.i. some genes where duplicates)\n",
    "            gene_data = [\n",
    "                list(df_gene[\"HM1\"])[:100],\n",
    "                list(df_gene[\"HM2\"])[:100],\n",
    "                list(df_gene[\"HM3\"])[:100],\n",
    "                list(df_gene[\"HM4\"])[:100],\n",
    "                list(df_gene[\"HM5\"])[:100],\n",
    "            ]\n",
    "            data.append(preprocessing.normalize(gene_data))\n",
    "        #bar.next()\n",
    "    #bar.finish()\n",
    "    return (data, labels)\n"
   ]
  },
  {
   "cell_type": "code",
   "execution_count": 31,
   "metadata": {},
   "outputs": [],
   "source": [
    "def to_numpy(data, labels):\n",
    "    #bar = Bar(\"\\t- converting to numpy format\", max=len(data))\n",
    "    numpy_data = np.array([])\n",
    "    for gene in data:\n",
    "        numpy_gene = np.array([])\n",
    "        for bins in gene:\n",
    "            numpy_gene = np.append(numpy_gene, np.array(bins))\n",
    "        numpy_data = np.append(numpy_data, numpy_gene)\n",
    "        #bar.next()\n",
    "    #bar.finish()\n",
    "    numpy_data = numpy_data.reshape(len(data), 5, 100, 1)\n",
    "    numpy_labels = np.array(labels)\n",
    "    return numpy_data, numpy_labels"
   ]
  },
  {
   "cell_type": "code",
   "execution_count": 38,
   "metadata": {},
   "outputs": [],
   "source": [
    "def load(maxFolders=None, maxElements=None):\n",
    "\n",
    "    full_train_data = np.array([])\n",
    "    full_valid_data = np.array([])\n",
    "    full_test_data = np.array([])\n",
    "    full_train_labels = np.array([])\n",
    "    full_valid_labels = np.array([])\n",
    "    full_test_labels = np.array([])\n",
    "\n",
    "    dirs = os.listdir(data_path)\n",
    "    if maxFolders:\n",
    "        dirs = dirs[:maxFolders]    \n",
    "    for folder in dirs:\n",
    "        folder_files =  os.listdir(data_path+folder)\n",
    "        if len(folder_files)==1:\n",
    "            (train_data, train_labels), (valid_data, valid_labels), (test_data, test_labels) = load_folder(\n",
    "                folder, maxElements\n",
    "            )\n",
    "        else:\n",
    "            (train_data, train_labels), (valid_data, valid_labels), (test_data, test_labels) = load_clean_data(folder)\n",
    "            print(f\"{folder} loaded\")\n",
    "        \n",
    "        # append to the full np array\n",
    "        \n",
    "        # train\n",
    "        full_train_data = np.append(full_train_data, train_data)\n",
    "        full_train_labels = np.append(full_train_labels, train_labels)\n",
    "        # valid\n",
    "        full_valid_data = np.append(full_valid_data, valid_data)\n",
    "        full_valid_labels = np.append(full_valid_labels, valid_labels)\n",
    "        # test\n",
    "        full_test_data = np.append(full_test_data, test_data)\n",
    "        full_test_labels = np.append(full_test_labels, test_labels)\n",
    "\n",
    "    # ? reshaping\n",
    "    full_train_data = full_train_data.reshape(len(full_train_labels), 5, 100, 1)\n",
    "    full_valid_data = full_valid_data.reshape(len(full_valid_labels), 5, 100, 1)\n",
    "    full_test_data = full_test_data.reshape(len(full_test_labels), 5, 100, 1)\n",
    "\n",
    "    return (\n",
    "        (full_train_data, full_train_labels),\n",
    "        (full_valid_data, full_valid_labels),\n",
    "        (full_test_data, full_test_labels),\n",
    "    )"
   ]
  },
  {
   "cell_type": "code",
   "execution_count": 39,
   "metadata": {},
   "outputs": [],
   "source": [
    "def load_folder(folder_name, maxElements=None):\n",
    "    print(folder_name)\n",
    "    # loading the datasets\n",
    "    print(\"\\tloading\")\n",
    "    train_df, valid_df, test_df = load_datasets(folder_name)\n",
    "\n",
    "    # create the datasets with the correct format\n",
    "    print(\"\\tcreating datasets\")\n",
    "    train_data, train_labels = create_dataset(train_df, maxElements)\n",
    "    valid_data, valid_labels = create_dataset(valid_df, maxElements)\n",
    "    test_data, test_labels = create_dataset(test_df, maxElements)\n",
    "\n",
    "    # numpy arrays\n",
    "    print(\"\\tto numpy\")\n",
    "    train_data, train_labels = to_numpy(train_data, train_labels)\n",
    "    valid_data, valid_labels = to_numpy(valid_data, valid_labels)\n",
    "    test_data, test_labels = to_numpy(test_data, test_labels)\n",
    "    \n",
    "    # saving data to file\n",
    "    print(\"\\tsaving data\")\n",
    "    save_data(folder_name, train_data, train_labels, valid_data, valid_labels, test_data, test_labels)\n",
    "\n",
    "    # return tris of tuples (data,labels)\n",
    "    return ((train_data, train_labels), (valid_data, valid_labels), (test_data, test_labels))\n"
   ]
  },
  {
   "cell_type": "markdown",
   "metadata": {},
   "source": [
    "### Save data"
   ]
  },
  {
   "cell_type": "code",
   "execution_count": 40,
   "metadata": {},
   "outputs": [],
   "source": [
    "''' \n",
    "    save the data in the correct format in order to speed up future loading time\n",
    "'''\n",
    "def save_data(folder_name, train_data, train_labels, valid_data, valid_labels, test_data, test_labels):\n",
    "    train_data = train_data.reshape(len(train_data),5,100)\n",
    "    valid_data = valid_data.reshape(len(valid_data),5,100)\n",
    "    test_data = test_data.reshape(len(test_data),5,100)\n",
    "    # data\n",
    "    np.save(f\"{data_path}{folder_name}/train_data.npy\", train_data)\n",
    "    np.save(f\"{data_path}{folder_name}/valid_data.npy\", valid_data)\n",
    "    np.save(f\"{data_path}{folder_name}/test_data.npy\", test_data)\n",
    "    # labels\n",
    "    np.save(f\"{data_path}{folder_name}/train_labels.npy\", train_labels)\n",
    "    np.save(f\"{data_path}{folder_name}/valid_labels.npy\", valid_labels)\n",
    "    np.save(f\"{data_path}{folder_name}/test_labels.npy\", test_labels)\n",
    "    "
   ]
  },
  {
   "cell_type": "markdown",
   "metadata": {},
   "source": [
    "### Load data"
   ]
  },
  {
   "cell_type": "code",
   "execution_count": 41,
   "metadata": {},
   "outputs": [],
   "source": [
    "def load_clean_data(folder_name):\n",
    "    # data\n",
    "    train_data = np.load(f\"{data_path}{folder_name}/train_data.npy\")\n",
    "    valid_data = np.load(f\"{data_path}{folder_name}/valid_data.npy\")\n",
    "    test_data = np.load(f\"{data_path}{folder_name}/test_data.npy\")\n",
    "    # labels\n",
    "    train_labels = np.load(f\"{data_path}{folder_name}/train_labels.npy\")\n",
    "    valid_labels = np.load(f\"{data_path}{folder_name}/valid_labels.npy\")\n",
    "    test_labels = np.load(f\"{data_path}{folder_name}/test_labels.npy\")\n",
    "    # return complete tuples\n",
    "    return ((train_data, train_labels), (valid_data, valid_labels), (test_data, test_labels))"
   ]
  },
  {
   "cell_type": "markdown",
   "metadata": {},
   "source": [
    "## Create the model"
   ]
  },
  {
   "cell_type": "markdown",
   "metadata": {},
   "source": [
    "### Load the data"
   ]
  },
  {
   "cell_type": "code",
   "execution_count": null,
   "metadata": {},
   "outputs": [
    {
     "name": "stdout",
     "output_type": "stream",
     "text": [
      "E003 loaded\n",
      "E004\n",
      "\tloading\n",
      "\tcreating datasets\n",
      "\tto numpy\n",
      "\tsaving data\n",
      "E005\n",
      "\tloading\n",
      "\tcreating datasets\n",
      "\tto numpy\n",
      "\tsaving data\n",
      "E006\n",
      "\tloading\n",
      "\tcreating datasets\n",
      "\tto numpy\n",
      "\tsaving data\n",
      "E007\n",
      "\tloading\n",
      "\tcreating datasets\n",
      "\tto numpy\n"
     ]
    }
   ],
   "source": [
    "(train_data, train_labels), (valid_data, valid_labels), (test_data, test_labels) = load()"
   ]
  },
  {
   "cell_type": "code",
   "execution_count": 14,
   "metadata": {},
   "outputs": [
    {
     "name": "stdout",
     "output_type": "stream",
     "text": [
      "- 65990 training genes\n",
      "- 65990 validation genes\n",
      "- 65970 test genes\n"
     ]
    }
   ],
   "source": [
    "# visualize some stats about the data\n",
    "print(f\"- {len(train_data)} training genes\")\n",
    "print(f\"- {len(valid_data)} validation genes\")\n",
    "print(f\"- {len(test_data)} test genes\")"
   ]
  },
  {
   "cell_type": "markdown",
   "metadata": {},
   "source": [
    "### Model 1\n",
    "Basic model"
   ]
  },
  {
   "cell_type": "code",
   "execution_count": 15,
   "metadata": {},
   "outputs": [],
   "source": [
    "train_data = train_data.reshape(len(train_data),5,100,1)\n",
    "valid_data = valid_data.reshape(len(valid_data),5,100,1)\n",
    "test_data = test_data.reshape(len(test_data),5,100,1)"
   ]
  },
  {
   "cell_type": "code",
   "execution_count": 16,
   "metadata": {},
   "outputs": [],
   "source": [
    "model = models.Sequential()\n",
    "model.add(layers.Flatten(input_shape=(5, 100, 1)))\n",
    "model.add(layers.Dense(512, activation=\"relu\"))\n",
    "model.add(layers.BatchNormalization())\n",
    "model.add(layers.Dense(256, activation=\"relu\"))\n",
    "model.add(layers.BatchNormalization())\n",
    "model.add(layers.Dense(128, activation=\"relu\"))\n",
    "model.add(layers.BatchNormalization())\n",
    "model.add(layers.Dense(64, activation=\"relu\"))\n",
    "model.add(layers.BatchNormalization())\n",
    "model.add(layers.Dense(32, activation=\"relu\"))\n",
    "model.add(layers.Dense(1, activation=\"sigmoid\"))"
   ]
  },
  {
   "cell_type": "markdown",
   "metadata": {},
   "source": [
    "### Model - DeepChrome"
   ]
  },
  {
   "cell_type": "code",
   "execution_count": 17,
   "metadata": {},
   "outputs": [],
   "source": [
    "train_data = train_data.reshape(len(train_data),5,100)\n",
    "valid_data = valid_data.reshape(len(valid_data),5,100)\n",
    "test_data = test_data.reshape(len(test_data),5,100)"
   ]
  },
  {
   "cell_type": "code",
   "execution_count": 18,
   "metadata": {},
   "outputs": [],
   "source": [
    "model = models.Sequential()\n",
    "# stage 1\n",
    "model.add(layers.Conv1D(10, 5, activation=\"relu\", input_shape=(5,100), padding=\"same\"))\n",
    "model.add(layers.BatchNormalization())\n",
    "model.add(layers.ReLU())\n",
    "model.add(layers.MaxPooling1D(pool_size=5))\n",
    "# stage 2\n",
    "model.add(layers.Flatten())\n",
    "model.add(layers.Dropout(0.5))\n",
    "model.add(layers.Dense(625, activation='linear'))\n",
    "model.add(layers.ReLU())\n",
    "model.add(layers.Dense(125, activation='linear'))\n",
    "# stage 3\n",
    "model.add(layers.Dense(125, activation='relu'))\n",
    "model.add(layers.Dense(1, activation='sigmoid'))"
   ]
  },
  {
   "cell_type": "markdown",
   "metadata": {},
   "source": [
    "### Model - UltraChrome"
   ]
  },
  {
   "cell_type": "code",
   "execution_count": 11,
   "metadata": {},
   "outputs": [],
   "source": [
    "train_data = train_data.reshape(len(train_data),5,100)\n",
    "valid_data = valid_data.reshape(len(valid_data),5,100)\n",
    "test_data = test_data.reshape(len(test_data),5,100)"
   ]
  },
  {
   "cell_type": "code",
   "execution_count": 12,
   "metadata": {},
   "outputs": [],
   "source": [
    "# deepchrome model\n",
    "model = models.Sequential()\n",
    "# stage 1 => CNN\n",
    "model.add(layers.Conv1D(10, 5, activation=\"relu\", input_shape=(5,100), padding=\"same\"))\n",
    "model.add(layers.BatchNormalization())\n",
    "model.add(layers.ReLU())\n",
    "model.add(layers.MaxPooling1D(pool_size=5))\n",
    "# stage 2 => FNN\n",
    "model.add(layers.Flatten())\n",
    "model.add(layers.Dropout(0.5))\n",
    "model.add(layers.Dense(250, activation='relu'))\n",
    "model.add(layers.BatchNormalization())\n",
    "model.add(layers.Dense(625, activation='relu'))\n",
    "model.add(layers.BatchNormalization())\n",
    "model.add(layers.Dense(250, activation='relu'))\n",
    "model.add(layers.BatchNormalization())\n",
    "model.add(layers.Dense(125, activation='relu'))\n",
    "model.add(layers.BatchNormalization())\n",
    "model.add(layers.Dense(125, activation='relu'))\n",
    "# final stage\n",
    "model.add(layers.Dense(1, activation='sigmoid'))"
   ]
  },
  {
   "cell_type": "code",
   "execution_count": 19,
   "metadata": {},
   "outputs": [
    {
     "name": "stdout",
     "output_type": "stream",
     "text": [
      "Model: \"sequential_1\"\n",
      "_________________________________________________________________\n",
      "Layer (type)                 Output Shape              Param #   \n",
      "=================================================================\n",
      "conv1d (Conv1D)              (None, 5, 10)             5010      \n",
      "_________________________________________________________________\n",
      "batch_normalization_4 (Batch (None, 5, 10)             40        \n",
      "_________________________________________________________________\n",
      "re_lu (ReLU)                 (None, 5, 10)             0         \n",
      "_________________________________________________________________\n",
      "max_pooling1d (MaxPooling1D) (None, 1, 10)             0         \n",
      "_________________________________________________________________\n",
      "flatten_1 (Flatten)          (None, 10)                0         \n",
      "_________________________________________________________________\n",
      "dropout (Dropout)            (None, 10)                0         \n",
      "_________________________________________________________________\n",
      "dense_6 (Dense)              (None, 625)               6875      \n",
      "_________________________________________________________________\n",
      "re_lu_1 (ReLU)               (None, 625)               0         \n",
      "_________________________________________________________________\n",
      "dense_7 (Dense)              (None, 125)               78250     \n",
      "_________________________________________________________________\n",
      "dense_8 (Dense)              (None, 125)               15750     \n",
      "_________________________________________________________________\n",
      "dense_9 (Dense)              (None, 1)                 126       \n",
      "=================================================================\n",
      "Total params: 106,051\n",
      "Trainable params: 106,031\n",
      "Non-trainable params: 20\n",
      "_________________________________________________________________\n"
     ]
    }
   ],
   "source": [
    "model.summary()"
   ]
  },
  {
   "cell_type": "markdown",
   "metadata": {},
   "source": [
    "## Train & evaluate the model"
   ]
  },
  {
   "cell_type": "code",
   "execution_count": 20,
   "metadata": {},
   "outputs": [
    {
     "name": "stdout",
     "output_type": "stream",
     "text": [
      "Epoch 1/10\n",
      "2063/2063 [==============================] - 8s 3ms/step - loss: 0.6477 - accuracy: 0.6305 - val_loss: 0.6270 - val_accuracy: 0.6872\n",
      "Epoch 2/10\n",
      "2063/2063 [==============================] - 7s 3ms/step - loss: 0.6141 - accuracy: 0.6372 - val_loss: 0.6121 - val_accuracy: 0.6861\n",
      "Epoch 3/10\n",
      "2063/2063 [==============================] - 6s 3ms/step - loss: 0.6097 - accuracy: 0.6375 - val_loss: 0.5975 - val_accuracy: 0.6756\n",
      "Epoch 4/10\n",
      "2063/2063 [==============================] - 6s 3ms/step - loss: 0.6033 - accuracy: 0.6394 - val_loss: 0.5825 - val_accuracy: 0.6887\n",
      "Epoch 5/10\n",
      "2063/2063 [==============================] - 6s 3ms/step - loss: 0.6036 - accuracy: 0.6375 - val_loss: 0.5861 - val_accuracy: 0.6757\n",
      "Epoch 6/10\n",
      "2063/2063 [==============================] - 6s 3ms/step - loss: 0.5998 - accuracy: 0.6412 - val_loss: 0.6150 - val_accuracy: 0.6593\n",
      "Epoch 7/10\n",
      "2063/2063 [==============================] - 6s 3ms/step - loss: 0.6014 - accuracy: 0.6424 - val_loss: 0.5961 - val_accuracy: 0.6802\n",
      "Epoch 8/10\n",
      "2063/2063 [==============================] - 6s 3ms/step - loss: 0.5968 - accuracy: 0.6466 - val_loss: 0.5957 - val_accuracy: 0.6727\n",
      "Epoch 9/10\n",
      "2063/2063 [==============================] - 6s 3ms/step - loss: 0.5980 - accuracy: 0.6438 - val_loss: 0.5796 - val_accuracy: 0.6749\n",
      "Epoch 10/10\n",
      "2063/2063 [==============================] - 6s 3ms/step - loss: 0.5993 - accuracy: 0.6460 - val_loss: 0.6091 - val_accuracy: 0.6674\n"
     ]
    }
   ],
   "source": [
    "model.compile(optimizer=\"adam\", loss=tf.keras.losses.BinaryCrossentropy(from_logits=True), metrics=[\"accuracy\"])\n",
    "\n",
    "history = model.fit(train_data, train_labels, epochs=10, validation_data=(valid_data, valid_labels))"
   ]
  },
  {
   "cell_type": "markdown",
   "metadata": {},
   "source": [
    "#### Accuracy"
   ]
  },
  {
   "cell_type": "code",
   "execution_count": 21,
   "metadata": {},
   "outputs": [
    {
     "data": {
      "image/png": "[encoded data removed]",
      "text/plain": [
       "<Figure size 432x288 with 1 Axes>"
      ]
     },
     "metadata": {
      "needs_background": "light"
     },
     "output_type": "display_data"
    }
   ],
   "source": [
    "plt.plot(history.history[\"accuracy\"], label=\"accuracy\")\n",
    "plt.plot(history.history[\"val_accuracy\"], label=\"val_accuracy\")\n",
    "plt.xlabel(\"Epoch\")\n",
    "plt.ylabel(\"Accuracy\")\n",
    "plt.ylim([0.5, 1])\n",
    "plt.legend(loc=\"lower right\")\n",
    "plt.show()"
   ]
  },
  {
   "cell_type": "markdown",
   "metadata": {},
   "source": [
    "#### Loss"
   ]
  },
  {
   "cell_type": "code",
   "execution_count": 22,
   "metadata": {},
   "outputs": [
    {
     "data": {
      "image/png": "[encoded data removed]",
      "text/plain": [
       "<Figure size 432x288 with 1 Axes>"
      ]
     },
     "metadata": {
      "needs_background": "light"
     },
     "output_type": "display_data"
    }
   ],
   "source": [
    "plt.plot(history.history[\"loss\"], label=\"loss\")\n",
    "plt.plot(history.history[\"val_loss\"], label=\"val_loss\")\n",
    "plt.xlabel(\"Epoch\")\n",
    "plt.ylabel(\"Loss\")\n",
    "plt.ylim([0,1])\n",
    "plt.legend(loc=\"lower right\")\n",
    "plt.show()"
   ]
  },
  {
   "cell_type": "markdown",
   "metadata": {},
   "source": [
    "#### Test accuracy & loss"
   ]
  },
  {
   "cell_type": "code",
   "execution_count": 23,
   "metadata": {},
   "outputs": [
    {
     "name": "stdout",
     "output_type": "stream",
     "text": [
      "2062/2062 - 1s - loss: 0.5526 - accuracy: 0.7508\n"
     ]
    }
   ],
   "source": [
    "# check test accuracy and loss\n",
    "test_loss, test_acc = model.evaluate(test_data, test_labels, verbose=2)"
   ]
  },
  {
   "cell_type": "markdown",
   "metadata": {},
   "source": [
    "#### AUC score"
   ]
  },
  {
   "cell_type": "code",
   "execution_count": 24,
   "metadata": {},
   "outputs": [
    {
     "name": "stdout",
     "output_type": "stream",
     "text": [
      "AUC: 0.7598234415054321\n"
     ]
    }
   ],
   "source": [
    "m = tf.keras.metrics.AUC()\n",
    "m.update_state(test_labels,model.predict(test_data))\n",
    "print(f\"AUC: {m.result().numpy()}\")"
   ]
  },
  {
   "cell_type": "code",
   "execution_count": null,
   "metadata": {},
   "outputs": [],
   "source": []
  }
 ],
 "metadata": {
  "kernelspec": {
   "display_name": "Python 3",
   "language": "python",
   "name": "python3"
  },
  "language_info": {
   "codemirror_mode": {
    "name": "ipython",
    "version": 3
   },
   "file_extension": ".py",
   "mimetype": "text/x-python",
   "name": "python",
   "nbconvert_exporter": "python",
   "pygments_lexer": "ipython3",
   "version": "3.7.6"
  }
 },
 "nbformat": 4,
 "nbformat_minor": 4
}
